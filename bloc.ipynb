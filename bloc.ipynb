{
 "cells": [
  {
   "cell_type": "markdown",
   "metadata": {},
   "source": [
    "# bloc"
   ]
  },
  {
   "cell_type": "markdown",
   "metadata": {},
   "source": [
    "## concept programming notepad"
   ]
  },
  {
   "cell_type": "markdown",
   "metadata": {},
   "source": [
    "Concept programming here does not mean the term by Alexsandr Stepanov here: https://en.wikipedia.org/wiki/Concept_(generic_programming)"
   ]
  },
  {
   "cell_type": "markdown",
   "metadata": {},
   "source": [
    "CP is a programming model described in the works of Enn Heraldovich Tyugu about model-based software development. The common idea is about making domain models described the problem in a wide in form of relation networks, and automatic program code synthesis from specifications, which works over these networks to solve concrete tasks.\n",
    "\n",
    "* http://www.cs.ioc.ee/~tyugu/\n",
    "* [Концептуальное программирование](https://ru.wikipedia.org/wiki/%D0%9A%D0%BE%D0%BD%D1%86%D0%B5%D0%BF%D1%82%D1%83%D0%B0%D0%BB%D1%8C%D0%BD%D0%BE%D0%B5_%D0%BF%D1%80%D0%BE%D0%B3%D1%80%D0%B0%D0%BC%D0%BC%D0%B8%D1%80%D0%BE%D0%B2%D0%B0%D0%BD%D0%B8%D0%B5)\n"
   ]
  },
  {
   "cell_type": "markdown",
   "metadata": {},
   "source": [
    "* J. Symbolic Computation (1988) 5, 359-375\\\n",
    "**The Programming System PRIZ**\\\n",
    "G.Mints, E.Tyugu,\\\n",
    "Institute of Cybernetics, Estonian Academy of Sciences,Tallinn\n",
    "200108, USSR\\\n",
    "[pdf](https://www.academia.edu/18315153/The_programming_system_PRIZ?auto=download)\n",
    "* Э.Х. Тыугу **Концептуальное программирование**. М.: Наука, 1984. 255 с"
   ]
  },
  {
   "cell_type": "markdown",
   "metadata": {},
   "source": [
    "```\n",
    "TO: tyugu@ieee.org\n",
    "```\n",
    "\n",
    "> I'm interested in experimenting with mixing your CP approach and Marvin Minsky frame model for commercial, \n",
    "> mobile, and embedded software & hardware (IoT) systems development. The site has a lot of materials and links on \n",
    "> the theme, but I'd like to track discussions of people involved in current works on concept programming.\n"
   ]
  },
  {
   "cell_type": "markdown",
   "metadata": {},
   "source": [
    "In this working bloc (as [c]oding [blo]g) you can find a lot of concrete applications of CP methodology interleaved with huge amount of thinking about all projects I worked on from the end of 2019 as a freelancer and **legacy raker** (*)."
   ]
  },
  {
   "cell_type": "markdown",
   "metadata": {},
   "source": [
    "### legacy \\[code\\]raker"
   ]
  },
  {
   "cell_type": "markdown",
   "metadata": {},
   "source": [
    "I introduce the new programming-related profession: the **legacy \\[code\\]raker**: a specially dedicated specialist which has a target of old software projects reborning and support."
   ]
  },
  {
   "cell_type": "markdown",
   "metadata": {},
   "source": [
    "## metaL: \\[meta\\]programming \\[L\\]anguage and Marvin Minsky frame model"
   ]
  },
  {
   "cell_type": "markdown",
   "metadata": {},
   "source": [
    "The core of my CP system is a homoiconic model uses directed graphs of objects as both program and data representation. The idea was inherited from Marvin Minsky's book: Frames for data representation, which I extended with the ability to store not only slots (attributes) but also hold any frames in an ordered container."
   ]
  },
  {
   "cell_type": "markdown",
   "metadata": {},
   "source": [
    "* https://www.youtube.com/watch?v=nXJ_2uGWM-M\n",
    "\n",
    "Frames originated as a technology used for knowledge representation in artificial intelligence. They are very close to objects and class hierarchies in object-oriented languages although their fundamental design goals are different. Frames are focused on the explicit and intuitive representation of knowledge whereas objects focus on encapsulation and information hiding. Original Marvin Minsky's concept *lacks some principal features for software design*, so I must extend it with ability to **store sequential collections**.\n",
    "\n",
    "In practice, the techniques and capabilities of the frame model and object-oriented languages overlap significantly so much as we can treat frames not only a native superset of OOP but they drastically extend object design concepts wider: we can represent any knowledge in frames, and use any programming paradigms as we desire.\n",
    "\n"
   ]
  },
  {
   "cell_type": "code",
   "execution_count": 1,
   "metadata": {},
   "outputs": [
    {
     "name": "stdout",
     "output_type": "stream",
     "text": [
      "Overwriting metaL.py\n"
     ]
    }
   ],
   "source": [
    "%%writefile metaL.py\n",
    "\n",
    "import os,sys\n",
    "from graphviz import Digraph"
   ]
  },
  {
   "cell_type": "code",
   "execution_count": 2,
   "metadata": {},
   "outputs": [
    {
     "name": "stdout",
     "output_type": "stream",
     "text": [
      "Appending to metaL.py\n"
     ]
    }
   ],
   "source": [
    "%%writefile -a metaL.py\n",
    "\n",
    "class Frame:\n",
    "    def __init__(self,V):\n",
    "        # type/class tag\n",
    "        # this field is required for literal parsing by PLY library \n",
    "        self.type = self.__class__.__name__.lower()\n",
    "        # scalar data value in implementation language type\n",
    "        # mostly names the frame, but also can store things like numbers and strings\n",
    "        self.val  = V\n",
    "        # slots = attributes = string-keyed associative array\n",
    "        self.slot = {}\n",
    "        # ordered storage = AST nested elemens = vector = stack = queue\n",
    "        self.nest = []"
   ]
  },
  {
   "cell_type": "markdown",
   "metadata": {},
   "source": [
    "The presence of an ordered collection is definitively required for representing any program source code, as this is very close to classical attribute grammar -- attributed trees and graphs. The object graph (frame) representation of a program as a primary form is much more effective and native for any work involved with source code transformations: synthesis, modifications, analysis, cross-language translation, etc."
   ]
  },
  {
   "cell_type": "markdown",
   "metadata": {},
   "source": [
    "Factically, we don't need any text programming languages at all, as these objects graphs I call **Executable Data Structure** can \n",
    "* hold any program statically (on storage), \n",
    "* can be executed by a **model EDS-interpreter**, \n",
    "* translated into any mainstream languages, and \n",
    "* \\[cross-\\]compiled into machine code."
   ]
  },
  {
   "cell_type": "code",
   "execution_count": 3,
   "metadata": {},
   "outputs": [
    {
     "name": "stdout",
     "output_type": "stream",
     "text": [
      "Appending to metaL.py\n"
     ]
    }
   ],
   "source": [
    "%%writefile -a metaL.py\n",
    "\n",
    "# class Frame:\n",
    "\n",
    "    # dump and plot\n",
    "    \n",
    "    # callback for print\n",
    "    def __repr__(self):\n",
    "        return self.dump()\n",
    "    # full tree-form dump\n",
    "    def dump(self,depth=0,prefix='',voc=True,stack=True,test=False):\n",
    "        # subtree header\n",
    "        tree = self._pad(depth) + self.head(prefix=prefix,test=test)\n",
    "        # infty recursion block\n",
    "        if not depth: Frame._dumped = []\n",
    "        if self in Frame._dumped: return tree + ' _/'\n",
    "        else: Frame._dumped.append(self)\n",
    "        # slots\n",
    "        if voc:\n",
    "            for i in self.slot:\n",
    "                tree += self.slot[i].dump(depth+1,prefix='%s = '%i,test=test)\n",
    "        # nested as subtrees\n",
    "        if stack:\n",
    "            for j in self.nest:\n",
    "                tree += j.dump(depth+1,test=test)\n",
    "        # resulting subtree\n",
    "        return tree\n",
    "    # short-form dump: <T:V> header only\n",
    "    def head(self,prefix='',test=False):\n",
    "        header = '%s<%s:%s>' % (prefix,self.type,self._val())\n",
    "        if not test: header += ' @%x' % id(self)\n",
    "        return header\n",
    "    # pad tree with tabs with given depth\n",
    "    def _pad(self,depth):\n",
    "        return '\\n' + '\\t' * depth\n",
    "    # .val can be non-string and must be overloaded in some frame classes\n",
    "    def _val(self):\n",
    "        return '%s' % self.val"
   ]
  },
  {
   "cell_type": "code",
   "execution_count": 4,
   "metadata": {},
   "outputs": [
    {
     "name": "stdout",
     "output_type": "stream",
     "text": [
      "Appending to metaL.py\n"
     ]
    }
   ],
   "source": [
    "%%writefile -a metaL.py\n",
    "\n",
    "# class Frame:\n",
    "\n",
    "    # operators\n",
    "    \n",
    "    # A[key]\n",
    "    def __getitem__(self,key):\n",
    "        return self.slot[key]\n",
    "    # A[key] = B\n",
    "    def __setitem__(self,key,that):\n",
    "        self.slot[key] = that ; return self\n",
    "    # A << B --> A[B.val] = B\n",
    "    def __lshift__(self,that):\n",
    "        self[that.val] = that ; return self\n",
    "    # A // B\n",
    "    def __floordiv__(self,that):\n",
    "        self.nest.append(that) ; return self\n"
   ]
  },
  {
   "cell_type": "code",
   "execution_count": 5,
   "metadata": {},
   "outputs": [
    {
     "name": "stdout",
     "output_type": "stream",
     "text": [
      "Appending to metaL.py\n"
     ]
    }
   ],
   "source": [
    "%%writefile -a metaL.py\n",
    "\n",
    "# class Frame:\n",
    "\n",
    "    # stack manipulations\n",
    "\n",
    "    ## ( a b -- a )\n",
    "    def pop(self):\n",
    "        return self.nest.pop(-1)\n",
    "    ## ( a b -- a b )\n",
    "    def top(self):\n",
    "        return self.nest[-1]\n",
    "    ## ( a b -- )\n",
    "    def dropall(self):\n",
    "        self.nest = [] ; return self    "
   ]
  },
  {
   "cell_type": "markdown",
   "metadata": {},
   "source": [
    "## pytest"
   ]
  },
  {
   "cell_type": "markdown",
   "metadata": {},
   "source": [
    "I prefer to use `pytest` unit testing framework: it is simple and light."
   ]
  },
  {
   "cell_type": "markdown",
   "metadata": {},
   "source": [
    "* https://www.guru99.com/pytest-tutorial.html\n",
    "* (ru) https://habr.com/ru/post/269759/\n",
    "* (ru) https://medium.com/@dmrlx/%D0%B2%D0%B2%D0%B5%D0%B4%D0%B5%D0%BD%D0%B8%D0%B5-%D0%B2-pytest-cc6175c7d0dc"
   ]
  },
  {
   "cell_type": "code",
   "execution_count": 6,
   "metadata": {},
   "outputs": [
    {
     "name": "stdout",
     "output_type": "stream",
     "text": [
      "Appending to metaL.py\n"
     ]
    }
   ],
   "source": [
    "%%writefile -a metaL.py\n",
    "\n",
    "# class Frame:\n",
    "\n",
    "    # method returns simplified tree dump for py.tests\n",
    "    def test(self):\n",
    "        return self.dump(test=True)"
   ]
  },
  {
   "cell_type": "markdown",
   "metadata": {},
   "source": [
    "This method provides simplified dump to compare it with constant string in tests."
   ]
  },
  {
   "cell_type": "code",
   "execution_count": 7,
   "metadata": {},
   "outputs": [],
   "source": [
    "from metaL import *"
   ]
  },
  {
   "cell_type": "code",
   "execution_count": 8,
   "metadata": {},
   "outputs": [
    {
     "name": "stdout",
     "output_type": "stream",
     "text": [
      "\n",
      "<frame:Hello> @7f1e355b5160\n",
      "\tslot = <frame:slot> @7f1e355b51d0\n",
      "\t<frame:World> @7f1e355b5128\n"
     ]
    }
   ],
   "source": [
    "# demo / tests for core Frame\n",
    "\n",
    "print( Frame('Hello') // Frame('World') << Frame('slot') )"
   ]
  },
  {
   "cell_type": "markdown",
   "metadata": {},
   "source": [
    "It is not good to use the sample code as above to show how some software library works. The widely adopted method, which is required to write any production software is testing. Tests also show every feature of a library, how to use it, how not to use it, what preparations must be done, and what input formats are needed."
   ]
  },
  {
   "cell_type": "code",
   "execution_count": 9,
   "metadata": {},
   "outputs": [
    {
     "name": "stdout",
     "output_type": "stream",
     "text": [
      "Overwriting test_metaL.py\n"
     ]
    }
   ],
   "source": [
    "%%writefile test_metaL.py\n",
    "\n",
    "import pytest\n",
    "\n",
    "from metaL import *\n",
    "\n",
    "class TestFrame:\n",
    "    \n",
    "    def setup(self):\n",
    "        self.hello = Frame('Hello') // Frame('World') << Frame('slot')\n",
    "\n",
    "    def test_empty(self):\n",
    "        assert Frame('').test() == '\\n<frame:>'\n",
    "\n",
    "    def test_hello(self):\n",
    "        assert self.hello.test() == \\\n",
    "            '\\n<frame:Hello>\\n\\tslot = <frame:slot>\\n\\t<frame:World>'\n",
    "        \n",
    "    def test_operators(self):\n",
    "        assert self.hello['slot'].test() == '\\n<frame:slot>'"
   ]
  },
  {
   "cell_type": "code",
   "execution_count": 10,
   "metadata": {},
   "outputs": [
    {
     "name": "stdout",
     "output_type": "stream",
     "text": [
      "\u001b[1m============================= test session starts ==============================\u001b[0m\n",
      "platform linux -- Python 3.5.3, pytest-5.2.1, py-1.8.0, pluggy-0.13.0 -- /home/dpon/bloc/bin/python3\n",
      "cachedir: .pytest_cache\n",
      "rootdir: /home/dpon/bloc\n",
      "collected 3 items                                                              \u001b[0m\n",
      "\n",
      "test_metaL.py::TestFrame::test_empty \u001b[32mPASSED\u001b[0m\u001b[36m                              [ 33%]\u001b[0m\n",
      "test_metaL.py::TestFrame::test_hello \u001b[32mPASSED\u001b[0m\u001b[36m                              [ 66%]\u001b[0m\n",
      "test_metaL.py::TestFrame::test_operators \u001b[32mPASSED\u001b[0m\u001b[36m                          [100%]\u001b[0m\n",
      "\n",
      "\u001b[1m\u001b[32m============================== 3 passed in 0.16s ===============================\u001b[0m\n"
     ]
    }
   ],
   "source": [
    "!py.test -v test_metaL.py"
   ]
  },
  {
   "cell_type": "markdown",
   "metadata": {},
   "source": [
    "## Why Python? What about the technology stack"
   ]
  },
  {
   "cell_type": "markdown",
   "metadata": {},
   "source": [
    "### Python"
   ]
  },
  {
   "cell_type": "markdown",
   "metadata": {},
   "source": [
    "Python is **great for prototyping** software systems:\n",
    "\n",
    "* easy to learn and use programming language, \n",
    "* available on many systems including embedded (https://micropython.org/), \n",
    "* has a huge amount of ready to use libraries (batteries included).\n",
    "* does not need complex installations (`python3 -m venv .` is not complex)\n",
    "* very light in run from scratch (no JVM heat up)"
   ]
  },
  {
   "cell_type": "markdown",
   "metadata": {},
   "source": [
    "### Nim"
   ]
  },
  {
   "cell_type": "markdown",
   "metadata": {},
   "source": [
    "* https://nim-lang.org/\n",
    "* https://forum.nim-lang.org/"
   ]
  },
  {
   "cell_type": "markdown",
   "metadata": {},
   "source": [
    "Nim got a first 1.0 release less then month ago, so it is not good for enterpreise programming.\n",
    "* https://forum.nim-lang.org/t/5347\n",
    "\n",
    "But I'm going to use it especially for this role:\n",
    "* there is no any heavy runtime (JVM/CLR, huge gigabytes of standard libraries)\n",
    "* extra portable (Win/Mac/Linux, Android NDK, MIPS/ARM embedded)\n",
    "* very fast compiling\n",
    "* tight integration with C/C++ -- it uses C compiler as a backend, and **tranlate**s .nim for .c\n",
    "  * there are no any problems to fastly write C interfacing code to use any C(++) libraries"
   ]
  },
  {
   "cell_type": "markdown",
   "metadata": {},
   "source": [
    "It looks for me as a technology very interesting for the small business market, where there are no resources to rent or invest in hardware and expensive software for huge processing with Java hell etc. I don't speak about the full replacement of Java (yet?), but the ability to work both standalone and in symbiosis with existing systems.\n",
    "\n",
    "What features of Nim look target-yummy:\n",
    "\n",
    "* **portability**: software already able to work on any meaningful hardware platforms\n",
    "* compactness and **extra low resource requirements**: there is no any xVM and giant runtime required even to run the HelloWorld, you can run a simple accounting system which will eat a few megabytes of RAM only\n",
    "* **metaprogramming**: there is a huge amount of repeating code and design patterns in business software, meta is able to simplify and automate some repeating snippets\n",
    "\n",
    "PS: Maybe someone can advise me on some good manuals and tutorials on enterprise development patterns and business software architecture?"
   ]
  },
  {
   "cell_type": "markdown",
   "metadata": {},
   "source": [
    "#### What is the future of the Nim programming language now?"
   ]
  },
  {
   "cell_type": "markdown",
   "metadata": {},
   "source": [
    "https://www.quora.com/What-is-the-future-of-the-Nim-programming-language-now/answer/Dmitry-Ponyatov\n",
    "\n",
    "Nim looks very attractive for Python programmers who want to push their software system prototypes into production. Python not so good for use as a platform for high-load applications, and does not have any good use on mobile devices (Android etc) as it is too slow, too resource-hungry, and has a lot of problems with system-level integration.\n",
    "\n",
    "While Nim has semantics close to Python, it is portable for a lot of platforms, has no notable resource consumptions for runtime, and has tight and easy integration with any C(++) frameworks, libraries, and system API.\n",
    "\n",
    "**Nim is not mature now, but** bundled with a Python as a production-stage platform **it has a very good perspective to kickass even the Java in part of enterprise applications** (small business solutions where *consumers have no enough money to own high-price JRE infrastructure*)."
   ]
  },
  {
   "cell_type": "markdown",
   "metadata": {},
   "source": [
    "### Java / C# / Delphi / C++ legacy code rake and integration"
   ]
  },
  {
   "cell_type": "markdown",
   "metadata": {},
   "source": [
    "Suddenly, there is no way to avoid mainstream languages and their framework/library stacks. There is a huge amount of working code deployed anywhere and runs dozens of years in production (so we got the new IT profession -- coderaker (c). There are areas where we can't use any other stack then already installed: finance, banking, security, medical systems and embedded (ANSI C only, especially MISRA-certified critical applications, and conservator-ill persuasions)."
   ]
  },
  {
   "cell_type": "markdown",
   "metadata": {},
   "source": [
    "You must know and use all of them, especially if you want to earn money or want to professionally dive into legacy software reborning. Any system you use, as we speak about *concept programming*, must be language-agnostic. As **you write CP system port yourself** making it the way **you need**, it works the same *until we stay at the imperative programming paradigm*. Oops, note that *CP is declarative programming in a big part* -- you define your programming (and hardware design) knowledge database, which holds concepts defined in a declarative way."
   ]
  },
  {
   "cell_type": "markdown",
   "metadata": {},
   "source": [
    "### Concept programming is a layer of cross-translation"
   ]
  },
  {
   "cell_type": "markdown",
   "metadata": {},
   "source": [
    "When you go into contract development, your CP system must provide cross-language and cross-system translation of a legacy system logic."
   ]
  },
  {
   "cell_type": "code",
   "execution_count": 11,
   "metadata": {},
   "outputs": [
    {
     "data": {
      "image/svg+xml": [
       "<?xml version=\"1.0\" encoding=\"UTF-8\" standalone=\"no\"?>\n",
       "<!DOCTYPE svg PUBLIC \"-//W3C//DTD SVG 1.1//EN\"\n",
       " \"http://www.w3.org/Graphics/SVG/1.1/DTD/svg11.dtd\">\n",
       "<!-- Generated by graphviz version 2.38.0 (20140413.2041)\n",
       " -->\n",
       "<!-- Title: %3 Pages: 1 -->\n",
       "<svg width=\"720pt\" height=\"125pt\"\n",
       " viewBox=\"0.00 0.00 720.00 125.46\" xmlns=\"http://www.w3.org/2000/svg\" xmlns:xlink=\"http://www.w3.org/1999/xlink\">\n",
       "<g id=\"graph0\" class=\"graph\" transform=\"scale(0.746814 0.746814) rotate(0) translate(4 164)\">\n",
       "<title>%3</title>\n",
       "<polygon fill=\"white\" stroke=\"none\" points=\"-4,4 -4,-164 960.095,-164 960.095,4 -4,4\"/>\n",
       "<g id=\"clust1\" class=\"cluster\"><title>cluster_0</title>\n",
       "<polygon fill=\"none\" stroke=\"black\" points=\"8,-8 8,-114 160.488,-114 160.488,-8 8,-8\"/>\n",
       "</g>\n",
       "<!-- l -->\n",
       "<g id=\"node1\" class=\"node\"><title>l</title>\n",
       "<ellipse fill=\"none\" stroke=\"black\" cx=\"84.2439\" cy=\"-88\" rx=\"33.5952\" ry=\"18\"/>\n",
       "<text text-anchor=\"middle\" x=\"84.2439\" y=\"-84.3\" font-family=\"Times,serif\" font-size=\"14.00\">legacy</text>\n",
       "</g>\n",
       "<!-- f -->\n",
       "<g id=\"node3\" class=\"node\"><title>f</title>\n",
       "<ellipse fill=\"none\" stroke=\"black\" cx=\"330.006\" cy=\"-127\" rx=\"61.5366\" ry=\"26.7407\"/>\n",
       "<text text-anchor=\"middle\" x=\"330.006\" y=\"-130.8\" font-family=\"Times,serif\" font-size=\"14.00\">source code</text>\n",
       "<text text-anchor=\"middle\" x=\"330.006\" y=\"-115.8\" font-family=\"Times,serif\" font-size=\"14.00\">frame model</text>\n",
       "</g>\n",
       "<!-- l&#45;&gt;f -->\n",
       "<g id=\"edge1\" class=\"edge\"><title>l&#45;&gt;f</title>\n",
       "<path fill=\"none\" stroke=\"black\" d=\"M117.112,-93.0986C153.662,-98.9463 214.613,-108.698 261.785,-116.245\"/>\n",
       "<polygon fill=\"black\" stroke=\"black\" points=\"261.504,-119.745 271.932,-117.869 262.61,-112.833 261.504,-119.745\"/>\n",
       "<text text-anchor=\"middle\" x=\"210.488\" y=\"-148.8\" font-family=\"Times,serif\" font-size=\"14.00\">C# Java *SQL</text>\n",
       "<text text-anchor=\"middle\" x=\"210.488\" y=\"-133.8\" font-family=\"Times,serif\" font-size=\"14.00\">Delphi 1C</text>\n",
       "<text text-anchor=\"middle\" x=\"210.488\" y=\"-118.8\" font-family=\"Times,serif\" font-size=\"14.00\">C++/Makefile</text>\n",
       "</g>\n",
       "<!-- x -->\n",
       "<g id=\"node2\" class=\"node\"><title>x</title>\n",
       "<ellipse fill=\"none\" stroke=\"black\" cx=\"84.2439\" cy=\"-34\" rx=\"68.4888\" ry=\"18\"/>\n",
       "<text text-anchor=\"middle\" x=\"84.2439\" y=\"-30.3\" font-family=\"Times,serif\" font-size=\"14.00\">next gen system</text>\n",
       "</g>\n",
       "<!-- t -->\n",
       "<g id=\"node4\" class=\"node\"><title>t</title>\n",
       "<ellipse fill=\"none\" stroke=\"black\" cx=\"695.649\" cy=\"-127\" rx=\"72.25\" ry=\"26.7407\"/>\n",
       "<text text-anchor=\"middle\" x=\"695.649\" y=\"-130.8\" font-family=\"Times,serif\" font-size=\"14.00\">analysis and</text>\n",
       "<text text-anchor=\"middle\" x=\"695.649\" y=\"-115.8\" font-family=\"Times,serif\" font-size=\"14.00\">transformations</text>\n",
       "</g>\n",
       "<!-- f&#45;&gt;t -->\n",
       "<g id=\"edge2\" class=\"edge\"><title>f&#45;&gt;t</title>\n",
       "<path fill=\"none\" stroke=\"black\" d=\"M391.872,-127C452.547,-127 546.112,-127 613.168,-127\"/>\n",
       "<polygon fill=\"black\" stroke=\"black\" points=\"613.277,-130.5 623.277,-127 613.277,-123.5 613.277,-130.5\"/>\n",
       "<text text-anchor=\"middle\" x=\"507.524\" y=\"-145.8\" font-family=\"Times,serif\" font-size=\"14.00\">frame graph</text>\n",
       "<text text-anchor=\"middle\" x=\"507.524\" y=\"-130.8\" font-family=\"Times,serif\" font-size=\"14.00\">knowledge database</text>\n",
       "</g>\n",
       "<!-- s -->\n",
       "<g id=\"node5\" class=\"node\"><title>s</title>\n",
       "<ellipse fill=\"none\" stroke=\"black\" cx=\"880.435\" cy=\"-92\" rx=\"75.8212\" ry=\"48.1667\"/>\n",
       "<text text-anchor=\"middle\" x=\"880.435\" y=\"-110.8\" font-family=\"Times,serif\" font-size=\"14.00\">submodel</text>\n",
       "<text text-anchor=\"middle\" x=\"880.435\" y=\"-95.8\" font-family=\"Times,serif\" font-size=\"14.00\"> in synthesizable</text>\n",
       "<text text-anchor=\"middle\" x=\"880.435\" y=\"-80.8\" font-family=\"Times,serif\" font-size=\"14.00\"> executable data</text>\n",
       "<text text-anchor=\"middle\" x=\"880.435\" y=\"-65.8\" font-family=\"Times,serif\" font-size=\"14.00\"> subset</text>\n",
       "</g>\n",
       "<!-- t&#45;&gt;s -->\n",
       "<g id=\"edge3\" class=\"edge\"><title>t&#45;&gt;s</title>\n",
       "<path fill=\"none\" stroke=\"black\" d=\"M760.066,-114.857C772.189,-112.536 785.038,-110.075 797.642,-107.662\"/>\n",
       "<polygon fill=\"black\" stroke=\"black\" points=\"798.514,-111.058 807.678,-105.74 797.198,-104.183 798.514,-111.058\"/>\n",
       "</g>\n",
       "<!-- s&#45;&gt;l -->\n",
       "<g id=\"edge4\" class=\"edge\"><title>s&#45;&gt;l</title>\n",
       "<path fill=\"none\" stroke=\"black\" d=\"M804.657,-91.2832C792.335,-91.1786 779.697,-91.0796 767.774,-91 526.097,-89.3867 236.278,-88.4398 128.432,-88.1215\"/>\n",
       "<polygon fill=\"black\" stroke=\"black\" points=\"128.282,-84.6212 118.272,-88.0918 128.262,-91.6211 128.282,-84.6212\"/>\n",
       "<text text-anchor=\"middle\" x=\"507.524\" y=\"-94.8\" font-family=\"Times,serif\" font-size=\"14.00\">source code and autogenerated tests</text>\n",
       "</g>\n",
       "</g>\n",
       "</svg>\n"
      ],
      "text/plain": [
       "<graphviz.dot.Digraph at 0x7f1e34d661d0>"
      ]
     },
     "execution_count": 11,
     "metadata": {},
     "output_type": "execute_result"
    }
   ],
   "source": [
    "#from graphviz import Digraph\n",
    "dot = Digraph() ; dot.attr(rankdir='LR',size='10,5')\n",
    "with dot.subgraph(name='cluster_0') as dotc:\n",
    "    dotc.node('l','legacy')\n",
    "    dotc.node('x','next gen system')\n",
    "dot.node('f','source code\\nframe model')\n",
    "dot.edge('l','f',label='C# Java *SQL\\nDelphi 1C\\nC++/Makefile')\n",
    "dot.node('t','analysis and\\ntransformations')\n",
    "dot.edge('f','t','frame graph\\nknowledge database')\n",
    "dot.node('s','submodel\\n in synthesizable\\n executable data\\n subset')\n",
    "dot.edge('t','s')\n",
    "dot.edge('s','l','source code and autogenerated tests')\n",
    "#dot.edge('s','x')\n",
    "dot"
   ]
  },
  {
   "cell_type": "markdown",
   "metadata": {},
   "source": [
    "# Core class tree"
   ]
  },
  {
   "cell_type": "code",
   "execution_count": 12,
   "metadata": {},
   "outputs": [
    {
     "data": {
      "image/svg+xml": [
       "<?xml version=\"1.0\" encoding=\"UTF-8\" standalone=\"no\"?>\n",
       "<!DOCTYPE svg PUBLIC \"-//W3C//DTD SVG 1.1//EN\"\n",
       " \"http://www.w3.org/Graphics/SVG/1.1/DTD/svg11.dtd\">\n",
       "<!-- Generated by graphviz version 2.38.0 (20140413.2041)\n",
       " -->\n",
       "<!-- Title: %3 Pages: 1 -->\n",
       "<svg width=\"634pt\" height=\"1296pt\"\n",
       " viewBox=\"0.00 0.00 633.74 1296.00\" xmlns=\"http://www.w3.org/2000/svg\" xmlns:xlink=\"http://www.w3.org/1999/xlink\">\n",
       "<g id=\"graph0\" class=\"graph\" transform=\"scale(0.643176 0.643176) rotate(0) translate(4 2011)\">\n",
       "<title>%3</title>\n",
       "<polygon fill=\"white\" stroke=\"none\" points=\"-4,4 -4,-2011 981.336,-2011 981.336,4 -4,4\"/>\n",
       "<!-- Frame -->\n",
       "<g id=\"node1\" class=\"node\"><title>Frame</title>\n",
       "<ellipse fill=\"none\" stroke=\"black\" cx=\"33.797\" cy=\"-1422\" rx=\"33.5952\" ry=\"18\"/>\n",
       "<text text-anchor=\"middle\" x=\"33.797\" y=\"-1418.3\" font-family=\"Times,serif\" font-size=\"14.00\">Frame</text>\n",
       "</g>\n",
       "<!-- Primitive -->\n",
       "<g id=\"node2\" class=\"node\"><title>Primitive</title>\n",
       "<ellipse fill=\"none\" stroke=\"black\" cx=\"149.09\" cy=\"-1908\" rx=\"44.393\" ry=\"18\"/>\n",
       "<text text-anchor=\"middle\" x=\"149.09\" y=\"-1904.3\" font-family=\"Times,serif\" font-size=\"14.00\">Primitive</text>\n",
       "</g>\n",
       "<!-- Frame&#45;&gt;Primitive -->\n",
       "<g id=\"edge1\" class=\"edge\"><title>Frame&#45;&gt;Primitive</title>\n",
       "<path fill=\"none\" stroke=\"black\" d=\"M38.9625,-1440.09C49.6465,-1486.45 78.9191,-1613.34 103.594,-1719 116.956,-1776.21 132.749,-1843.13 141.469,-1880.02\"/>\n",
       "<polygon fill=\"black\" stroke=\"black\" points=\"138.128,-1881.1 143.835,-1890.02 144.94,-1879.49 138.128,-1881.1\"/>\n",
       "</g>\n",
       "<!-- Container -->\n",
       "<g id=\"node9\" class=\"node\"><title>Container</title>\n",
       "<ellipse fill=\"none\" stroke=\"black\" cx=\"149.09\" cy=\"-1692\" rx=\"45.4919\" ry=\"18\"/>\n",
       "<text text-anchor=\"middle\" x=\"149.09\" y=\"-1688.3\" font-family=\"Times,serif\" font-size=\"14.00\">Container</text>\n",
       "</g>\n",
       "<!-- Frame&#45;&gt;Container -->\n",
       "<g id=\"edge8\" class=\"edge\"><title>Frame&#45;&gt;Container</title>\n",
       "<path fill=\"none\" stroke=\"black\" d=\"M42.2305,-1439.72C61.5557,-1485.77 113.479,-1609.51 136.651,-1664.74\"/>\n",
       "<polygon fill=\"black\" stroke=\"black\" points=\"133.532,-1666.35 140.629,-1674.22 139.987,-1663.64 133.532,-1666.35\"/>\n",
       "</g>\n",
       "<!-- Active -->\n",
       "<g id=\"node15\" class=\"node\"><title>Active</title>\n",
       "<ellipse fill=\"none\" stroke=\"black\" cx=\"149.09\" cy=\"-1476\" rx=\"34.394\" ry=\"18\"/>\n",
       "<text text-anchor=\"middle\" x=\"149.09\" y=\"-1472.3\" font-family=\"Times,serif\" font-size=\"14.00\">Active</text>\n",
       "</g>\n",
       "<!-- Frame&#45;&gt;Active -->\n",
       "<g id=\"edge14\" class=\"edge\"><title>Frame&#45;&gt;Active</title>\n",
       "<path fill=\"none\" stroke=\"black\" d=\"M59.6596,-1433.85C75.4877,-1441.39 96.2107,-1451.27 113.617,-1459.57\"/>\n",
       "<polygon fill=\"black\" stroke=\"black\" points=\"112.361,-1462.85 122.894,-1463.99 115.373,-1456.53 112.361,-1462.85\"/>\n",
       "</g>\n",
       "<!-- IO -->\n",
       "<g id=\"node19\" class=\"node\"><title>IO</title>\n",
       "<ellipse fill=\"none\" stroke=\"black\" cx=\"149.09\" cy=\"-1368\" rx=\"27\" ry=\"18\"/>\n",
       "<text text-anchor=\"middle\" x=\"149.09\" y=\"-1364.3\" font-family=\"Times,serif\" font-size=\"14.00\">IO</text>\n",
       "</g>\n",
       "<!-- Frame&#45;&gt;IO -->\n",
       "<g id=\"edge18\" class=\"edge\"><title>Frame&#45;&gt;IO</title>\n",
       "<path fill=\"none\" stroke=\"black\" d=\"M59.6596,-1410.15C76.5868,-1402.08 99.1125,-1391.34 117.193,-1382.73\"/>\n",
       "<polygon fill=\"black\" stroke=\"black\" points=\"119.195,-1385.65 126.716,-1378.19 116.183,-1379.33 119.195,-1385.65\"/>\n",
       "</g>\n",
       "<!-- Meta -->\n",
       "<g id=\"node26\" class=\"node\"><title>Meta</title>\n",
       "<ellipse fill=\"none\" stroke=\"black\" cx=\"149.09\" cy=\"-1206\" rx=\"29.4969\" ry=\"18\"/>\n",
       "<text text-anchor=\"middle\" x=\"149.09\" y=\"-1202.3\" font-family=\"Times,serif\" font-size=\"14.00\">Meta</text>\n",
       "</g>\n",
       "<!-- Frame&#45;&gt;Meta -->\n",
       "<g id=\"edge25\" class=\"edge\"><title>Frame&#45;&gt;Meta</title>\n",
       "<path fill=\"none\" stroke=\"black\" d=\"M43.8767,-1404.69C63.6887,-1366.92 110.897,-1276.91 134.362,-1232.17\"/>\n",
       "<polygon fill=\"black\" stroke=\"black\" points=\"137.579,-1233.58 139.124,-1223.09 131.38,-1230.32 137.579,-1233.58\"/>\n",
       "</g>\n",
       "<!-- HW -->\n",
       "<g id=\"node42\" class=\"node\"><title>HW</title>\n",
       "<ellipse fill=\"none\" stroke=\"black\" cx=\"149.09\" cy=\"-504\" rx=\"27\" ry=\"18\"/>\n",
       "<text text-anchor=\"middle\" x=\"149.09\" y=\"-500.3\" font-family=\"Times,serif\" font-size=\"14.00\">HW</text>\n",
       "</g>\n",
       "<!-- Frame&#45;&gt;HW -->\n",
       "<g id=\"edge41\" class=\"edge\"><title>Frame&#45;&gt;HW</title>\n",
       "<path fill=\"none\" stroke=\"black\" d=\"M37.0093,-1404.07C51.0093,-1290.63 127.265,-672.739 144.588,-532.374\"/>\n",
       "<polygon fill=\"black\" stroke=\"black\" points=\"148.112,-532.394 145.864,-522.041 141.165,-531.537 148.112,-532.394\"/>\n",
       "</g>\n",
       "<!-- Symbol -->\n",
       "<g id=\"node3\" class=\"node\"><title>Symbol</title>\n",
       "<ellipse fill=\"none\" stroke=\"black\" cx=\"276.082\" cy=\"-1989\" rx=\"38.1938\" ry=\"18\"/>\n",
       "<text text-anchor=\"middle\" x=\"276.082\" y=\"-1985.3\" font-family=\"Times,serif\" font-size=\"14.00\">Symbol</text>\n",
       "</g>\n",
       "<!-- Primitive&#45;&gt;Symbol -->\n",
       "<g id=\"edge2\" class=\"edge\"><title>Primitive&#45;&gt;Symbol</title>\n",
       "<path fill=\"none\" stroke=\"black\" d=\"M172.463,-1923.41C188.515,-1934.36 210.728,-1949.32 230.586,-1962 234.461,-1964.47 238.553,-1967.03 242.623,-1969.54\"/>\n",
       "<polygon fill=\"black\" stroke=\"black\" points=\"241.046,-1972.68 251.404,-1974.91 244.696,-1966.7 241.046,-1972.68\"/>\n",
       "</g>\n",
       "<!-- String -->\n",
       "<g id=\"node4\" class=\"node\"><title>String</title>\n",
       "<ellipse fill=\"none\" stroke=\"black\" cx=\"276.082\" cy=\"-1935\" rx=\"32.4942\" ry=\"18\"/>\n",
       "<text text-anchor=\"middle\" x=\"276.082\" y=\"-1931.3\" font-family=\"Times,serif\" font-size=\"14.00\">String</text>\n",
       "</g>\n",
       "<!-- Primitive&#45;&gt;String -->\n",
       "<g id=\"edge3\" class=\"edge\"><title>Primitive&#45;&gt;String</title>\n",
       "<path fill=\"none\" stroke=\"black\" d=\"M188.612,-1916.32C203.531,-1919.54 220.6,-1923.23 235.609,-1926.47\"/>\n",
       "<polygon fill=\"black\" stroke=\"black\" points=\"235.105,-1929.95 245.619,-1928.64 236.583,-1923.1 235.105,-1929.95\"/>\n",
       "</g>\n",
       "<!-- Number -->\n",
       "<g id=\"node5\" class=\"node\"><title>Number</title>\n",
       "<ellipse fill=\"none\" stroke=\"black\" cx=\"276.082\" cy=\"-1881\" rx=\"40.0939\" ry=\"18\"/>\n",
       "<text text-anchor=\"middle\" x=\"276.082\" y=\"-1877.3\" font-family=\"Times,serif\" font-size=\"14.00\">Number</text>\n",
       "</g>\n",
       "<!-- Primitive&#45;&gt;Number -->\n",
       "<g id=\"edge4\" class=\"edge\"><title>Primitive&#45;&gt;Number</title>\n",
       "<path fill=\"none\" stroke=\"black\" d=\"M188.612,-1899.68C201.53,-1896.89 216.058,-1893.75 229.467,-1890.85\"/>\n",
       "<polygon fill=\"black\" stroke=\"black\" points=\"230.421,-1894.23 239.456,-1888.7 228.943,-1887.39 230.421,-1894.23\"/>\n",
       "</g>\n",
       "<!-- Integer -->\n",
       "<g id=\"node6\" class=\"node\"><title>Integer</title>\n",
       "<ellipse fill=\"none\" stroke=\"black\" cx=\"401.124\" cy=\"-1881\" rx=\"35.9954\" ry=\"18\"/>\n",
       "<text text-anchor=\"middle\" x=\"401.124\" y=\"-1877.3\" font-family=\"Times,serif\" font-size=\"14.00\">Integer</text>\n",
       "</g>\n",
       "<!-- Number&#45;&gt;Integer -->\n",
       "<g id=\"edge5\" class=\"edge\"><title>Number&#45;&gt;Integer</title>\n",
       "<path fill=\"none\" stroke=\"black\" d=\"M316.69,-1881C328.875,-1881 342.378,-1881 354.909,-1881\"/>\n",
       "<polygon fill=\"black\" stroke=\"black\" points=\"355.156,-1884.5 365.156,-1881 355.156,-1877.5 355.156,-1884.5\"/>\n",
       "</g>\n",
       "<!-- Hex -->\n",
       "<g id=\"node7\" class=\"node\"><title>Hex</title>\n",
       "<ellipse fill=\"none\" stroke=\"black\" cx=\"523.566\" cy=\"-1908\" rx=\"27\" ry=\"18\"/>\n",
       "<text text-anchor=\"middle\" x=\"523.566\" y=\"-1904.3\" font-family=\"Times,serif\" font-size=\"14.00\">Hex</text>\n",
       "</g>\n",
       "<!-- Integer&#45;&gt;Hex -->\n",
       "<g id=\"edge6\" class=\"edge\"><title>Integer&#45;&gt;Hex</title>\n",
       "<path fill=\"none\" stroke=\"black\" d=\"M434.084,-1888.16C450.59,-1891.86 470.759,-1896.39 487.67,-1900.18\"/>\n",
       "<polygon fill=\"black\" stroke=\"black\" points=\"487.193,-1903.66 497.717,-1902.43 488.725,-1896.83 487.193,-1903.66\"/>\n",
       "</g>\n",
       "<!-- Bin -->\n",
       "<g id=\"node8\" class=\"node\"><title>Bin</title>\n",
       "<ellipse fill=\"none\" stroke=\"black\" cx=\"523.566\" cy=\"-1854\" rx=\"27\" ry=\"18\"/>\n",
       "<text text-anchor=\"middle\" x=\"523.566\" y=\"-1850.3\" font-family=\"Times,serif\" font-size=\"14.00\">Bin</text>\n",
       "</g>\n",
       "<!-- Integer&#45;&gt;Bin -->\n",
       "<g id=\"edge7\" class=\"edge\"><title>Integer&#45;&gt;Bin</title>\n",
       "<path fill=\"none\" stroke=\"black\" d=\"M434.084,-1873.84C450.59,-1870.14 470.759,-1865.61 487.67,-1861.82\"/>\n",
       "<polygon fill=\"black\" stroke=\"black\" points=\"488.725,-1865.17 497.717,-1859.57 487.193,-1858.34 488.725,-1865.17\"/>\n",
       "</g>\n",
       "<!-- Vector -->\n",
       "<g id=\"node10\" class=\"node\"><title>Vector</title>\n",
       "<ellipse fill=\"none\" stroke=\"black\" cx=\"276.082\" cy=\"-1827\" rx=\"34.394\" ry=\"18\"/>\n",
       "<text text-anchor=\"middle\" x=\"276.082\" y=\"-1823.3\" font-family=\"Times,serif\" font-size=\"14.00\">Vector</text>\n",
       "</g>\n",
       "<!-- Container&#45;&gt;Vector -->\n",
       "<g id=\"edge9\" class=\"edge\"><title>Container&#45;&gt;Vector</title>\n",
       "<path fill=\"none\" stroke=\"black\" d=\"M160.309,-1709.72C174.111,-1732.57 200.479,-1772.63 230.586,-1800 234.159,-1803.25 238.179,-1806.32 242.304,-1809.14\"/>\n",
       "<polygon fill=\"black\" stroke=\"black\" points=\"240.495,-1812.14 250.808,-1814.57 244.26,-1806.24 240.495,-1812.14\"/>\n",
       "</g>\n",
       "<!-- Stack -->\n",
       "<g id=\"node11\" class=\"node\"><title>Stack</title>\n",
       "<ellipse fill=\"none\" stroke=\"black\" cx=\"276.082\" cy=\"-1773\" rx=\"30.5947\" ry=\"18\"/>\n",
       "<text text-anchor=\"middle\" x=\"276.082\" y=\"-1769.3\" font-family=\"Times,serif\" font-size=\"14.00\">Stack</text>\n",
       "</g>\n",
       "<!-- Container&#45;&gt;Stack -->\n",
       "<g id=\"edge10\" class=\"edge\"><title>Container&#45;&gt;Stack</title>\n",
       "<path fill=\"none\" stroke=\"black\" d=\"M172.807,-1707.64C188.832,-1718.58 210.869,-1733.41 230.586,-1746 235.251,-1748.98 240.231,-1752.08 245.108,-1755.07\"/>\n",
       "<polygon fill=\"black\" stroke=\"black\" points=\"243.323,-1758.08 253.685,-1760.29 246.961,-1752.1 243.323,-1758.08\"/>\n",
       "</g>\n",
       "<!-- Dict -->\n",
       "<g id=\"node12\" class=\"node\"><title>Dict</title>\n",
       "<ellipse fill=\"none\" stroke=\"black\" cx=\"276.082\" cy=\"-1719\" rx=\"27\" ry=\"18\"/>\n",
       "<text text-anchor=\"middle\" x=\"276.082\" y=\"-1715.3\" font-family=\"Times,serif\" font-size=\"14.00\">Dict</text>\n",
       "</g>\n",
       "<!-- Container&#45;&gt;Dict -->\n",
       "<g id=\"edge11\" class=\"edge\"><title>Container&#45;&gt;Dict</title>\n",
       "<path fill=\"none\" stroke=\"black\" d=\"M189.295,-1700.47C205.622,-1704 224.424,-1708.06 240.256,-1711.48\"/>\n",
       "<polygon fill=\"black\" stroke=\"black\" points=\"239.663,-1714.93 250.176,-1713.62 241.141,-1708.09 239.663,-1714.93\"/>\n",
       "</g>\n",
       "<!-- Set -->\n",
       "<g id=\"node13\" class=\"node\"><title>Set</title>\n",
       "<ellipse fill=\"none\" stroke=\"black\" cx=\"276.082\" cy=\"-1665\" rx=\"27\" ry=\"18\"/>\n",
       "<text text-anchor=\"middle\" x=\"276.082\" y=\"-1661.3\" font-family=\"Times,serif\" font-size=\"14.00\">Set</text>\n",
       "</g>\n",
       "<!-- Container&#45;&gt;Set -->\n",
       "<g id=\"edge12\" class=\"edge\"><title>Container&#45;&gt;Set</title>\n",
       "<path fill=\"none\" stroke=\"black\" d=\"M189.295,-1683.53C205.622,-1680 224.424,-1675.94 240.256,-1672.52\"/>\n",
       "<polygon fill=\"black\" stroke=\"black\" points=\"241.141,-1675.91 250.176,-1670.38 239.663,-1669.07 241.141,-1675.91\"/>\n",
       "</g>\n",
       "<!-- Queue -->\n",
       "<g id=\"node14\" class=\"node\"><title>Queue</title>\n",
       "<ellipse fill=\"none\" stroke=\"black\" cx=\"276.082\" cy=\"-1611\" rx=\"33.5952\" ry=\"18\"/>\n",
       "<text text-anchor=\"middle\" x=\"276.082\" y=\"-1607.3\" font-family=\"Times,serif\" font-size=\"14.00\">Queue</text>\n",
       "</g>\n",
       "<!-- Container&#45;&gt;Queue -->\n",
       "<g id=\"edge13\" class=\"edge\"><title>Container&#45;&gt;Queue</title>\n",
       "<path fill=\"none\" stroke=\"black\" d=\"M172.807,-1676.36C188.832,-1665.42 210.869,-1650.59 230.586,-1638 234.949,-1635.22 239.587,-1632.32 244.159,-1629.52\"/>\n",
       "<polygon fill=\"black\" stroke=\"black\" points=\"246.061,-1632.45 252.779,-1624.26 242.418,-1626.48 246.061,-1632.45\"/>\n",
       "</g>\n",
       "<!-- Cmd -->\n",
       "<g id=\"node16\" class=\"node\"><title>Cmd</title>\n",
       "<ellipse fill=\"none\" stroke=\"black\" cx=\"276.082\" cy=\"-1557\" rx=\"28.6953\" ry=\"18\"/>\n",
       "<text text-anchor=\"middle\" x=\"276.082\" y=\"-1553.3\" font-family=\"Times,serif\" font-size=\"14.00\">Cmd</text>\n",
       "</g>\n",
       "<!-- Active&#45;&gt;Cmd -->\n",
       "<g id=\"edge15\" class=\"edge\"><title>Active&#45;&gt;Cmd</title>\n",
       "<path fill=\"none\" stroke=\"black\" d=\"M170.767,-1490.25C186.926,-1501.29 210.018,-1516.87 230.586,-1530 235.441,-1533.1 240.638,-1536.33 245.705,-1539.43\"/>\n",
       "<polygon fill=\"black\" stroke=\"black\" points=\"244.219,-1542.63 254.582,-1544.83 247.854,-1536.64 244.219,-1542.63\"/>\n",
       "</g>\n",
       "<!-- VM -->\n",
       "<g id=\"node17\" class=\"node\"><title>VM</title>\n",
       "<ellipse fill=\"none\" stroke=\"black\" cx=\"276.082\" cy=\"-1503\" rx=\"27\" ry=\"18\"/>\n",
       "<text text-anchor=\"middle\" x=\"276.082\" y=\"-1499.3\" font-family=\"Times,serif\" font-size=\"14.00\">VM</text>\n",
       "</g>\n",
       "<!-- Active&#45;&gt;VM -->\n",
       "<g id=\"edge16\" class=\"edge\"><title>Active&#45;&gt;VM</title>\n",
       "<path fill=\"none\" stroke=\"black\" d=\"M181.308,-1482.74C199.245,-1486.62 221.814,-1491.49 240.315,-1495.49\"/>\n",
       "<polygon fill=\"black\" stroke=\"black\" points=\"239.606,-1498.92 250.12,-1497.61 241.084,-1492.08 239.606,-1498.92\"/>\n",
       "</g>\n",
       "<!-- Seq -->\n",
       "<g id=\"node18\" class=\"node\"><title>Seq</title>\n",
       "<ellipse fill=\"none\" stroke=\"black\" cx=\"276.082\" cy=\"-1449\" rx=\"27\" ry=\"18\"/>\n",
       "<text text-anchor=\"middle\" x=\"276.082\" y=\"-1445.3\" font-family=\"Times,serif\" font-size=\"14.00\">Seq</text>\n",
       "</g>\n",
       "<!-- Active&#45;&gt;Seq -->\n",
       "<g id=\"edge17\" class=\"edge\"><title>Active&#45;&gt;Seq</title>\n",
       "<path fill=\"none\" stroke=\"black\" d=\"M181.308,-1469.26C199.245,-1465.38 221.814,-1460.51 240.315,-1456.51\"/>\n",
       "<polygon fill=\"black\" stroke=\"black\" points=\"241.084,-1459.92 250.12,-1454.39 239.606,-1453.08 241.084,-1459.92\"/>\n",
       "</g>\n",
       "<!-- Dir -->\n",
       "<g id=\"node20\" class=\"node\"><title>Dir</title>\n",
       "<ellipse fill=\"none\" stroke=\"black\" cx=\"276.082\" cy=\"-1395\" rx=\"27\" ry=\"18\"/>\n",
       "<text text-anchor=\"middle\" x=\"276.082\" y=\"-1391.3\" font-family=\"Times,serif\" font-size=\"14.00\">Dir</text>\n",
       "</g>\n",
       "<!-- IO&#45;&gt;Dir -->\n",
       "<g id=\"edge19\" class=\"edge\"><title>IO&#45;&gt;Dir</title>\n",
       "<path fill=\"none\" stroke=\"black\" d=\"M175.084,-1373.4C193.733,-1377.43 219.452,-1382.98 240.137,-1387.45\"/>\n",
       "<polygon fill=\"black\" stroke=\"black\" points=\"239.618,-1390.92 250.132,-1389.61 241.096,-1384.08 239.618,-1390.92\"/>\n",
       "</g>\n",
       "<!-- File -->\n",
       "<g id=\"node21\" class=\"node\"><title>File</title>\n",
       "<ellipse fill=\"none\" stroke=\"black\" cx=\"276.082\" cy=\"-1341\" rx=\"27\" ry=\"18\"/>\n",
       "<text text-anchor=\"middle\" x=\"276.082\" y=\"-1337.3\" font-family=\"Times,serif\" font-size=\"14.00\">File</text>\n",
       "</g>\n",
       "<!-- IO&#45;&gt;File -->\n",
       "<g id=\"edge20\" class=\"edge\"><title>IO&#45;&gt;File</title>\n",
       "<path fill=\"none\" stroke=\"black\" d=\"M175.084,-1362.6C193.733,-1358.57 219.452,-1353.02 240.137,-1348.55\"/>\n",
       "<polygon fill=\"black\" stroke=\"black\" points=\"241.096,-1351.92 250.132,-1346.39 239.618,-1345.08 241.096,-1351.92\"/>\n",
       "</g>\n",
       "<!-- Net -->\n",
       "<g id=\"node22\" class=\"node\"><title>Net</title>\n",
       "<ellipse fill=\"none\" stroke=\"black\" cx=\"276.082\" cy=\"-1287\" rx=\"27\" ry=\"18\"/>\n",
       "<text text-anchor=\"middle\" x=\"276.082\" y=\"-1283.3\" font-family=\"Times,serif\" font-size=\"14.00\">Net</text>\n",
       "</g>\n",
       "<!-- IO&#45;&gt;Net -->\n",
       "<g id=\"edge21\" class=\"edge\"><title>IO&#45;&gt;Net</title>\n",
       "<path fill=\"none\" stroke=\"black\" d=\"M168.476,-1355.32C184.69,-1344.22 209.025,-1327.76 230.586,-1314 235.758,-1310.7 241.317,-1307.25 246.694,-1303.96\"/>\n",
       "<polygon fill=\"black\" stroke=\"black\" points=\"248.735,-1306.82 255.47,-1298.64 245.105,-1300.83 248.735,-1306.82\"/>\n",
       "</g>\n",
       "<!-- IP -->\n",
       "<g id=\"node23\" class=\"node\"><title>IP</title>\n",
       "<ellipse fill=\"none\" stroke=\"black\" cx=\"401.124\" cy=\"-1368\" rx=\"27\" ry=\"18\"/>\n",
       "<text text-anchor=\"middle\" x=\"401.124\" y=\"-1364.3\" font-family=\"Times,serif\" font-size=\"14.00\">IP</text>\n",
       "</g>\n",
       "<!-- Net&#45;&gt;IP -->\n",
       "<g id=\"edge22\" class=\"edge\"><title>Net&#45;&gt;IP</title>\n",
       "<path fill=\"none\" stroke=\"black\" d=\"M297.28,-1298.69C304.989,-1303.29 313.793,-1308.74 321.578,-1314 338.147,-1325.2 341.122,-1329.63 357.578,-1341 362.167,-1344.17 367.108,-1347.44 371.943,-1350.55\"/>\n",
       "<polygon fill=\"black\" stroke=\"black\" points=\"370.113,-1353.54 380.429,-1355.95 373.869,-1347.63 370.113,-1353.54\"/>\n",
       "</g>\n",
       "<!-- Port -->\n",
       "<g id=\"node24\" class=\"node\"><title>Port</title>\n",
       "<ellipse fill=\"none\" stroke=\"black\" cx=\"401.124\" cy=\"-1314\" rx=\"27\" ry=\"18\"/>\n",
       "<text text-anchor=\"middle\" x=\"401.124\" y=\"-1310.3\" font-family=\"Times,serif\" font-size=\"14.00\">Port</text>\n",
       "</g>\n",
       "<!-- Net&#45;&gt;Port -->\n",
       "<g id=\"edge23\" class=\"edge\"><title>Net&#45;&gt;Port</title>\n",
       "<path fill=\"none\" stroke=\"black\" d=\"M301.981,-1292.46C320.243,-1296.47 345.274,-1301.96 365.486,-1306.4\"/>\n",
       "<polygon fill=\"black\" stroke=\"black\" points=\"364.744,-1309.82 375.262,-1308.54 366.244,-1302.98 364.744,-1309.82\"/>\n",
       "</g>\n",
       "<!-- Web -->\n",
       "<g id=\"node25\" class=\"node\"><title>Web</title>\n",
       "<ellipse fill=\"none\" stroke=\"black\" cx=\"401.124\" cy=\"-1260\" rx=\"27.8951\" ry=\"18\"/>\n",
       "<text text-anchor=\"middle\" x=\"401.124\" y=\"-1256.3\" font-family=\"Times,serif\" font-size=\"14.00\">Web</text>\n",
       "</g>\n",
       "<!-- Net&#45;&gt;Web -->\n",
       "<g id=\"edge24\" class=\"edge\"><title>Net&#45;&gt;Web</title>\n",
       "<path fill=\"none\" stroke=\"black\" d=\"M301.981,-1281.54C319.921,-1277.6 344.392,-1272.23 364.41,-1267.84\"/>\n",
       "<polygon fill=\"black\" stroke=\"black\" points=\"365.397,-1271.2 374.415,-1265.64 363.897,-1264.37 365.397,-1271.2\"/>\n",
       "</g>\n",
       "<!-- Class -->\n",
       "<g id=\"node27\" class=\"node\"><title>Class</title>\n",
       "<ellipse fill=\"none\" stroke=\"black\" cx=\"276.082\" cy=\"-1233\" rx=\"29.795\" ry=\"18\"/>\n",
       "<text text-anchor=\"middle\" x=\"276.082\" y=\"-1229.3\" font-family=\"Times,serif\" font-size=\"14.00\">Class</text>\n",
       "</g>\n",
       "<!-- Meta&#45;&gt;Class -->\n",
       "<g id=\"edge26\" class=\"edge\"><title>Meta&#45;&gt;Class</title>\n",
       "<path fill=\"none\" stroke=\"black\" d=\"M176.904,-1211.79C194.618,-1215.62 218.085,-1220.69 237.633,-1224.91\"/>\n",
       "<polygon fill=\"black\" stroke=\"black\" points=\"236.934,-1228.34 247.448,-1227.03 238.412,-1221.5 236.934,-1228.34\"/>\n",
       "</g>\n",
       "<!-- Fn -->\n",
       "<g id=\"node28\" class=\"node\"><title>Fn</title>\n",
       "<ellipse fill=\"none\" stroke=\"black\" cx=\"276.082\" cy=\"-1179\" rx=\"27\" ry=\"18\"/>\n",
       "<text text-anchor=\"middle\" x=\"276.082\" y=\"-1175.3\" font-family=\"Times,serif\" font-size=\"14.00\">Fn</text>\n",
       "</g>\n",
       "<!-- Meta&#45;&gt;Fn -->\n",
       "<g id=\"edge27\" class=\"edge\"><title>Meta&#45;&gt;Fn</title>\n",
       "<path fill=\"none\" stroke=\"black\" d=\"M176.904,-1200.21C195.351,-1196.22 220.037,-1190.89 240.039,-1186.57\"/>\n",
       "<polygon fill=\"black\" stroke=\"black\" points=\"240.979,-1189.95 250.015,-1184.41 239.501,-1183.11 240.979,-1189.95\"/>\n",
       "</g>\n",
       "<!-- Language -->\n",
       "<g id=\"node30\" class=\"node\"><title>Language</title>\n",
       "<ellipse fill=\"none\" stroke=\"black\" cx=\"276.082\" cy=\"-963\" rx=\"45.4919\" ry=\"18\"/>\n",
       "<text text-anchor=\"middle\" x=\"276.082\" y=\"-959.3\" font-family=\"Times,serif\" font-size=\"14.00\">Language</text>\n",
       "</g>\n",
       "<!-- Meta&#45;&gt;Language -->\n",
       "<g id=\"edge29\" class=\"edge\"><title>Meta&#45;&gt;Language</title>\n",
       "<path fill=\"none\" stroke=\"black\" d=\"M158.879,-1188.91C180.335,-1147.2 235.516,-1039.92 261.353,-989.69\"/>\n",
       "<polygon fill=\"black\" stroke=\"black\" points=\"264.505,-991.215 265.966,-980.722 258.28,-988.013 264.505,-991.215\"/>\n",
       "</g>\n",
       "<!-- Method -->\n",
       "<g id=\"node29\" class=\"node\"><title>Method</title>\n",
       "<ellipse fill=\"none\" stroke=\"black\" cx=\"401.124\" cy=\"-1206\" rx=\"38.1938\" ry=\"18\"/>\n",
       "<text text-anchor=\"middle\" x=\"401.124\" y=\"-1202.3\" font-family=\"Times,serif\" font-size=\"14.00\">Method</text>\n",
       "</g>\n",
       "<!-- Fn&#45;&gt;Method -->\n",
       "<g id=\"edge28\" class=\"edge\"><title>Fn&#45;&gt;Method</title>\n",
       "<path fill=\"none\" stroke=\"black\" d=\"M301.981,-1184.46C317.505,-1187.87 337.919,-1192.35 356.107,-1196.34\"/>\n",
       "<polygon fill=\"black\" stroke=\"black\" points=\"355.419,-1199.77 365.937,-1198.5 356.919,-1192.94 355.419,-1199.77\"/>\n",
       "</g>\n",
       "<!-- C89 -->\n",
       "<g id=\"node31\" class=\"node\"><title>C89</title>\n",
       "<ellipse fill=\"none\" stroke=\"black\" cx=\"401.124\" cy=\"-1152\" rx=\"27\" ry=\"18\"/>\n",
       "<text text-anchor=\"middle\" x=\"401.124\" y=\"-1148.3\" font-family=\"Times,serif\" font-size=\"14.00\">C89</text>\n",
       "</g>\n",
       "<!-- Language&#45;&gt;C89 -->\n",
       "<g id=\"edge30\" class=\"edge\"><title>Language&#45;&gt;C89</title>\n",
       "<path fill=\"none\" stroke=\"black\" d=\"M282.411,-980.91C292.645,-1012.9 317.641,-1080.66 357.578,-1125 361.31,-1129.14 365.822,-1132.9 370.494,-1136.2\"/>\n",
       "<polygon fill=\"black\" stroke=\"black\" points=\"368.64,-1139.17 378.942,-1141.64 372.43,-1133.28 368.64,-1139.17\"/>\n",
       "</g>\n",
       "<!-- Python -->\n",
       "<g id=\"node33\" class=\"node\"><title>Python</title>\n",
       "<ellipse fill=\"none\" stroke=\"black\" cx=\"401.124\" cy=\"-1098\" rx=\"35.9954\" ry=\"18\"/>\n",
       "<text text-anchor=\"middle\" x=\"401.124\" y=\"-1094.3\" font-family=\"Times,serif\" font-size=\"14.00\">Python</text>\n",
       "</g>\n",
       "<!-- Language&#45;&gt;Python -->\n",
       "<g id=\"edge32\" class=\"edge\"><title>Language&#45;&gt;Python</title>\n",
       "<path fill=\"none\" stroke=\"black\" d=\"M287.386,-980.626C301.28,-1003.38 327.747,-1043.33 357.578,-1071 360.68,-1073.88 364.13,-1076.63 367.684,-1079.21\"/>\n",
       "<polygon fill=\"black\" stroke=\"black\" points=\"365.808,-1082.16 376.053,-1084.86 369.727,-1076.36 365.808,-1082.16\"/>\n",
       "</g>\n",
       "<!-- Nim -->\n",
       "<g id=\"node34\" class=\"node\"><title>Nim</title>\n",
       "<ellipse fill=\"none\" stroke=\"black\" cx=\"401.124\" cy=\"-1044\" rx=\"27\" ry=\"18\"/>\n",
       "<text text-anchor=\"middle\" x=\"401.124\" y=\"-1040.3\" font-family=\"Times,serif\" font-size=\"14.00\">Nim</text>\n",
       "</g>\n",
       "<!-- Language&#45;&gt;Nim -->\n",
       "<g id=\"edge33\" class=\"edge\"><title>Language&#45;&gt;Nim</title>\n",
       "<path fill=\"none\" stroke=\"black\" d=\"M299.879,-978.518C315.941,-989.395 337.989,-1004.22 357.578,-1017 362.248,-1020.05 367.231,-1023.25 372.081,-1026.35\"/>\n",
       "<polygon fill=\"black\" stroke=\"black\" points=\"370.253,-1029.33 380.571,-1031.74 374.006,-1023.42 370.253,-1029.33\"/>\n",
       "</g>\n",
       "<!-- Java -->\n",
       "<g id=\"node35\" class=\"node\"><title>Java</title>\n",
       "<ellipse fill=\"none\" stroke=\"black\" cx=\"401.124\" cy=\"-990\" rx=\"27\" ry=\"18\"/>\n",
       "<text text-anchor=\"middle\" x=\"401.124\" y=\"-986.3\" font-family=\"Times,serif\" font-size=\"14.00\">Java</text>\n",
       "</g>\n",
       "<!-- Language&#45;&gt;Java -->\n",
       "<g id=\"edge34\" class=\"edge\"><title>Language&#45;&gt;Java</title>\n",
       "<path fill=\"none\" stroke=\"black\" d=\"M316.351,-971.617C332.009,-975.053 349.888,-978.976 365.097,-982.314\"/>\n",
       "<polygon fill=\"black\" stroke=\"black\" points=\"364.622,-985.793 375.14,-984.518 366.123,-978.955 364.622,-985.793\"/>\n",
       "</g>\n",
       "<!-- Cs -->\n",
       "<g id=\"node36\" class=\"node\"><title>Cs</title>\n",
       "<ellipse fill=\"none\" stroke=\"black\" cx=\"401.124\" cy=\"-936\" rx=\"27\" ry=\"18\"/>\n",
       "<text text-anchor=\"middle\" x=\"401.124\" y=\"-932.3\" font-family=\"Times,serif\" font-size=\"14.00\">Cs</text>\n",
       "</g>\n",
       "<!-- Language&#45;&gt;Cs -->\n",
       "<g id=\"edge35\" class=\"edge\"><title>Language&#45;&gt;Cs</title>\n",
       "<path fill=\"none\" stroke=\"black\" d=\"M316.351,-954.383C332.009,-950.947 349.888,-947.024 365.097,-943.686\"/>\n",
       "<polygon fill=\"black\" stroke=\"black\" points=\"366.123,-947.045 375.14,-941.482 364.622,-940.207 366.123,-947.045\"/>\n",
       "</g>\n",
       "<!-- Make -->\n",
       "<g id=\"node37\" class=\"node\"><title>Make</title>\n",
       "<ellipse fill=\"none\" stroke=\"black\" cx=\"401.124\" cy=\"-882\" rx=\"31.3957\" ry=\"18\"/>\n",
       "<text text-anchor=\"middle\" x=\"401.124\" y=\"-878.3\" font-family=\"Times,serif\" font-size=\"14.00\">Make</text>\n",
       "</g>\n",
       "<!-- Language&#45;&gt;Make -->\n",
       "<g id=\"edge36\" class=\"edge\"><title>Language&#45;&gt;Make</title>\n",
       "<path fill=\"none\" stroke=\"black\" d=\"M299.879,-947.482C315.941,-936.605 337.989,-921.783 357.578,-909 361.754,-906.275 366.18,-903.425 370.537,-900.64\"/>\n",
       "<polygon fill=\"black\" stroke=\"black\" points=\"372.722,-903.398 379.282,-895.078 368.965,-897.492 372.722,-903.398\"/>\n",
       "</g>\n",
       "<!-- CMake -->\n",
       "<g id=\"node38\" class=\"node\"><title>CMake</title>\n",
       "<ellipse fill=\"none\" stroke=\"black\" cx=\"401.124\" cy=\"-828\" rx=\"37.0935\" ry=\"18\"/>\n",
       "<text text-anchor=\"middle\" x=\"401.124\" y=\"-824.3\" font-family=\"Times,serif\" font-size=\"14.00\">CMake</text>\n",
       "</g>\n",
       "<!-- Language&#45;&gt;CMake -->\n",
       "<g id=\"edge37\" class=\"edge\"><title>Language&#45;&gt;CMake</title>\n",
       "<path fill=\"none\" stroke=\"black\" d=\"M287.386,-945.374C301.28,-922.621 327.747,-882.673 357.578,-855 360.524,-852.267 363.783,-849.645 367.147,-847.183\"/>\n",
       "<polygon fill=\"black\" stroke=\"black\" points=\"369.316,-849.941 375.61,-841.419 365.375,-844.156 369.316,-849.941\"/>\n",
       "</g>\n",
       "<!-- JS -->\n",
       "<g id=\"node39\" class=\"node\"><title>JS</title>\n",
       "<ellipse fill=\"none\" stroke=\"black\" cx=\"401.124\" cy=\"-774\" rx=\"27\" ry=\"18\"/>\n",
       "<text text-anchor=\"middle\" x=\"401.124\" y=\"-770.3\" font-family=\"Times,serif\" font-size=\"14.00\">JS</text>\n",
       "</g>\n",
       "<!-- Language&#45;&gt;JS -->\n",
       "<g id=\"edge38\" class=\"edge\"><title>Language&#45;&gt;JS</title>\n",
       "<path fill=\"none\" stroke=\"black\" d=\"M282.411,-945.09C292.645,-913.097 317.641,-845.336 357.578,-801 361.31,-796.856 365.822,-793.102 370.494,-789.8\"/>\n",
       "<polygon fill=\"black\" stroke=\"black\" points=\"372.43,-792.716 378.942,-784.359 368.64,-786.831 372.43,-792.716\"/>\n",
       "</g>\n",
       "<!-- XML -->\n",
       "<g id=\"node40\" class=\"node\"><title>XML</title>\n",
       "<ellipse fill=\"none\" stroke=\"black\" cx=\"401.124\" cy=\"-720\" rx=\"30.5947\" ry=\"18\"/>\n",
       "<text text-anchor=\"middle\" x=\"401.124\" y=\"-716.3\" font-family=\"Times,serif\" font-size=\"14.00\">XML</text>\n",
       "</g>\n",
       "<!-- Language&#45;&gt;XML -->\n",
       "<g id=\"edge39\" class=\"edge\"><title>Language&#45;&gt;XML</title>\n",
       "<path fill=\"none\" stroke=\"black\" d=\"M279.82,-944.846C286.609,-905.074 307.438,-808.874 357.578,-747 360.652,-743.207 364.408,-739.784 368.402,-736.75\"/>\n",
       "<polygon fill=\"black\" stroke=\"black\" points=\"370.47,-739.577 376.794,-731.077 366.549,-733.778 370.47,-739.577\"/>\n",
       "</g>\n",
       "<!-- Cpp -->\n",
       "<g id=\"node32\" class=\"node\"><title>Cpp</title>\n",
       "<ellipse fill=\"none\" stroke=\"black\" cx=\"523.566\" cy=\"-1152\" rx=\"27\" ry=\"18\"/>\n",
       "<text text-anchor=\"middle\" x=\"523.566\" y=\"-1148.3\" font-family=\"Times,serif\" font-size=\"14.00\">Cpp</text>\n",
       "</g>\n",
       "<!-- C89&#45;&gt;Cpp -->\n",
       "<g id=\"edge31\" class=\"edge\"><title>C89&#45;&gt;Cpp</title>\n",
       "<path fill=\"none\" stroke=\"black\" d=\"M428.258,-1152C445.225,-1152 467.574,-1152 486.257,-1152\"/>\n",
       "<polygon fill=\"black\" stroke=\"black\" points=\"486.483,-1155.5 496.483,-1152 486.483,-1148.5 486.483,-1155.5\"/>\n",
       "</g>\n",
       "<!-- HTML -->\n",
       "<g id=\"node41\" class=\"node\"><title>HTML</title>\n",
       "<ellipse fill=\"none\" stroke=\"black\" cx=\"523.566\" cy=\"-720\" rx=\"36.2938\" ry=\"18\"/>\n",
       "<text text-anchor=\"middle\" x=\"523.566\" y=\"-716.3\" font-family=\"Times,serif\" font-size=\"14.00\">HTML</text>\n",
       "</g>\n",
       "<!-- XML&#45;&gt;HTML -->\n",
       "<g id=\"edge40\" class=\"edge\"><title>XML&#45;&gt;HTML</title>\n",
       "<path fill=\"none\" stroke=\"black\" d=\"M431.896,-720C445.48,-720 461.869,-720 476.956,-720\"/>\n",
       "<polygon fill=\"black\" stroke=\"black\" points=\"477.142,-723.5 487.142,-720 477.142,-716.5 477.142,-723.5\"/>\n",
       "</g>\n",
       "<!-- ARCH -->\n",
       "<g id=\"node43\" class=\"node\"><title>ARCH</title>\n",
       "<ellipse fill=\"none\" stroke=\"black\" cx=\"276.082\" cy=\"-585\" rx=\"35.194\" ry=\"18\"/>\n",
       "<text text-anchor=\"middle\" x=\"276.082\" y=\"-581.3\" font-family=\"Times,serif\" font-size=\"14.00\">ARCH</text>\n",
       "</g>\n",
       "<!-- HW&#45;&gt;ARCH -->\n",
       "<g id=\"edge42\" class=\"edge\"><title>HW&#45;&gt;ARCH</title>\n",
       "<path fill=\"none\" stroke=\"black\" d=\"M169.074,-516.302C189.178,-529.331 221.21,-550.089 244.807,-565.38\"/>\n",
       "<polygon fill=\"black\" stroke=\"black\" points=\"243.099,-568.445 253.395,-570.946 246.906,-562.57 243.099,-568.445\"/>\n",
       "</g>\n",
       "<!-- CPU -->\n",
       "<g id=\"node49\" class=\"node\"><title>CPU</title>\n",
       "<ellipse fill=\"none\" stroke=\"black\" cx=\"276.082\" cy=\"-504\" rx=\"27.8951\" ry=\"18\"/>\n",
       "<text text-anchor=\"middle\" x=\"276.082\" y=\"-500.3\" font-family=\"Times,serif\" font-size=\"14.00\">CPU</text>\n",
       "</g>\n",
       "<!-- HW&#45;&gt;CPU -->\n",
       "<g id=\"edge48\" class=\"edge\"><title>HW&#45;&gt;CPU</title>\n",
       "<path fill=\"none\" stroke=\"black\" d=\"M176.292,-504C194.132,-504 218.01,-504 237.822,-504\"/>\n",
       "<polygon fill=\"black\" stroke=\"black\" points=\"238.051,-507.5 248.051,-504 238.051,-500.5 238.051,-507.5\"/>\n",
       "</g>\n",
       "<!-- Memory -->\n",
       "<g id=\"node51\" class=\"node\"><title>Memory</title>\n",
       "<ellipse fill=\"none\" stroke=\"black\" cx=\"276.082\" cy=\"-450\" rx=\"42.4939\" ry=\"18\"/>\n",
       "<text text-anchor=\"middle\" x=\"276.082\" y=\"-446.3\" font-family=\"Times,serif\" font-size=\"14.00\">Memory</text>\n",
       "</g>\n",
       "<!-- HW&#45;&gt;Memory -->\n",
       "<g id=\"edge50\" class=\"edge\"><title>HW&#45;&gt;Memory</title>\n",
       "<path fill=\"none\" stroke=\"black\" d=\"M172.148,-494.47C189.895,-486.803 215.265,-475.843 236.377,-466.722\"/>\n",
       "<polygon fill=\"black\" stroke=\"black\" points=\"237.943,-469.858 245.735,-462.679 235.167,-463.432 237.943,-469.858\"/>\n",
       "</g>\n",
       "<!-- Periph -->\n",
       "<g id=\"node66\" class=\"node\"><title>Periph</title>\n",
       "<ellipse fill=\"none\" stroke=\"black\" cx=\"276.082\" cy=\"-207\" rx=\"33.5952\" ry=\"18\"/>\n",
       "<text text-anchor=\"middle\" x=\"276.082\" y=\"-203.3\" font-family=\"Times,serif\" font-size=\"14.00\">Periph</text>\n",
       "</g>\n",
       "<!-- HW&#45;&gt;Periph -->\n",
       "<g id=\"edge65\" class=\"edge\"><title>HW&#45;&gt;Periph</title>\n",
       "<path fill=\"none\" stroke=\"black\" d=\"M157.35,-486.748C178.184,-437.244 238.286,-294.433 263.612,-234.254\"/>\n",
       "<polygon fill=\"black\" stroke=\"black\" points=\"266.991,-235.248 267.644,-224.673 260.539,-232.532 266.991,-235.248\"/>\n",
       "</g>\n",
       "<!-- x86 -->\n",
       "<g id=\"node44\" class=\"node\"><title>x86</title>\n",
       "<ellipse fill=\"none\" stroke=\"black\" cx=\"401.124\" cy=\"-666\" rx=\"27\" ry=\"18\"/>\n",
       "<text text-anchor=\"middle\" x=\"401.124\" y=\"-662.3\" font-family=\"Times,serif\" font-size=\"14.00\">x86</text>\n",
       "</g>\n",
       "<!-- ARCH&#45;&gt;x86 -->\n",
       "<g id=\"edge43\" class=\"edge\"><title>ARCH&#45;&gt;x86</title>\n",
       "<path fill=\"none\" stroke=\"black\" d=\"M297.833,-599.132C314.033,-610.112 337.143,-625.665 357.578,-639 362.248,-642.048 367.231,-645.252 372.081,-648.346\"/>\n",
       "<polygon fill=\"black\" stroke=\"black\" points=\"370.253,-651.331 380.571,-653.737 374.006,-645.422 370.253,-651.331\"/>\n",
       "</g>\n",
       "<!-- ARM -->\n",
       "<g id=\"node47\" class=\"node\"><title>ARM</title>\n",
       "<ellipse fill=\"none\" stroke=\"black\" cx=\"401.124\" cy=\"-612\" rx=\"31.3957\" ry=\"18\"/>\n",
       "<text text-anchor=\"middle\" x=\"401.124\" y=\"-608.3\" font-family=\"Times,serif\" font-size=\"14.00\">ARM</text>\n",
       "</g>\n",
       "<!-- ARCH&#45;&gt;ARM -->\n",
       "<g id=\"edge46\" class=\"edge\"><title>ARCH&#45;&gt;ARM</title>\n",
       "<path fill=\"none\" stroke=\"black\" d=\"M308.768,-591.953C324.807,-595.473 344.415,-599.775 361.348,-603.491\"/>\n",
       "<polygon fill=\"black\" stroke=\"black\" points=\"360.972,-606.992 371.49,-605.717 362.472,-600.154 360.972,-606.992\"/>\n",
       "</g>\n",
       "<!-- MIPS -->\n",
       "<g id=\"node48\" class=\"node\"><title>MIPS</title>\n",
       "<ellipse fill=\"none\" stroke=\"black\" cx=\"401.124\" cy=\"-558\" rx=\"31.6951\" ry=\"18\"/>\n",
       "<text text-anchor=\"middle\" x=\"401.124\" y=\"-554.3\" font-family=\"Times,serif\" font-size=\"14.00\">MIPS</text>\n",
       "</g>\n",
       "<!-- ARCH&#45;&gt;MIPS -->\n",
       "<g id=\"edge47\" class=\"edge\"><title>ARCH&#45;&gt;MIPS</title>\n",
       "<path fill=\"none\" stroke=\"black\" d=\"M308.768,-578.047C324.689,-574.553 344.127,-570.288 360.974,-566.591\"/>\n",
       "<polygon fill=\"black\" stroke=\"black\" points=\"362.057,-569.937 371.074,-564.375 360.557,-563.099 362.057,-569.937\"/>\n",
       "</g>\n",
       "<!-- i386 -->\n",
       "<g id=\"node45\" class=\"node\"><title>i386</title>\n",
       "<ellipse fill=\"none\" stroke=\"black\" cx=\"523.566\" cy=\"-666\" rx=\"27\" ry=\"18\"/>\n",
       "<text text-anchor=\"middle\" x=\"523.566\" y=\"-662.3\" font-family=\"Times,serif\" font-size=\"14.00\">i386</text>\n",
       "</g>\n",
       "<!-- x86&#45;&gt;i386 -->\n",
       "<g id=\"edge44\" class=\"edge\"><title>x86&#45;&gt;i386</title>\n",
       "<path fill=\"none\" stroke=\"black\" d=\"M428.258,-666C445.225,-666 467.574,-666 486.257,-666\"/>\n",
       "<polygon fill=\"black\" stroke=\"black\" points=\"486.483,-669.5 496.483,-666 486.483,-662.5 486.483,-669.5\"/>\n",
       "</g>\n",
       "<!-- amd64 -->\n",
       "<g id=\"node46\" class=\"node\"><title>amd64</title>\n",
       "<ellipse fill=\"none\" stroke=\"black\" cx=\"523.566\" cy=\"-612\" rx=\"35.194\" ry=\"18\"/>\n",
       "<text text-anchor=\"middle\" x=\"523.566\" y=\"-608.3\" font-family=\"Times,serif\" font-size=\"14.00\">amd64</text>\n",
       "</g>\n",
       "<!-- x86&#45;&gt;amd64 -->\n",
       "<g id=\"edge45\" class=\"edge\"><title>x86&#45;&gt;amd64</title>\n",
       "<path fill=\"none\" stroke=\"black\" d=\"M423.935,-656.221C441.492,-648.35 466.523,-637.127 486.975,-627.957\"/>\n",
       "<polygon fill=\"black\" stroke=\"black\" points=\"488.607,-631.061 496.3,-623.777 485.743,-624.674 488.607,-631.061\"/>\n",
       "</g>\n",
       "<!-- MCU -->\n",
       "<g id=\"node50\" class=\"node\"><title>MCU</title>\n",
       "<ellipse fill=\"none\" stroke=\"black\" cx=\"401.124\" cy=\"-504\" rx=\"31.3957\" ry=\"18\"/>\n",
       "<text text-anchor=\"middle\" x=\"401.124\" y=\"-500.3\" font-family=\"Times,serif\" font-size=\"14.00\">MCU</text>\n",
       "</g>\n",
       "<!-- CPU&#45;&gt;MCU -->\n",
       "<g id=\"edge49\" class=\"edge\"><title>CPU&#45;&gt;MCU</title>\n",
       "<path fill=\"none\" stroke=\"black\" d=\"M304.084,-504C320.363,-504 341.409,-504 359.649,-504\"/>\n",
       "<polygon fill=\"black\" stroke=\"black\" points=\"359.725,-507.5 369.725,-504 359.725,-500.5 359.725,-507.5\"/>\n",
       "</g>\n",
       "<!-- MSP430 -->\n",
       "<g id=\"node54\" class=\"node\"><title>MSP430</title>\n",
       "<ellipse fill=\"none\" stroke=\"black\" cx=\"523.566\" cy=\"-558\" rx=\"42.4939\" ry=\"18\"/>\n",
       "<text text-anchor=\"middle\" x=\"523.566\" y=\"-554.3\" font-family=\"Times,serif\" font-size=\"14.00\">MSP430</text>\n",
       "</g>\n",
       "<!-- MCU&#45;&gt;MSP430 -->\n",
       "<g id=\"edge53\" class=\"edge\"><title>MCU&#45;&gt;MSP430</title>\n",
       "<path fill=\"none\" stroke=\"black\" d=\"M426.208,-514.798C442.886,-522.276 465.433,-532.384 484.523,-540.944\"/>\n",
       "<polygon fill=\"black\" stroke=\"black\" points=\"483.302,-544.231 493.858,-545.129 486.166,-537.844 483.302,-544.231\"/>\n",
       "</g>\n",
       "<!-- AVR -->\n",
       "<g id=\"node56\" class=\"node\"><title>AVR</title>\n",
       "<ellipse fill=\"none\" stroke=\"black\" cx=\"523.566\" cy=\"-504\" rx=\"29.4969\" ry=\"18\"/>\n",
       "<text text-anchor=\"middle\" x=\"523.566\" y=\"-500.3\" font-family=\"Times,serif\" font-size=\"14.00\">AVR</text>\n",
       "</g>\n",
       "<!-- MCU&#45;&gt;AVR -->\n",
       "<g id=\"edge55\" class=\"edge\"><title>MCU&#45;&gt;AVR</title>\n",
       "<path fill=\"none\" stroke=\"black\" d=\"M432.517,-504C448.214,-504 467.528,-504 484.239,-504\"/>\n",
       "<polygon fill=\"black\" stroke=\"black\" points=\"484.252,-507.5 494.252,-504 484.252,-500.5 484.252,-507.5\"/>\n",
       "</g>\n",
       "<!-- CortexM -->\n",
       "<g id=\"node58\" class=\"node\"><title>CortexM</title>\n",
       "<ellipse fill=\"none\" stroke=\"black\" cx=\"523.566\" cy=\"-450\" rx=\"42.7926\" ry=\"18\"/>\n",
       "<text text-anchor=\"middle\" x=\"523.566\" y=\"-446.3\" font-family=\"Times,serif\" font-size=\"14.00\">CortexM</text>\n",
       "</g>\n",
       "<!-- MCU&#45;&gt;CortexM -->\n",
       "<g id=\"edge57\" class=\"edge\"><title>MCU&#45;&gt;CortexM</title>\n",
       "<path fill=\"none\" stroke=\"black\" d=\"M426.208,-493.202C442.769,-485.777 465.116,-475.758 484.12,-467.237\"/>\n",
       "<polygon fill=\"black\" stroke=\"black\" points=\"485.728,-470.352 493.421,-463.067 482.865,-463.965 485.728,-470.352\"/>\n",
       "</g>\n",
       "<!-- Flash -->\n",
       "<g id=\"node52\" class=\"node\"><title>Flash</title>\n",
       "<ellipse fill=\"none\" stroke=\"black\" cx=\"401.124\" cy=\"-450\" rx=\"29.795\" ry=\"18\"/>\n",
       "<text text-anchor=\"middle\" x=\"401.124\" y=\"-446.3\" font-family=\"Times,serif\" font-size=\"14.00\">Flash</text>\n",
       "</g>\n",
       "<!-- Memory&#45;&gt;Flash -->\n",
       "<g id=\"edge51\" class=\"edge\"><title>Memory&#45;&gt;Flash</title>\n",
       "<path fill=\"none\" stroke=\"black\" d=\"M318.395,-450C332.193,-450 347.515,-450 361.13,-450\"/>\n",
       "<polygon fill=\"black\" stroke=\"black\" points=\"361.155,-453.5 371.155,-450 361.155,-446.5 361.155,-453.5\"/>\n",
       "</g>\n",
       "<!-- RAM -->\n",
       "<g id=\"node53\" class=\"node\"><title>RAM</title>\n",
       "<ellipse fill=\"none\" stroke=\"black\" cx=\"401.124\" cy=\"-396\" rx=\"31.3957\" ry=\"18\"/>\n",
       "<text text-anchor=\"middle\" x=\"401.124\" y=\"-392.3\" font-family=\"Times,serif\" font-size=\"14.00\">RAM</text>\n",
       "</g>\n",
       "<!-- Memory&#45;&gt;RAM -->\n",
       "<g id=\"edge52\" class=\"edge\"><title>Memory&#45;&gt;RAM</title>\n",
       "<path fill=\"none\" stroke=\"black\" d=\"M306.241,-437.203C324.275,-429.288 347.495,-419.097 366.331,-410.831\"/>\n",
       "<polygon fill=\"black\" stroke=\"black\" points=\"367.979,-413.93 375.73,-406.706 365.166,-407.52 367.979,-413.93\"/>\n",
       "</g>\n",
       "<!-- MSP430X -->\n",
       "<g id=\"node55\" class=\"node\"><title>MSP430X</title>\n",
       "<ellipse fill=\"none\" stroke=\"black\" cx=\"650.558\" cy=\"-558\" rx=\"48.1917\" ry=\"18\"/>\n",
       "<text text-anchor=\"middle\" x=\"650.558\" y=\"-554.3\" font-family=\"Times,serif\" font-size=\"14.00\">MSP430X</text>\n",
       "</g>\n",
       "<!-- MSP430&#45;&gt;MSP430X -->\n",
       "<g id=\"edge54\" class=\"edge\"><title>MSP430&#45;&gt;MSP430X</title>\n",
       "<path fill=\"none\" stroke=\"black\" d=\"M565.84,-558C574.222,-558 583.181,-558 592.009,-558\"/>\n",
       "<polygon fill=\"black\" stroke=\"black\" points=\"592.268,-561.5 602.268,-558 592.268,-554.5 592.268,-561.5\"/>\n",
       "</g>\n",
       "<!-- ATmega -->\n",
       "<g id=\"node57\" class=\"node\"><title>ATmega</title>\n",
       "<ellipse fill=\"none\" stroke=\"black\" cx=\"650.558\" cy=\"-504\" rx=\"42.4939\" ry=\"18\"/>\n",
       "<text text-anchor=\"middle\" x=\"650.558\" y=\"-500.3\" font-family=\"Times,serif\" font-size=\"14.00\">ATmega</text>\n",
       "</g>\n",
       "<!-- AVR&#45;&gt;ATmega -->\n",
       "<g id=\"edge56\" class=\"edge\"><title>AVR&#45;&gt;ATmega</title>\n",
       "<path fill=\"none\" stroke=\"black\" d=\"M552.929,-504C566.155,-504 582.323,-504 597.622,-504\"/>\n",
       "<polygon fill=\"black\" stroke=\"black\" points=\"598.027,-507.5 608.027,-504 598.027,-500.5 598.027,-507.5\"/>\n",
       "</g>\n",
       "<!-- CM0 -->\n",
       "<g id=\"node59\" class=\"node\"><title>CM0</title>\n",
       "<ellipse fill=\"none\" stroke=\"black\" cx=\"650.558\" cy=\"-450\" rx=\"29.4969\" ry=\"18\"/>\n",
       "<text text-anchor=\"middle\" x=\"650.558\" y=\"-446.3\" font-family=\"Times,serif\" font-size=\"14.00\">CM0</text>\n",
       "</g>\n",
       "<!-- CortexM&#45;&gt;CM0 -->\n",
       "<g id=\"edge58\" class=\"edge\"><title>CortexM&#45;&gt;CM0</title>\n",
       "<path fill=\"none\" stroke=\"black\" d=\"M566.535,-450C580.889,-450 596.87,-450 610.947,-450\"/>\n",
       "<polygon fill=\"black\" stroke=\"black\" points=\"611.282,-453.5 621.282,-450 611.282,-446.5 611.282,-453.5\"/>\n",
       "</g>\n",
       "<!-- CM3 -->\n",
       "<g id=\"node60\" class=\"node\"><title>CM3</title>\n",
       "<ellipse fill=\"none\" stroke=\"black\" cx=\"650.558\" cy=\"-396\" rx=\"29.4969\" ry=\"18\"/>\n",
       "<text text-anchor=\"middle\" x=\"650.558\" y=\"-392.3\" font-family=\"Times,serif\" font-size=\"14.00\">CM3</text>\n",
       "</g>\n",
       "<!-- CortexM&#45;&gt;CM3 -->\n",
       "<g id=\"edge59\" class=\"edge\"><title>CortexM&#45;&gt;CM3</title>\n",
       "<path fill=\"none\" stroke=\"black\" d=\"M554.188,-437.203C572.962,-429.092 597.269,-418.59 616.645,-410.219\"/>\n",
       "<polygon fill=\"black\" stroke=\"black\" points=\"618.201,-413.36 625.993,-406.181 615.425,-406.934 618.201,-413.36\"/>\n",
       "</g>\n",
       "<!-- STM32F0 -->\n",
       "<g id=\"node61\" class=\"node\"><title>STM32F0</title>\n",
       "<ellipse fill=\"none\" stroke=\"black\" cx=\"782.1\" cy=\"-450\" rx=\"47.3916\" ry=\"18\"/>\n",
       "<text text-anchor=\"middle\" x=\"782.1\" y=\"-446.3\" font-family=\"Times,serif\" font-size=\"14.00\">STM32F0</text>\n",
       "</g>\n",
       "<!-- CM0&#45;&gt;STM32F0 -->\n",
       "<g id=\"edge60\" class=\"edge\"><title>CM0&#45;&gt;STM32F0</title>\n",
       "<path fill=\"none\" stroke=\"black\" d=\"M679.987,-450C692.937,-450 708.752,-450 723.993,-450\"/>\n",
       "<polygon fill=\"black\" stroke=\"black\" points=\"724.411,-453.5 734.411,-450 724.411,-446.5 724.411,-453.5\"/>\n",
       "</g>\n",
       "<!-- STM32F1 -->\n",
       "<g id=\"node64\" class=\"node\"><title>STM32F1</title>\n",
       "<ellipse fill=\"none\" stroke=\"black\" cx=\"782.1\" cy=\"-396\" rx=\"47.3916\" ry=\"18\"/>\n",
       "<text text-anchor=\"middle\" x=\"782.1\" y=\"-392.3\" font-family=\"Times,serif\" font-size=\"14.00\">STM32F1</text>\n",
       "</g>\n",
       "<!-- CM3&#45;&gt;STM32F1 -->\n",
       "<g id=\"edge63\" class=\"edge\"><title>CM3&#45;&gt;STM32F1</title>\n",
       "<path fill=\"none\" stroke=\"black\" d=\"M679.987,-396C692.937,-396 708.752,-396 723.993,-396\"/>\n",
       "<polygon fill=\"black\" stroke=\"black\" points=\"724.411,-399.5 734.411,-396 724.411,-392.5 724.411,-399.5\"/>\n",
       "</g>\n",
       "<!-- STM32L0 -->\n",
       "<g id=\"node62\" class=\"node\"><title>STM32L0</title>\n",
       "<ellipse fill=\"none\" stroke=\"black\" cx=\"921.441\" cy=\"-504\" rx=\"48.1917\" ry=\"18\"/>\n",
       "<text text-anchor=\"middle\" x=\"921.441\" y=\"-500.3\" font-family=\"Times,serif\" font-size=\"14.00\">STM32L0</text>\n",
       "</g>\n",
       "<!-- STM32F0&#45;&gt;STM32L0 -->\n",
       "<g id=\"edge61\" class=\"edge\"><title>STM32F0&#45;&gt;STM32L0</title>\n",
       "<path fill=\"none\" stroke=\"black\" d=\"M815.648,-462.797C834.326,-470.141 857.988,-479.445 878.1,-487.352\"/>\n",
       "<polygon fill=\"black\" stroke=\"black\" points=\"877.063,-490.706 887.65,-491.107 879.625,-484.191 877.063,-490.706\"/>\n",
       "</g>\n",
       "<!-- STM32F030 -->\n",
       "<g id=\"node63\" class=\"node\"><title>STM32F030</title>\n",
       "<ellipse fill=\"none\" stroke=\"black\" cx=\"921.441\" cy=\"-450\" rx=\"55.7903\" ry=\"18\"/>\n",
       "<text text-anchor=\"middle\" x=\"921.441\" y=\"-446.3\" font-family=\"Times,serif\" font-size=\"14.00\">STM32F030</text>\n",
       "</g>\n",
       "<!-- STM32F0&#45;&gt;STM32F030 -->\n",
       "<g id=\"edge62\" class=\"edge\"><title>STM32F0&#45;&gt;STM32F030</title>\n",
       "<path fill=\"none\" stroke=\"black\" d=\"M829.597,-450C837.875,-450 846.635,-450 855.319,-450\"/>\n",
       "<polygon fill=\"black\" stroke=\"black\" points=\"855.444,-453.5 865.444,-450 855.444,-446.5 855.444,-453.5\"/>\n",
       "</g>\n",
       "<!-- STM32F103 -->\n",
       "<g id=\"node65\" class=\"node\"><title>STM32F103</title>\n",
       "<ellipse fill=\"none\" stroke=\"black\" cx=\"921.441\" cy=\"-396\" rx=\"55.7903\" ry=\"18\"/>\n",
       "<text text-anchor=\"middle\" x=\"921.441\" y=\"-392.3\" font-family=\"Times,serif\" font-size=\"14.00\">STM32F103</text>\n",
       "</g>\n",
       "<!-- STM32F1&#45;&gt;STM32F103 -->\n",
       "<g id=\"edge64\" class=\"edge\"><title>STM32F1&#45;&gt;STM32F103</title>\n",
       "<path fill=\"none\" stroke=\"black\" d=\"M829.597,-396C837.875,-396 846.635,-396 855.319,-396\"/>\n",
       "<polygon fill=\"black\" stroke=\"black\" points=\"855.444,-399.5 865.444,-396 855.444,-392.5 855.444,-399.5\"/>\n",
       "</g>\n",
       "<!-- GPIO -->\n",
       "<g id=\"node67\" class=\"node\"><title>GPIO</title>\n",
       "<ellipse fill=\"none\" stroke=\"black\" cx=\"401.124\" cy=\"-342\" rx=\"31.3957\" ry=\"18\"/>\n",
       "<text text-anchor=\"middle\" x=\"401.124\" y=\"-338.3\" font-family=\"Times,serif\" font-size=\"14.00\">GPIO</text>\n",
       "</g>\n",
       "<!-- Periph&#45;&gt;GPIO -->\n",
       "<g id=\"edge66\" class=\"edge\"><title>Periph&#45;&gt;GPIO</title>\n",
       "<path fill=\"none\" stroke=\"black\" d=\"M287.147,-224.236C300.976,-246.919 327.575,-287.168 357.578,-315 361.157,-318.321 365.199,-321.477 369.33,-324.382\"/>\n",
       "<polygon fill=\"black\" stroke=\"black\" points=\"367.539,-327.394 377.817,-329.966 371.387,-321.546 367.539,-327.394\"/>\n",
       "</g>\n",
       "<!-- UART -->\n",
       "<g id=\"node68\" class=\"node\"><title>UART</title>\n",
       "<ellipse fill=\"none\" stroke=\"black\" cx=\"401.124\" cy=\"-288\" rx=\"34.394\" ry=\"18\"/>\n",
       "<text text-anchor=\"middle\" x=\"401.124\" y=\"-284.3\" font-family=\"Times,serif\" font-size=\"14.00\">UART</text>\n",
       "</g>\n",
       "<!-- Periph&#45;&gt;UART -->\n",
       "<g id=\"edge67\" class=\"edge\"><title>Periph&#45;&gt;UART</title>\n",
       "<path fill=\"none\" stroke=\"black\" d=\"M297.833,-221.132C314.033,-232.112 337.143,-247.665 357.578,-261 361.475,-263.543 365.589,-266.195 369.661,-268.8\"/>\n",
       "<polygon fill=\"black\" stroke=\"black\" points=\"368.096,-271.953 378.412,-274.37 371.855,-266.048 368.096,-271.953\"/>\n",
       "</g>\n",
       "<!-- SPI -->\n",
       "<g id=\"node69\" class=\"node\"><title>SPI</title>\n",
       "<ellipse fill=\"none\" stroke=\"black\" cx=\"401.124\" cy=\"-234\" rx=\"27\" ry=\"18\"/>\n",
       "<text text-anchor=\"middle\" x=\"401.124\" y=\"-230.3\" font-family=\"Times,serif\" font-size=\"14.00\">SPI</text>\n",
       "</g>\n",
       "<!-- Periph&#45;&gt;SPI -->\n",
       "<g id=\"edge68\" class=\"edge\"><title>Periph&#45;&gt;SPI</title>\n",
       "<path fill=\"none\" stroke=\"black\" d=\"M307.497,-213.674C324.949,-217.504 346.933,-222.328 365.104,-226.315\"/>\n",
       "<polygon fill=\"black\" stroke=\"black\" points=\"364.507,-229.768 375.025,-228.492 366.008,-222.93 364.507,-229.768\"/>\n",
       "</g>\n",
       "<!-- I2C -->\n",
       "<g id=\"node71\" class=\"node\"><title>I2C</title>\n",
       "<ellipse fill=\"none\" stroke=\"black\" cx=\"401.124\" cy=\"-180\" rx=\"27\" ry=\"18\"/>\n",
       "<text text-anchor=\"middle\" x=\"401.124\" y=\"-176.3\" font-family=\"Times,serif\" font-size=\"14.00\">I2C</text>\n",
       "</g>\n",
       "<!-- Periph&#45;&gt;I2C -->\n",
       "<g id=\"edge70\" class=\"edge\"><title>Periph&#45;&gt;I2C</title>\n",
       "<path fill=\"none\" stroke=\"black\" d=\"M307.497,-200.326C324.949,-196.496 346.933,-191.672 365.104,-187.685\"/>\n",
       "<polygon fill=\"black\" stroke=\"black\" points=\"366.008,-191.07 375.025,-185.508 364.507,-184.232 366.008,-191.07\"/>\n",
       "</g>\n",
       "<!-- OneWire -->\n",
       "<g id=\"node72\" class=\"node\"><title>OneWire</title>\n",
       "<ellipse fill=\"none\" stroke=\"black\" cx=\"401.124\" cy=\"-126\" rx=\"43.5923\" ry=\"18\"/>\n",
       "<text text-anchor=\"middle\" x=\"401.124\" y=\"-122.3\" font-family=\"Times,serif\" font-size=\"14.00\">OneWire</text>\n",
       "</g>\n",
       "<!-- Periph&#45;&gt;OneWire -->\n",
       "<g id=\"edge71\" class=\"edge\"><title>Periph&#45;&gt;OneWire</title>\n",
       "<path fill=\"none\" stroke=\"black\" d=\"M297.833,-192.868C314.033,-181.888 337.143,-166.335 357.578,-153 360.863,-150.856 364.303,-148.635 367.743,-146.429\"/>\n",
       "<polygon fill=\"black\" stroke=\"black\" points=\"369.656,-149.36 376.203,-141.031 365.89,-143.459 369.656,-149.36\"/>\n",
       "</g>\n",
       "<!-- USB -->\n",
       "<g id=\"node73\" class=\"node\"><title>USB</title>\n",
       "<ellipse fill=\"none\" stroke=\"black\" cx=\"401.124\" cy=\"-72\" rx=\"27.8951\" ry=\"18\"/>\n",
       "<text text-anchor=\"middle\" x=\"401.124\" y=\"-68.3\" font-family=\"Times,serif\" font-size=\"14.00\">USB</text>\n",
       "</g>\n",
       "<!-- Periph&#45;&gt;USB -->\n",
       "<g id=\"edge72\" class=\"edge\"><title>Periph&#45;&gt;USB</title>\n",
       "<path fill=\"none\" stroke=\"black\" d=\"M287.147,-189.764C300.976,-167.081 327.575,-126.832 357.578,-99 361.486,-95.3745 365.945,-91.9451 370.47,-88.8239\"/>\n",
       "<polygon fill=\"black\" stroke=\"black\" points=\"372.627,-91.5974 379.127,-83.2311 368.828,-85.7177 372.627,-91.5974\"/>\n",
       "</g>\n",
       "<!-- Eth -->\n",
       "<g id=\"node74\" class=\"node\"><title>Eth</title>\n",
       "<ellipse fill=\"none\" stroke=\"black\" cx=\"401.124\" cy=\"-18\" rx=\"27\" ry=\"18\"/>\n",
       "<text text-anchor=\"middle\" x=\"401.124\" y=\"-14.3\" font-family=\"Times,serif\" font-size=\"14.00\">Eth</text>\n",
       "</g>\n",
       "<!-- Periph&#45;&gt;Eth -->\n",
       "<g id=\"edge73\" class=\"edge\"><title>Periph&#45;&gt;Eth</title>\n",
       "<path fill=\"none\" stroke=\"black\" d=\"M282.411,-189.09C292.645,-157.097 317.641,-89.3361 357.578,-45 361.31,-40.8562 365.822,-37.1019 370.494,-33.8\"/>\n",
       "<polygon fill=\"black\" stroke=\"black\" points=\"372.43,-36.7163 378.942,-28.3589 368.64,-30.8313 372.43,-36.7163\"/>\n",
       "</g>\n",
       "<!-- SD -->\n",
       "<g id=\"node70\" class=\"node\"><title>SD</title>\n",
       "<ellipse fill=\"none\" stroke=\"black\" cx=\"523.566\" cy=\"-234\" rx=\"27\" ry=\"18\"/>\n",
       "<text text-anchor=\"middle\" x=\"523.566\" y=\"-230.3\" font-family=\"Times,serif\" font-size=\"14.00\">SD</text>\n",
       "</g>\n",
       "<!-- SPI&#45;&gt;SD -->\n",
       "<g id=\"edge69\" class=\"edge\"><title>SPI&#45;&gt;SD</title>\n",
       "<path fill=\"none\" stroke=\"black\" d=\"M428.258,-234C445.225,-234 467.574,-234 486.257,-234\"/>\n",
       "<polygon fill=\"black\" stroke=\"black\" points=\"486.483,-237.5 496.483,-234 486.483,-230.5 486.483,-237.5\"/>\n",
       "</g>\n",
       "</g>\n",
       "</svg>\n"
      ],
      "text/plain": [
       "<graphviz.dot.Digraph at 0x7f1e34d86898>"
      ]
     },
     "execution_count": 12,
     "metadata": {},
     "output_type": "execute_result"
    }
   ],
   "source": [
    "dot = Digraph() ; dot.attr(rankdir='LR',size='10,18')\n",
    "dot.node('Frame')\n",
    "dot.edge('Frame','Primitive')\n",
    "dot.edge('Primitive','Symbol')\n",
    "dot.edge('Primitive','String')\n",
    "dot.edge('Primitive','Number') ; dot.edge('Number','Integer')\n",
    "dot.edge('Integer','Hex') ; dot.edge('Integer','Bin')\n",
    "dot.edge('Frame','Container')\n",
    "dot.edge('Container','Vector') ; dot.edge('Container','Stack')\n",
    "dot.edge('Container','Dict') ; dot.edge('Container','Set')\n",
    "dot.edge('Container','Queue')\n",
    "dot.edge('Frame','Active')\n",
    "dot.edge('Active','Cmd') ; dot.edge('Active','VM') ; dot.edge('Active','Seq')\n",
    "dot.edge('Frame','IO')\n",
    "dot.edge('IO','Dir') ; dot.edge('IO','File') ; dot.edge('IO','Net')\n",
    "dot.edge('Net','IP') ; dot.edge('Net','Port') ; dot.edge('Net','Web')\n",
    "dot.edge('Frame','Meta')\n",
    "dot.edge('Meta','Class') ; dot.edge('Meta','Fn') ; dot.edge('Fn','Method')\n",
    "dot.edge('Meta','Language')\n",
    "dot.edge('Language','C89') ; dot.edge('C89','Cpp')\n",
    "dot.edge('Language','Python') ; dot.edge('Language','Nim')\n",
    "dot.edge('Language','Java') ; dot.edge('Language','Cs')\n",
    "dot.edge('Language','Make') ; dot.edge('Language','CMake')\n",
    "dot.edge('Language','JS')\n",
    "dot.edge('Language','XML') ; dot.edge('XML','HTML')\n",
    "dot.edge('Frame','HW')\n",
    "dot.edge('HW','ARCH') ; dot.edge('ARCH','x86')\n",
    "dot.edge('x86','i386') ; dot.edge('x86','amd64')\n",
    "dot.edge('ARCH','ARM') ; dot.edge('ARCH','MIPS')\n",
    "dot.edge('HW','CPU') ; dot.edge('CPU','MCU')\n",
    "dot.edge('HW','Memory') ; dot.edge('Memory','Flash') ; dot.edge('Memory','RAM')\n",
    "dot.edge('MCU','MSP430') ; dot.edge('MSP430','MSP430X')\n",
    "dot.edge('MCU','AVR') ; dot.edge('AVR','ATmega')\n",
    "dot.edge('MCU','CortexM') ; dot.edge('CortexM','CM0') ; dot.edge('CortexM','CM3')\n",
    "dot.edge('CM0','STM32F0') ; dot.edge('STM32F0','STM32L0')\n",
    "dot.edge('STM32F0','STM32F030')\n",
    "dot.edge('CM3','STM32F1') ; dot.edge('STM32F1','STM32F103')\n",
    "dot.edge('HW','Periph') ; dot.edge('Periph','GPIO')\n",
    "dot.edge('Periph','UART') ; dot.edge('Periph','SPI') ; dot.edge('SPI','SD')\n",
    "dot.edge('Periph','I2C') ; dot.edge('Periph','OneWire')\n",
    "dot.edge('Periph','USB') ; dot.edge('Periph','Eth')\n",
    "dot"
   ]
  },
  {
   "cell_type": "markdown",
   "metadata": {},
   "source": [
    "### Primitive data"
   ]
  },
  {
   "cell_type": "markdown",
   "metadata": {},
   "source": [
    "The key property of all primitive objects is they all **evaluate to itself**."
   ]
  },
  {
   "cell_type": "code",
   "execution_count": 13,
   "metadata": {},
   "outputs": [
    {
     "name": "stdout",
     "output_type": "stream",
     "text": [
      "Appending to metaL.py\n"
     ]
    }
   ],
   "source": [
    "%%writefile -a metaL.py\n",
    "\n",
    "# primitive scalar data types\n",
    "# close to low-level (hardware or implementation language)\n",
    "class Primitive(Frame):\n",
    "    def eval(self,ctx): # to itself\n",
    "        ctx // self\n",
    "\n",
    "# names other objects\n",
    "class Symbol(Primitive): pass\n",
    "\n",
    "# text string (multiline)\n",
    "class String(Primitive): pass\n",
    "\n",
    "# floating point number\n",
    "class Number(Primitive): pass\n",
    "\n",
    "# integer numbers\n",
    "class Integer(Number): pass\n",
    "# hexadecimal machine number\n",
    "class Hex(Integer): pass\n",
    "# binary string/number\n",
    "class Bin(Integer): pass"
   ]
  },
  {
   "cell_type": "code",
   "execution_count": 14,
   "metadata": {},
   "outputs": [
    {
     "name": "stdout",
     "output_type": "stream",
     "text": [
      "Appending to metaL.py\n"
     ]
    }
   ],
   "source": [
    "%%writefile -a metaL.py\n",
    "\n",
    "# data containers\n",
    "class Container(Frame): pass\n",
    "\n",
    "# ordered variable-size vector\n",
    "class Vector(Container): pass\n",
    "\n",
    "# LIFO: push/pop interface\n",
    "class Stack(Container): pass\n",
    "\n",
    "# FIFO: put/get interface\n",
    "class Queue(Container): pass\n",
    "\n",
    "# associative array\n",
    "class Dict(Container): pass\n",
    "\n",
    "# single-element\n",
    "class Set(Container): pass\n"
   ]
  },
  {
   "cell_type": "code",
   "execution_count": 15,
   "metadata": {},
   "outputs": [
    {
     "name": "stdout",
     "output_type": "stream",
     "text": [
      "Appending to test_metaL.py\n"
     ]
    }
   ],
   "source": [
    "%%writefile -a test_metaL.py\n",
    "\n",
    "class TestPrimitive:\n",
    "\n",
    "    def test_symbol(self):\n",
    "        assert Symbol('test').test() == '\\n<symbol:test>'\n"
   ]
  },
  {
   "cell_type": "markdown",
   "metadata": {},
   "source": [
    "# EDS: Executable Data Structure (c)"
   ]
  },
  {
   "cell_type": "markdown",
   "metadata": {},
   "source": [
    "* https://www.quora.com/What-is-graph-oriented-programming/answer/Dmitry-Ponyatov\n"
   ]
  },
  {
   "cell_type": "markdown",
   "metadata": {},
   "source": [
    "#### What is graph oriented programming?\n",
    "\n",
    "Let’s see `Lisp` — it is *based on lists*, **all data and especially code are lists**.\n",
    "\n",
    "Now let **think about graphs made of some objects as a program representation**. We can take any programming language as a base, for example C. We can parse some source code, split then into syntax elements, and build parsing tree from them. The tree is a *graph*, every node is an *object*, nodes *linked by references* as graph edges. Every node can have arbitrary *attributes* addressed by names -- Marvin Minsky call them *slots*."
   ]
  },
  {
   "cell_type": "markdown",
   "metadata": {},
   "source": [
    "As a sample, this is source code in Python shows the base graph object:\n",
    "```py\n",
    "class Frame:\n",
    "  def __init__(self,V):\n",
    "    self.type = self.__class__.__name__.lower()\n",
    "    self.val = V\n",
    "    self.slot = {}\n",
    "    self.nest = []\n",
    "```"
   ]
  },
  {
   "cell_type": "markdown",
   "metadata": {},
   "source": [
    "To make a *programming system* **does not use any programming languages**, but *only graphs in memory*, we should inherit this class to two classes:"
   ]
  },
  {
   "cell_type": "markdown",
   "metadata": {},
   "source": [
    "```py\n",
    "class VM(Frame):\n",
    "  def __lshift__(self,F):\n",
    "    if callable(F): return self << Cmd(F)\n",
    "    else: return Frame.__lshift__(self,F)\n",
    " \n",
    "class Cmd(Frame):\n",
    "  def __init__(self,F):\n",
    "    Frame.__init__(self,F.__name__)\n",
    "    self.fn = F\n",
    "  def eval(self,ctx):\n",
    "    self.fn(ctx)\n",
    " \n",
    "vm = VM('metaL') ; print(vm)\n",
    "\n",
    "def BYE(ctx): sys.exit(0)\n",
    "vm << BYE\n",
    "\n",
    "print(vm)\n",
    "```"
   ]
  },
  {
   "cell_type": "markdown",
   "metadata": {},
   "source": [
    "Now we have global context vm\n",
    "```\n",
    "<vm:metaL> @7f5bc7e2a5f8\n",
    "   BYE = <cmd:BYE> @7f5bc7f5e320\n",
    "```"
   ]
  },
  {
   "cell_type": "markdown",
   "metadata": {},
   "source": [
    "It has two properties required to implement a programming system (language):\n",
    "\n",
    "* the **lookup table** (environment, *vocabulary*), and\n",
    "* **data stack** for storing data in order, and do operations on them"
   ]
  },
  {
   "cell_type": "markdown",
   "metadata": {},
   "source": [
    "`Cmd` object wraps generic Python **functions which gets execution context as an attribute** and can *do any arbitrary operation on this context*."
   ]
  },
  {
   "cell_type": "markdown",
   "metadata": {},
   "source": [
    "*Adding a dozen of inherited classes* to represent primitives (symbol, string, number), and some objects evaluate as control structures (if, case, loops, etc) *we got a programming system*. **It is not required to use programming language**, as this system can use any graph manipulation interfaces (gui,web) to construct new graphs by running existing ones."
   ]
  },
  {
   "attachments": {
    "image.png": {
     "image/png": "[encoded data removed]"
    }
   },
   "cell_type": "markdown",
   "metadata": {},
   "source": [
    "This classical code\n",
    "```c\n",
    "int _fib(int n, int acc) {\n",
    "    if (n==0) return acc;\n",
    "    return _fib(n-1,acc*n)\n",
    "}\n",
    " \n",
    "int fib(int n) { return _fib(n,1) }\n",
    "```\n",
    "transforms to **executable data structure** which can both represent “code” and **be run in a system* by the *EDS-interpreter*\n",
    "\n",
    "![image.png](attachment:image.png)"
   ]
  },
  {
   "cell_type": "markdown",
   "metadata": {},
   "source": [
    "## *Homoiconic* programming system"
   ]
  },
  {
   "cell_type": "markdown",
   "metadata": {},
   "source": [
    "**Homoiconicity** is a property of a programming language in which *any program is* **simultaneously**\n",
    "* *the easy to modify* **data structure** , and \n",
    "* an **executable program representation** (program source code).\n",
    "\n",
    "In a homoiconic language, a programmer does not just have access to the source code, but the language itself specifically provides tools and easy to use methods for convenient work with parts of programs (represented as generic data) in runtime.\n",
    "* Say, if you include C++ source code of your program into the distribution package, you can work with the program code as data, but only at the level of text files, or using third-party analysis libraries. In the C++ language itself, there are no tools for reading, modifying, or generating source code.\n",
    "* Conversely, in the Lisp language, all programs are represented in the form of executable lists -- *these lists* are simultaneously a representation of the program and the usual *universal data structure for working with which the language was specially created*."
   ]
  },
  {
   "cell_type": "markdown",
   "metadata": {},
   "source": [
    "### EDS-interpreter"
   ]
  },
  {
   "cell_type": "markdown",
   "metadata": {},
   "source": [
    "In order to use the advantages of homoiconicity in your programs written in any conventional languages (C++/Java/C#/...), you need to integrate an **EDS-interpreter** into your programs that will \n",
    "* **execute some data structure as a program**, and at the same time \n",
    "* provides high-level *tools for modifying it* in runtime.\n",
    "\n",
    "It is not necessary that this interpreter should be an implementation of some scripting programming language.\n",
    "\n",
    "Script language interpreters embedded into programs are now widely used to provide the user with the ability to customize and *extend the functionality of programs without its recompilation*. The most famous example is game engines:\n",
    "* the program core is written in C++ or any other language which generates highly-efficient machine code\n",
    "* the game itself is written in some scripting languages such as Lua, Python, JavaScript,.."
   ]
  },
  {
   "cell_type": "markdown",
   "metadata": {},
   "source": [
    "The most interesting thing: **it is possible to do programming without using any programming language** -- it is enough that the system has a **data structures interpreter**: that's the core of **EDS method** (Executable Data Structure). To create a program in such a system, you need to have any way to create an executable data structure in memory: it can be a graphic drawing, a text format parser, a graph database, or C++ code that forces the compiler to include such a structure in the executable file statically."
   ]
  },
  {
   "cell_type": "markdown",
   "metadata": {},
   "source": [
    "# Metaprogramming"
   ]
  },
  {
   "cell_type": "markdown",
   "metadata": {},
   "source": [
    "Metaprogramming -- when one program modifies (generates) another program, including itself."
   ]
  },
  {
   "cell_type": "markdown",
   "metadata": {},
   "source": [
    "**Metaprogramming is a method of boosting your efficiency as a programmer by expanding the language you use**. If you write very similar code every day, in languages ​​that can do meta (Lisp, Nim), you can write small macro programs that will run during the compilation of the code (Nim), and generate new code from a template or modify an existing one the way as you need it. Factically, you can add to the language those features that are needed for a narrow set of *your specific tasks*."
   ]
  },
  {
   "cell_type": "markdown",
   "metadata": {},
   "source": [
    "In order **to be able to use metaprogramming in a full scale**, the language or **programming system you are using must be homoiconic**. If you want to use this method with industrial programming languages, the use of an EDS interpreter will allow you to quickly and conveniently solve your problems, paying for it with losses in the speed of programs and memory usage (see a comparison of the interpreter vs the compiler into machine code)."
   ]
  },
  {
   "cell_type": "markdown",
   "metadata": {},
   "source": [
    "# Generic program representation"
   ]
  },
  {
   "cell_type": "markdown",
   "metadata": {},
   "source": [
    "Well-known forms of program representations:\n",
    "* **machine code**\n",
    "* **source code in** some language (**text files**) -- practically all programming languages from mainstream ones in industrial use, down to experimental and esoteric\n",
    "* dynamical **lists** -- the Lisp\n",
    "\n",
    "`metaL` (**meta L**anguage) also offers another form:\n",
    "* object graphs -- `metaL`"
   ]
  },
  {
   "cell_type": "markdown",
   "metadata": {},
   "source": [
    "A **graph** is a mathematical concept, and a data structure is very widely used in programming.\n",
    "\n",
    "The graph consists of vertices -- nodes, and edges that connect the nodes to each other. A **directed graph** is a special case of a graph in which a direction is given for each edge and the start and end nodes are known.\n",
    "\n",
    "An **object** is a data item that links\n",
    "* a set of data *fields* that specify the state of the object\n",
    "* *methods* for working with these data, and with the object itself as a single entity"
   ]
  },
  {
   "cell_type": "markdown",
   "metadata": {},
   "source": [
    "Finally, the **object graph** is a data structure in which\n",
    "* nodes are **objects**, and\n",
    "* edges are defined as **references** from an object to other objects.\\\n",
    "It is clear that the object graph is **directed**, and **can be cyclic** (the object refers to itself)"
   ]
  },
  {
   "cell_type": "markdown",
   "metadata": {},
   "source": [
    "## Frame as a universal data element"
   ]
  },
  {
   "cell_type": "markdown",
   "metadata": {},
   "source": [
    "Each object graph node aka **Frame is a universal data container**.\n",
    "* `type` indicates the type of frame, which is also displayed to the user. This field is required for languages that do not support RTTI: they are not able to determine the type of an arbitrary object dynamically during program execution. Python has a built-in function `isinstance()`, but this field also appeared due to the requirements of the [PLY library](https://www.dabeaz.com/ply/).\n",
    "* `val` contains data that distinguishes one frame from another: the name of the frame, or some scalar value\n",
    "* `slot` stores named links to other frames -- it sets edges of the object graph via references\n",
    "* `nest` is an ordered data container that was not in the original Minsky frames, but it is necessary for parsing text formats (nested elements of the parsing tree), and for use as a stack (LIFO) and queue (FIFO)\n",
    "\n",
    "Any node can store any other data packed in additional fields -- it is enough to inherit a new class from the base Frame, if dynamic languages like Pyhon frame object can be extended unlimited."
   ]
  },
  {
   "cell_type": "code",
   "execution_count": 16,
   "metadata": {},
   "outputs": [
    {
     "name": "stdout",
     "output_type": "stream",
     "text": [
      "Appending to metaL.py\n"
     ]
    }
   ],
   "source": [
    "%%writefile -a metaL.py\n",
    "\n",
    "# classes subset required to implement EDS: Executable Data Structure (c)\n",
    "class Active(Frame): pass"
   ]
  },
  {
   "cell_type": "code",
   "execution_count": 17,
   "metadata": {},
   "outputs": [
    {
     "name": "stdout",
     "output_type": "stream",
     "text": [
      "Appending to metaL.py\n"
     ]
    }
   ],
   "source": [
    "%%writefile -a metaL.py\n",
    "\n",
    "# VM command which wraps Python function(context)\n",
    "class Cmd(Active):\n",
    "    # use function name as .val\n",
    "    def __init__(self,F):\n",
    "        Active.__init__(self,F.__name__)\n",
    "        self.fn = F\n",
    "    # apply stored function to context\n",
    "    def eval(self,ctx):\n",
    "        self.fn(ctx)        "
   ]
  },
  {
   "cell_type": "code",
   "execution_count": 18,
   "metadata": {},
   "outputs": [
    {
     "name": "stdout",
     "output_type": "stream",
     "text": [
      "Appending to metaL.py\n"
     ]
    }
   ],
   "source": [
    "%%writefile -a metaL.py\n",
    "\n",
    "# context = virtual machine\n",
    "# represents FORTH-like execution context: vocabulary + stack + set of commands works over VM state\n",
    "class VM(Active):\n",
    "    ## operator methods specially dedicated for wrapping Python functions\n",
    "    def __setitem__(self,key,F):\n",
    "        if callable(F): self[key] = Cmd(F) ; return self\n",
    "        else: return Active.__setitem__(self,key,F)\n",
    "    def __lshift__(self,F):\n",
    "        if callable(F): return self << Cmd(F)\n",
    "        else: return Active.__lshift__(self,F)\n",
    "\n",
    "# sequence: every element in nest[] executes one by one on a single provided context\n",
    "class Seq(Active,Vector): pass"
   ]
  },
  {
   "cell_type": "code",
   "execution_count": 19,
   "metadata": {},
   "outputs": [
    {
     "name": "stdout",
     "output_type": "stream",
     "text": [
      "Appending to metaL.py\n"
     ]
    }
   ],
   "source": [
    "%%writefile -a metaL.py\n",
    "\n",
    "# global FORTH-like virtual machine\n",
    "\n",
    "vm = VM('metaL')"
   ]
  },
  {
   "cell_type": "markdown",
   "metadata": {},
   "source": [
    "## Debug"
   ]
  },
  {
   "cell_type": "code",
   "execution_count": 20,
   "metadata": {},
   "outputs": [
    {
     "name": "stdout",
     "output_type": "stream",
     "text": [
      "Appending to metaL.py\n"
     ]
    }
   ],
   "source": [
    "%%writefile -a metaL.py\n",
    "\n",
    "# debug\n",
    "\n",
    "def Q(ctx): print(ctx)\n",
    "vm['?'] = Q"
   ]
  },
  {
   "cell_type": "markdown",
   "metadata": {},
   "source": [
    "## Stack operations"
   ]
  },
  {
   "cell_type": "code",
   "execution_count": 21,
   "metadata": {},
   "outputs": [
    {
     "name": "stdout",
     "output_type": "stream",
     "text": [
      "Appending to metaL.py\n"
     ]
    }
   ],
   "source": [
    "%%writefile -a metaL.py\n",
    "\n",
    "# stack operations\n",
    "\n",
    "def DOT(ctx): ctx.dropall()\n",
    "vm['.'] = DOT"
   ]
  },
  {
   "cell_type": "markdown",
   "metadata": {},
   "source": [
    "## PLY-based parser: There is no-syntax "
   ]
  },
  {
   "cell_type": "markdown",
   "metadata": {},
   "source": [
    "FORTH-based languages are no-syntax languages: it uses only more or less simple lexer, but there is no syntax predefined structures which must be parsed. Every language element implements control or compiling structures has its own responsibility on required work and no of this work interlinked with the parser."
   ]
  },
  {
   "cell_type": "markdown",
   "metadata": {},
   "source": [
    "Due to language syntax simplicity, it is very easy and fast to make a usable command shell system: you need a very compact parser, and tiny set of words (functions) provides interpreter and command definition capabilities. To make the bootstrap version of a metaprogramming system we don't need more than that simple command shell: what we need only is an initialization from ASCII text files, and little command language provided to a user.\n",
    "\n",
    "I tend to totally avoid any scripting languages use. If you look a lot of publications and manuals on expert system design, there are a lot of cryptic Lisp/Prolog code defines knowledge databases and rules. But it is not required to have scripting, as data stored in the *object graph database* itself has a power of describing processing procedures and rules. It looks like [MPS: The Domain-Specific Language Creator by JetBrains](https://www.jetbrains.com/mps/) where data defines not only structures, but its (self)transformations.\n",
    "\n",
    "From the other side, it is a very common case to have human-readable ASCII formats for batching data loading and transformation, so I leave very primitive FORTH-like command language for these tasks. \n",
    "\n",
    "First of all, I must be compatible with git hostings wide use like GitHub etc and don't want to have problems like image-based Smalltalk systems. Frame graphs are great for visualization, but text files good for easy to use storage can be read by a human, edited and recovered manually. Here I especially want to note that `metaL` is not a **visual** language/system, but this is a **visualizable programming** system."
   ]
  },
  {
   "cell_type": "markdown",
   "metadata": {},
   "source": [
    "The difference is a user use case: you will not break your hands with hours of a mouse juggling. In place of that, you'll get a simple command-line shell, and interface which will show you your data structures in a pleasant human-friendly graph and diagrams representation. FORTH-like command (not programming) language so simple in its roots, that it is even useful on narrow screen mobile phones. You don't fly around the screen as you do with most other script languages -- there is no recursion syntax, as result you don't need to fix your code saving parens balance or right tabbing."
   ]
  },
  {
   "cell_type": "code",
   "execution_count": 22,
   "metadata": {},
   "outputs": [
    {
     "name": "stdout",
     "output_type": "stream",
     "text": [
      "Appending to metaL.py\n"
     ]
    }
   ],
   "source": [
    "%%writefile -a metaL.py\n",
    "\n",
    "# no-syntax parser\n",
    "\n",
    "import ply.lex as lex\n",
    "\n",
    "tokens = ['symbol','number','hex','bin']\n",
    "\n",
    "t_ignore = ' \\t\\r\\n'\n",
    "t_ignore_comment = r'[\\#\\\\].*'\n",
    "\n",
    "def t_hex(t):\n",
    "    r'0x[0-9a-fA-F]+'\n",
    "    return Hex(t.value)\n",
    "\n",
    "def t_bin(t):\n",
    "    r'0b[01]+'\n",
    "    return Bin(t.value)\n",
    "\n",
    "def t_number(t):\n",
    "    r'[+\\-]?[0-9]+(\\.[0-9]*)?([eE][+\\-][0-9]+)?'\n",
    "    return Number(t.value)\n",
    "\n",
    "def t_symbol(t):\n",
    "    r'[^ \\t\\r\\n\\#\\\\]+'\n",
    "    return Symbol(t.value)\n",
    "\n",
    "def t_error(t): raise SyntaxError(t)"
   ]
  },
  {
   "cell_type": "markdown",
   "metadata": {},
   "source": [
    "## Interpreter"
   ]
  },
  {
   "cell_type": "code",
   "execution_count": 23,
   "metadata": {},
   "outputs": [
    {
     "name": "stdout",
     "output_type": "stream",
     "text": [
      "Appending to metaL.py\n"
     ]
    }
   ],
   "source": [
    "%%writefile -a metaL.py\n",
    "\n",
    "# interpreter\n",
    "\n",
    "## ( -- str:token )\n",
    "def WORD(ctx):\n",
    "    token = ctx.lexer.token()\n",
    "    if token: ctx // token\n",
    "    return token\n",
    "\n",
    "## ( str:token -- some:object | notfound:token )\n",
    "def FIND(ctx):\n",
    "    token = ctx.pop()\n",
    "    try: ctx // ctx[token.val] ; return True\n",
    "    except KeyError: ctx // token ; return False\n",
    "\n",
    "## ( any:object -- ... )\n",
    "def EVAL(ctx):\n",
    "    ctx.pop().eval(ctx)\n",
    "\n",
    "## ( str -- )\n",
    "def INTERP(ctx):\n",
    "    ctx.lexer = lex.lex() ; ctx.lexer.input(ctx.pop().val)\n",
    "    while True:\n",
    "        if not WORD(ctx): break\n",
    "        if isinstance(ctx.top(),Symbol):\n",
    "            if not FIND(ctx): raise SyntaxError(ctx.top())\n",
    "        EVAL(ctx)\n",
    "        print(vm)\n",
    "\n",
    "# run commands from Jupyter as strings\n",
    "def M(cmd=''):\n",
    "    vm // String(cmd) ; INTERP(vm)"
   ]
  },
  {
   "cell_type": "markdown",
   "metadata": {},
   "source": [
    "With M() calls you now able to run metaL commands right in Jupyter notebook"
   ]
  },
  {
   "cell_type": "code",
   "execution_count": 24,
   "metadata": {},
   "outputs": [],
   "source": [
    "%load_ext autoreload\n",
    "%autoreload 2\n",
    "from metaL import *"
   ]
  },
  {
   "cell_type": "code",
   "execution_count": 25,
   "metadata": {},
   "outputs": [],
   "source": [
    "! touch metaL.py"
   ]
  },
  {
   "cell_type": "code",
   "execution_count": 26,
   "metadata": {},
   "outputs": [
    {
     "name": "stdout",
     "output_type": "stream",
     "text": [
      "\n",
      "<vm:metaL> @7f1e355ae240\n",
      "\t? = <cmd:Q> @7f1e355aea90\n",
      "\t. = <cmd:DOT> @7f1e355aeda0\n",
      "\t<number:-01> @7f1e343ef128\n",
      "\n",
      "<vm:metaL> @7f1e355ae240\n",
      "\t? = <cmd:Q> @7f1e355aea90\n",
      "\t. = <cmd:DOT> @7f1e355aeda0\n",
      "\t<number:-01> @7f1e343ef128\n",
      "\t<number:+02.30> @7f1e343ef908\n",
      "\n",
      "<vm:metaL> @7f1e355ae240\n",
      "\t? = <cmd:Q> @7f1e355aea90\n",
      "\t. = <cmd:DOT> @7f1e355aeda0\n",
      "\t<number:-01> @7f1e343ef128\n",
      "\t<number:+02.30> @7f1e343ef908\n",
      "\t<number:-4e+5> @7f1e343ef550\n",
      "\n",
      "<vm:metaL> @7f1e355ae240\n",
      "\t? = <cmd:Q> @7f1e355aea90\n",
      "\t. = <cmd:DOT> @7f1e355aeda0\n",
      "\t<number:-01> @7f1e343ef128\n",
      "\t<number:+02.30> @7f1e343ef908\n",
      "\t<number:-4e+5> @7f1e343ef550\n",
      "\t<hex:0xDeadBeef> @7f1e343ef0f0\n",
      "\n",
      "<vm:metaL> @7f1e355ae240\n",
      "\t? = <cmd:Q> @7f1e355aea90\n",
      "\t. = <cmd:DOT> @7f1e355aeda0\n",
      "\t<number:-01> @7f1e343ef128\n",
      "\t<number:+02.30> @7f1e343ef908\n",
      "\t<number:-4e+5> @7f1e343ef550\n",
      "\t<hex:0xDeadBeef> @7f1e343ef0f0\n",
      "\t<bin:0b1101> @7f1e343ef5c0\n",
      "\n",
      "<vm:metaL> @7f1e355ae240\n",
      "\t? = <cmd:Q> @7f1e355aea90\n",
      "\t. = <cmd:DOT> @7f1e355aeda0\n",
      "\t<number:-01> @7f1e343ef128\n",
      "\t<number:+02.30> @7f1e343ef908\n",
      "\t<number:-4e+5> @7f1e343ef550\n",
      "\t<hex:0xDeadBeef> @7f1e343ef0f0\n",
      "\t<bin:0b1101> @7f1e343ef5c0\n",
      "\n",
      "<vm:metaL> @7f1e355ae240\n",
      "\t? = <cmd:Q> @7f1e355aea90\n",
      "\t. = <cmd:DOT> @7f1e355aeda0\n",
      "\t<number:-01> @7f1e343ef128\n",
      "\t<number:+02.30> @7f1e343ef908\n",
      "\t<number:-4e+5> @7f1e343ef550\n",
      "\t<hex:0xDeadBeef> @7f1e343ef0f0\n",
      "\t<bin:0b1101> @7f1e343ef5c0\n",
      "\n",
      "<vm:metaL> @7f1e355ae240\n",
      "\t? = <cmd:Q> @7f1e355aea90\n",
      "\t. = <cmd:DOT> @7f1e355aeda0\n",
      "\n",
      "<vm:metaL> @7f1e355ae240\n",
      "\t? = <cmd:Q> @7f1e355aea90\n",
      "\t. = <cmd:DOT> @7f1e355aeda0\n",
      "\n",
      "<vm:metaL> @7f1e355ae240\n",
      "\t? = <cmd:Q> @7f1e355aea90\n",
      "\t. = <cmd:DOT> @7f1e355aeda0\n"
     ]
    }
   ],
   "source": [
    "from metaL import *\n",
    "M('-01 +02.30 -4e+5 0xDeadBeef 0b1101 ? . ? \\ number literals')"
   ]
  },
  {
   "cell_type": "markdown",
   "metadata": {},
   "source": [
    "## Vocabulary Compiler"
   ]
  },
  {
   "cell_type": "markdown",
   "metadata": {},
   "source": [
    "## System initialization"
   ]
  },
  {
   "cell_type": "code",
   "execution_count": 27,
   "metadata": {},
   "outputs": [
    {
     "name": "stdout",
     "output_type": "stream",
     "text": [
      "Overwriting metaL.ini\n"
     ]
    }
   ],
   "source": [
    "%%writefile metaL.ini\n",
    "\n",
    "# metaL system\n",
    "\\ line comment\n",
    "\n",
    "-01 +02.30 -4e+5 0xDeadBeef 0b1101 ? . ? \\ number literals\n"
   ]
  },
  {
   "cell_type": "code",
   "execution_count": 28,
   "metadata": {},
   "outputs": [
    {
     "name": "stdout",
     "output_type": "stream",
     "text": [
      "Appending to metaL.py\n"
     ]
    }
   ],
   "source": [
    "%%writefile -a metaL.py\n",
    "\n",
    "# system init\n",
    "\n",
    "if __name__ == '__main__':\n",
    "    with open(sys.argv[0][:-3]+'.ini') as ini: # process metaL.ini\n",
    "        M(ini.read())"
   ]
  }
 ],
 "metadata": {
  "kernelspec": {
   "display_name": "Python 3",
   "language": "python",
   "name": "python3"
  },
  "language_info": {
   "codemirror_mode": {
    "name": "ipython",
    "version": 3
   },
   "file_extension": ".py",
   "mimetype": "text/x-python",
   "name": "python",
   "nbconvert_exporter": "python",
   "pygments_lexer": "ipython3",
   "version": "3.5.3"
  }
 },
 "nbformat": 4,
 "nbformat_minor": 2
}
