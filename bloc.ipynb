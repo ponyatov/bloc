{
 "cells": [
  {
   "cell_type": "markdown",
   "metadata": {},
   "source": [
    "# bloc"
   ]
  },
  {
   "cell_type": "markdown",
   "metadata": {},
   "source": [
    "## concept programming notepad"
   ]
  },
  {
   "cell_type": "markdown",
   "metadata": {},
   "source": [
    "Concept programming here does not mean the term by Alexsandr Stepanov here: https://en.wikipedia.org/wiki/Concept_(generic_programming)"
   ]
  },
  {
   "cell_type": "markdown",
   "metadata": {},
   "source": [
    "CP is a programming model described in the works of Enn Heraldovich Tyugu about model-based software development. The common idea is about making domain models described the problem in a wide in form of relation networks, and automatic program code synthesis from specifications, which works over these networks to solve concrete tasks.\n",
    "\n",
    "* http://www.cs.ioc.ee/~tyugu/\n",
    "* [Концептуальное программирование](https://ru.wikipedia.org/wiki/%D0%9A%D0%BE%D0%BD%D1%86%D0%B5%D0%BF%D1%82%D1%83%D0%B0%D0%BB%D1%8C%D0%BD%D0%BE%D0%B5_%D0%BF%D1%80%D0%BE%D0%B3%D1%80%D0%B0%D0%BC%D0%BC%D0%B8%D1%80%D0%BE%D0%B2%D0%B0%D0%BD%D0%B8%D0%B5)\n"
   ]
  },
  {
   "cell_type": "markdown",
   "metadata": {},
   "source": [
    "* J. Symbolic Computation (1988) 5, 359-375\\\n",
    "**The Programming System PRIZ**\\\n",
    "G.Mints, E.Tyugu,\\\n",
    "Institute of Cybernetics, Estonian Academy of Sciences,Tallinn\n",
    "200108, USSR\\\n",
    "[pdf](https://www.academia.edu/18315153/The_programming_system_PRIZ?auto=download)\n",
    "* Э.Х. Тыугу **Концептуальное программирование**. М.: Наука, 1984. 255 с"
   ]
  },
  {
   "cell_type": "markdown",
   "metadata": {},
   "source": [
    "```\n",
    "TO: tyugu@ieee.org\n",
    "```\n",
    "\n",
    "> I'm interested in experimenting with mixing your CP approach and Marvin Minsky frame model for commercial, \n",
    "> mobile, and embedded software & hardware (IoT) systems development. The site has a lot of materials and links on \n",
    "> the theme, but I'd like to track discussions of people involved in current works on concept programming.\n"
   ]
  },
  {
   "cell_type": "markdown",
   "metadata": {},
   "source": [
    "In this working bloc (as [c]oding [blo]g) you can find a lot of concrete applications of CP methodology interleaved with huge amount of thinking about all projects I worked on from the end of 2019 as a freelancer and **legacy raker** (*)."
   ]
  },
  {
   "cell_type": "markdown",
   "metadata": {},
   "source": [
    "### legacy \\[code\\]raker"
   ]
  },
  {
   "cell_type": "markdown",
   "metadata": {},
   "source": [
    "I introduce the new programming-related profession: the **legacy \\[code\\]raker**: a specially dedicated specialist which has a target of old software projects reborning and support."
   ]
  },
  {
   "cell_type": "markdown",
   "metadata": {},
   "source": [
    "## metaL: \\[meta\\]programming \\[L\\]anguage and Marvin Minsky frame model"
   ]
  },
  {
   "cell_type": "markdown",
   "metadata": {},
   "source": [
    "The core of my CP system is a homoiconic model uses directed graphs of objects as both program and data representation. The idea was inherited from Marvin Minsky's book: Frames for data representation, which I extended with the ability to store not only slots (attributes) but also hold any frames in an ordered container."
   ]
  },
  {
   "cell_type": "markdown",
   "metadata": {},
   "source": [
    "* https://www.youtube.com/watch?v=nXJ_2uGWM-M\n",
    "\n",
    "Frames originated as a technology used for knowledge representation in artificial intelligence. They are very close to objects and class hierarchies in object-oriented languages although their fundamental design goals are different. Frames are focused on the explicit and intuitive representation of knowledge whereas objects focus on encapsulation and information hiding. Original Marvin Minsky's concept *lacks some principal features for software design*, so I must extend it with ability to **store sequential collections**.\n",
    "\n",
    "In practice, the techniques and capabilities of the frame model and object-oriented languages overlap significantly so much as we can treat frames not only a native superset of OOP but they drastically extend object design concepts wider: we can represent any knowledge in frames, and use any programming paradigms as we desire.\n",
    "\n"
   ]
  },
  {
   "cell_type": "code",
   "execution_count": 1,
   "metadata": {},
   "outputs": [
    {
     "name": "stdout",
     "output_type": "stream",
     "text": [
      "Overwriting metaL.py\n"
     ]
    }
   ],
   "source": [
    "%%writefile metaL.py\n",
    "\n",
    "import os,sys\n",
    "from graphviz import Digraph"
   ]
  },
  {
   "cell_type": "code",
   "execution_count": 2,
   "metadata": {},
   "outputs": [
    {
     "name": "stdout",
     "output_type": "stream",
     "text": [
      "Appending to metaL.py\n"
     ]
    }
   ],
   "source": [
    "%%writefile -a metaL.py\n",
    "\n",
    "# Marvin Minsky's extended frame model\n",
    "class Frame:\n",
    "    def __init__(self,V):\n",
    "        # type/class tag\n",
    "        # this field is required for literal parsing by PLY library \n",
    "        self.type = self.__class__.__name__.lower()\n",
    "        # scalar data value in implementation language type\n",
    "        # mostly names the frame, but also can store things like numbers and strings\n",
    "        self.val  = V\n",
    "        # slots = attributes = string-keyed associative array\n",
    "        self.slot = {}\n",
    "        # ordered storage = AST nested elemens = vector = stack = queue\n",
    "        self.nest = []"
   ]
  },
  {
   "cell_type": "markdown",
   "metadata": {},
   "source": [
    "The presence of an ordered collection is definitively required for representing any program source code, as this is very close to classical attribute grammar -- attributed trees and graphs. The object graph (frame) representation of a program as a primary form is much more effective and native for any work involved with source code transformations: synthesis, modifications, analysis, cross-language translation, etc."
   ]
  },
  {
   "cell_type": "markdown",
   "metadata": {},
   "source": [
    "Factically, we don't need any text programming languages at all, as these objects graphs I call **Executable Data Structure** can \n",
    "* hold any program statically (on storage), \n",
    "* can be executed by a **model EDS-interpreter**, \n",
    "* translated into any mainstream languages, and \n",
    "* \\[cross-\\]compiled into machine code."
   ]
  },
  {
   "cell_type": "code",
   "execution_count": 3,
   "metadata": {},
   "outputs": [
    {
     "name": "stdout",
     "output_type": "stream",
     "text": [
      "Appending to metaL.py\n"
     ]
    }
   ],
   "source": [
    "%%writefile -a metaL.py\n",
    "\n",
    "# class Frame:\n",
    "\n",
    "    # dump and plot\n",
    "    \n",
    "    # callback for print\n",
    "    def __repr__(self):\n",
    "        return self.dump()\n",
    "    # full tree-form dump\n",
    "    def dump(self,depth=0,prefix='',voc=True,stack=True,test=False):\n",
    "        # subtree header\n",
    "        tree = self._pad(depth) + self.head(prefix=prefix,test=test)\n",
    "        # infty recursion block\n",
    "        if not depth: Frame._dumped = []\n",
    "        if self in Frame._dumped: return tree + ' _/'\n",
    "        else: Frame._dumped.append(self)\n",
    "        # slots\n",
    "        if voc:\n",
    "            for i in self.slot:\n",
    "                tree += self.slot[i].dump(depth+1,prefix='%s = '%i,test=test)\n",
    "        # nested as subtrees\n",
    "        if stack:\n",
    "            for j in self.nest:\n",
    "                tree += j.dump(depth+1,test=test)\n",
    "        # resulting subtree\n",
    "        return tree\n",
    "    # short-form dump: <T:V> header only\n",
    "    def head(self,prefix='',test=False):\n",
    "        header = '%s<%s:%s>' % (prefix,self.type,self._val())\n",
    "        if not test: header += ' @%x' % id(self)\n",
    "        return header\n",
    "    # pad tree with tabs with given depth\n",
    "    def _pad(self,depth):\n",
    "        return '\\n' + '\\t' * depth\n",
    "    # .val can be non-string and must be overloaded in some frame classes\n",
    "    def _val(self):\n",
    "        return '%s' % self.val"
   ]
  },
  {
   "cell_type": "code",
   "execution_count": 4,
   "metadata": {},
   "outputs": [
    {
     "name": "stdout",
     "output_type": "stream",
     "text": [
      "Appending to metaL.py\n"
     ]
    }
   ],
   "source": [
    "%%writefile -a metaL.py\n",
    "\n",
    "# class Frame:\n",
    "\n",
    "    # operators\n",
    "    \n",
    "    # A[key]\n",
    "    def __getitem__(self,key):\n",
    "        return self.slot[key]\n",
    "    # A[key] = B\n",
    "    def __setitem__(self,key,that):\n",
    "        self.slot[key] = that ; return self\n",
    "    # A << B --> A[B.val] = B\n",
    "    def __lshift__(self,that):\n",
    "        self[that.val] = that ; return self\n",
    "    # A // B\n",
    "    def __floordiv__(self,that):\n",
    "        self.nest.append(that) ; return self\n"
   ]
  },
  {
   "cell_type": "code",
   "execution_count": 5,
   "metadata": {},
   "outputs": [
    {
     "name": "stdout",
     "output_type": "stream",
     "text": [
      "Appending to metaL.py\n"
     ]
    }
   ],
   "source": [
    "%%writefile -a metaL.py\n",
    "\n",
    "# class Frame:\n",
    "\n",
    "    # stack manipulations\n",
    "\n",
    "    ## ( a b -- a )\n",
    "    def pop(self):\n",
    "        return self.nest.pop(-1)\n",
    "    ## ( a b -- b )\n",
    "    def pip(self):\n",
    "        return self.nest.pop(-2)\n",
    "    ## ( a b -- a b )\n",
    "    def top(self):\n",
    "        return self.nest[-1]\n",
    "    ## ( a b -- a b )\n",
    "    def tip(self):\n",
    "        return self.nest[-2]\n",
    "    ## ( a b -- )\n",
    "    def dropall(self):\n",
    "        self.nest = [] ; return self    "
   ]
  },
  {
   "cell_type": "markdown",
   "metadata": {},
   "source": [
    "## pytest"
   ]
  },
  {
   "cell_type": "markdown",
   "metadata": {},
   "source": [
    "I prefer to use `pytest` unit testing framework: it is simple and light."
   ]
  },
  {
   "cell_type": "markdown",
   "metadata": {},
   "source": [
    "* https://www.guru99.com/pytest-tutorial.html\n",
    "* (ru) https://habr.com/ru/post/269759/\n",
    "* (ru) https://medium.com/@dmrlx/%D0%B2%D0%B2%D0%B5%D0%B4%D0%B5%D0%BD%D0%B8%D0%B5-%D0%B2-pytest-cc6175c7d0dc"
   ]
  },
  {
   "cell_type": "code",
   "execution_count": 6,
   "metadata": {},
   "outputs": [
    {
     "name": "stdout",
     "output_type": "stream",
     "text": [
      "Appending to metaL.py\n"
     ]
    }
   ],
   "source": [
    "%%writefile -a metaL.py\n",
    "\n",
    "# class Frame:\n",
    "\n",
    "    # method returns simplified tree dump for py.tests\n",
    "    def test(self,voc=True):\n",
    "        return self.dump(voc=voc,test=True)"
   ]
  },
  {
   "cell_type": "markdown",
   "metadata": {},
   "source": [
    "This method provides simplified dump to compare it with constant string in tests."
   ]
  },
  {
   "cell_type": "code",
   "execution_count": 7,
   "metadata": {},
   "outputs": [],
   "source": [
    "from metaL import *"
   ]
  },
  {
   "cell_type": "code",
   "execution_count": 8,
   "metadata": {},
   "outputs": [
    {
     "name": "stdout",
     "output_type": "stream",
     "text": [
      "\n",
      "<frame:Hello> @7f039060aa90\n",
      "\tslot = <frame:slot> @7f039060ab70\n",
      "\t<frame:World> @7f039060ab00\n"
     ]
    }
   ],
   "source": [
    "# demo / tests for core Frame\n",
    "\n",
    "print( Frame('Hello') // Frame('World') << Frame('slot') )"
   ]
  },
  {
   "cell_type": "markdown",
   "metadata": {},
   "source": [
    "It is not good to use the sample code as above to show how some software library works. The widely adopted method, which is required to write any production software is testing. Tests also show every feature of a library, how to use it, how not to use it, what preparations must be done, and what input formats are needed."
   ]
  },
  {
   "cell_type": "code",
   "execution_count": 9,
   "metadata": {},
   "outputs": [
    {
     "name": "stdout",
     "output_type": "stream",
     "text": [
      "Overwriting test_metaL.py\n"
     ]
    }
   ],
   "source": [
    "%%writefile test_metaL.py\n",
    "\n",
    "import pytest\n",
    "\n",
    "from metaL import *\n",
    "\n",
    "class TestFrame:\n",
    "    \n",
    "    def setup(self):\n",
    "        self.hello = Frame('Hello') // Frame('World') << Frame('slot')\n",
    "\n",
    "    def test_empty(self):\n",
    "        assert Frame('').test() == '\\n<frame:>'\n",
    "\n",
    "    def test_hello(self):\n",
    "        assert self.hello.test() == \\\n",
    "            '\\n<frame:Hello>\\n\\tslot = <frame:slot>\\n\\t<frame:World>'\n",
    "        \n",
    "    def test_operators(self):\n",
    "        assert self.hello['slot'].test() == '\\n<frame:slot>'"
   ]
  },
  {
   "cell_type": "code",
   "execution_count": 10,
   "metadata": {},
   "outputs": [
    {
     "name": "stdout",
     "output_type": "stream",
     "text": [
      "\u001b[1m============================= test session starts ==============================\u001b[0m\n",
      "platform linux -- Python 3.5.3, pytest-5.2.1, py-1.8.0, pluggy-0.13.0 -- /home/ponyatov/bloc/bin/python3\n",
      "cachedir: .pytest_cache\n",
      "rootdir: /home/ponyatov/bloc\n",
      "collected 3 items                                                              \u001b[0m\n",
      "\n",
      "test_metaL.py::TestFrame::test_empty \u001b[32mPASSED\u001b[0m\u001b[36m                              [ 33%]\u001b[0m\n",
      "test_metaL.py::TestFrame::test_hello \u001b[32mPASSED\u001b[0m\u001b[36m                              [ 66%]\u001b[0m\n",
      "test_metaL.py::TestFrame::test_operators \u001b[32mPASSED\u001b[0m\u001b[36m                          [100%]\u001b[0m\n",
      "\n",
      "\u001b[32m\u001b[1m============================== 3 passed in 0.08s ===============================\u001b[0m\n"
     ]
    }
   ],
   "source": [
    "!py.test -v test_metaL.py"
   ]
  },
  {
   "cell_type": "markdown",
   "metadata": {},
   "source": [
    "## Why Python? What about the technology stack"
   ]
  },
  {
   "cell_type": "markdown",
   "metadata": {},
   "source": [
    "### Python"
   ]
  },
  {
   "cell_type": "markdown",
   "metadata": {},
   "source": [
    "Python is **great for prototyping** software systems:\n",
    "\n",
    "* easy to learn and use programming language, \n",
    "* available on many systems including embedded (https://micropython.org/), \n",
    "* has a huge amount of ready to use libraries (batteries included).\n",
    "* does not need complex installations (`python3 -m venv .` is not complex)\n",
    "* very light in run from scratch (no JVM heat up)"
   ]
  },
  {
   "cell_type": "markdown",
   "metadata": {},
   "source": [
    "### Nim"
   ]
  },
  {
   "cell_type": "markdown",
   "metadata": {},
   "source": [
    "* https://nim-lang.org/\n",
    "* https://forum.nim-lang.org/"
   ]
  },
  {
   "cell_type": "markdown",
   "metadata": {},
   "source": [
    "Nim got a first 1.0 release less then month ago, so it is not good for enterpreise programming.\n",
    "* https://forum.nim-lang.org/t/5347\n",
    "\n",
    "But I'm going to use it especially for this role:\n",
    "* there is no any heavy runtime (JVM/CLR, huge gigabytes of standard libraries)\n",
    "* extra portable (Win/Mac/Linux, Android NDK, MIPS/ARM embedded)\n",
    "* very fast compiling\n",
    "* tight integration with C/C++ -- it uses C compiler as a backend, and **tranlate**s .nim for .c\n",
    "  * there are no any problems to fastly write C interfacing code to use any C(++) libraries"
   ]
  },
  {
   "cell_type": "markdown",
   "metadata": {},
   "source": [
    "It looks for me as a technology very interesting for the small business market, where there are no resources to rent or invest in hardware and expensive software for huge processing with Java hell etc. I don't speak about the full replacement of Java (yet?), but the ability to work both standalone and in symbiosis with existing systems.\n",
    "\n",
    "What features of Nim look target-yummy:\n",
    "\n",
    "* **portability**: software already able to work on any meaningful hardware platforms\n",
    "* compactness and **extra low resource requirements**: there is no any xVM and giant runtime required even to run the HelloWorld, you can run a simple accounting system which will eat a few megabytes of RAM only\n",
    "* **metaprogramming**: there is a huge amount of repeating code and design patterns in business software, meta is able to simplify and automate some repeating snippets\n",
    "\n",
    "PS: Maybe someone can advise me on some good manuals and tutorials on enterprise development patterns and business software architecture?"
   ]
  },
  {
   "cell_type": "markdown",
   "metadata": {},
   "source": [
    "#### What is the future of the Nim programming language now?"
   ]
  },
  {
   "cell_type": "markdown",
   "metadata": {},
   "source": [
    "https://www.quora.com/What-is-the-future-of-the-Nim-programming-language-now/answer/Dmitry-Ponyatov\n",
    "\n",
    "Nim looks very attractive for Python programmers who want to push their software system prototypes into production. Python not so good for use as a platform for high-load applications, and does not have any good use on mobile devices (Android etc) as it is too slow, too resource-hungry, and has a lot of problems with system-level integration.\n",
    "\n",
    "While Nim has semantics close to Python, it is portable for a lot of platforms, has no notable resource consumptions for runtime, and has tight and easy integration with any C(++) frameworks, libraries, and system API.\n",
    "\n",
    "**Nim is not mature now, but** bundled with a Python as a production-stage platform **it has a very good perspective to kickass even the Java in part of enterprise applications** (small business solutions where *consumers have no enough money to own high-price JRE infrastructure*)."
   ]
  },
  {
   "cell_type": "markdown",
   "metadata": {},
   "source": [
    "### Java / C# / Delphi / C++ legacy code rake and integration"
   ]
  },
  {
   "cell_type": "markdown",
   "metadata": {},
   "source": [
    "Suddenly, there is no way to avoid mainstream languages and their framework/library stacks. There is a huge amount of working code deployed anywhere and runs dozens of years in production (so we got the new IT profession -- coderaker (c). There are areas where we can't use any other stack then already installed: finance, banking, security, medical systems and embedded (ANSI C only, especially MISRA-certified critical applications, and conservator-ill persuasions)."
   ]
  },
  {
   "cell_type": "markdown",
   "metadata": {},
   "source": [
    "You must know and use all of them, especially if you want to earn money or want to professionally dive into legacy software reborning. Any system you use, as we speak about *concept programming*, must be language-agnostic. As **you write CP system port yourself** making it the way **you need**, it works the same *until we stay at the imperative programming paradigm*. Oops, note that *CP is declarative programming in a big part* -- you define your programming (and hardware design) knowledge database, which holds concepts defined in a declarative way."
   ]
  },
  {
   "cell_type": "markdown",
   "metadata": {},
   "source": [
    "### Concept programming is a layer of cross-translation"
   ]
  },
  {
   "cell_type": "markdown",
   "metadata": {},
   "source": [
    "When you go into contract development, your CP system must provide cross-language and cross-system translation of a legacy system logic."
   ]
  },
  {
   "cell_type": "code",
   "execution_count": 11,
   "metadata": {},
   "outputs": [
    {
     "data": {
      "image/svg+xml": [
       "<?xml version=\"1.0\" encoding=\"UTF-8\" standalone=\"no\"?>\n",
       "<!DOCTYPE svg PUBLIC \"-//W3C//DTD SVG 1.1//EN\"\n",
       " \"http://www.w3.org/Graphics/SVG/1.1/DTD/svg11.dtd\">\n",
       "<!-- Generated by graphviz version 2.38.0 (20140413.2041)\n",
       " -->\n",
       "<!-- Title: %3 Pages: 1 -->\n",
       "<svg width=\"720pt\" height=\"125pt\"\n",
       " viewBox=\"0.00 0.00 720.00 125.46\" xmlns=\"http://www.w3.org/2000/svg\" xmlns:xlink=\"http://www.w3.org/1999/xlink\">\n",
       "<g id=\"graph0\" class=\"graph\" transform=\"scale(0.746814 0.746814) rotate(0) translate(4 164)\">\n",
       "<title>%3</title>\n",
       "<polygon fill=\"white\" stroke=\"none\" points=\"-4,4 -4,-164 960.095,-164 960.095,4 -4,4\"/>\n",
       "<g id=\"clust1\" class=\"cluster\"><title>cluster_0</title>\n",
       "<polygon fill=\"none\" stroke=\"black\" points=\"8,-8 8,-114 160.488,-114 160.488,-8 8,-8\"/>\n",
       "</g>\n",
       "<!-- l -->\n",
       "<g id=\"node1\" class=\"node\"><title>l</title>\n",
       "<ellipse fill=\"none\" stroke=\"black\" cx=\"84.2439\" cy=\"-88\" rx=\"33.5952\" ry=\"18\"/>\n",
       "<text text-anchor=\"middle\" x=\"84.2439\" y=\"-84.3\" font-family=\"Times,serif\" font-size=\"14.00\">legacy</text>\n",
       "</g>\n",
       "<!-- f -->\n",
       "<g id=\"node3\" class=\"node\"><title>f</title>\n",
       "<ellipse fill=\"none\" stroke=\"black\" cx=\"330.006\" cy=\"-127\" rx=\"61.5366\" ry=\"26.7407\"/>\n",
       "<text text-anchor=\"middle\" x=\"330.006\" y=\"-130.8\" font-family=\"Times,serif\" font-size=\"14.00\">source code</text>\n",
       "<text text-anchor=\"middle\" x=\"330.006\" y=\"-115.8\" font-family=\"Times,serif\" font-size=\"14.00\">frame model</text>\n",
       "</g>\n",
       "<!-- l&#45;&gt;f -->\n",
       "<g id=\"edge1\" class=\"edge\"><title>l&#45;&gt;f</title>\n",
       "<path fill=\"none\" stroke=\"black\" d=\"M117.112,-93.0986C153.662,-98.9463 214.613,-108.698 261.785,-116.245\"/>\n",
       "<polygon fill=\"black\" stroke=\"black\" points=\"261.504,-119.745 271.932,-117.869 262.61,-112.833 261.504,-119.745\"/>\n",
       "<text text-anchor=\"middle\" x=\"210.488\" y=\"-148.8\" font-family=\"Times,serif\" font-size=\"14.00\">C# Java *SQL</text>\n",
       "<text text-anchor=\"middle\" x=\"210.488\" y=\"-133.8\" font-family=\"Times,serif\" font-size=\"14.00\">Delphi 1C</text>\n",
       "<text text-anchor=\"middle\" x=\"210.488\" y=\"-118.8\" font-family=\"Times,serif\" font-size=\"14.00\">C++/Makefile</text>\n",
       "</g>\n",
       "<!-- x -->\n",
       "<g id=\"node2\" class=\"node\"><title>x</title>\n",
       "<ellipse fill=\"none\" stroke=\"black\" cx=\"84.2439\" cy=\"-34\" rx=\"68.4888\" ry=\"18\"/>\n",
       "<text text-anchor=\"middle\" x=\"84.2439\" y=\"-30.3\" font-family=\"Times,serif\" font-size=\"14.00\">next gen system</text>\n",
       "</g>\n",
       "<!-- t -->\n",
       "<g id=\"node4\" class=\"node\"><title>t</title>\n",
       "<ellipse fill=\"none\" stroke=\"black\" cx=\"695.649\" cy=\"-127\" rx=\"72.25\" ry=\"26.7407\"/>\n",
       "<text text-anchor=\"middle\" x=\"695.649\" y=\"-130.8\" font-family=\"Times,serif\" font-size=\"14.00\">analysis and</text>\n",
       "<text text-anchor=\"middle\" x=\"695.649\" y=\"-115.8\" font-family=\"Times,serif\" font-size=\"14.00\">transformations</text>\n",
       "</g>\n",
       "<!-- f&#45;&gt;t -->\n",
       "<g id=\"edge2\" class=\"edge\"><title>f&#45;&gt;t</title>\n",
       "<path fill=\"none\" stroke=\"black\" d=\"M391.872,-127C452.547,-127 546.112,-127 613.168,-127\"/>\n",
       "<polygon fill=\"black\" stroke=\"black\" points=\"613.277,-130.5 623.277,-127 613.277,-123.5 613.277,-130.5\"/>\n",
       "<text text-anchor=\"middle\" x=\"507.524\" y=\"-145.8\" font-family=\"Times,serif\" font-size=\"14.00\">frame graph</text>\n",
       "<text text-anchor=\"middle\" x=\"507.524\" y=\"-130.8\" font-family=\"Times,serif\" font-size=\"14.00\">knowledge database</text>\n",
       "</g>\n",
       "<!-- s -->\n",
       "<g id=\"node5\" class=\"node\"><title>s</title>\n",
       "<ellipse fill=\"none\" stroke=\"black\" cx=\"880.435\" cy=\"-92\" rx=\"75.8212\" ry=\"48.1667\"/>\n",
       "<text text-anchor=\"middle\" x=\"880.435\" y=\"-110.8\" font-family=\"Times,serif\" font-size=\"14.00\">submodel</text>\n",
       "<text text-anchor=\"middle\" x=\"880.435\" y=\"-95.8\" font-family=\"Times,serif\" font-size=\"14.00\"> in synthesizable</text>\n",
       "<text text-anchor=\"middle\" x=\"880.435\" y=\"-80.8\" font-family=\"Times,serif\" font-size=\"14.00\"> executable data</text>\n",
       "<text text-anchor=\"middle\" x=\"880.435\" y=\"-65.8\" font-family=\"Times,serif\" font-size=\"14.00\"> subset</text>\n",
       "</g>\n",
       "<!-- t&#45;&gt;s -->\n",
       "<g id=\"edge3\" class=\"edge\"><title>t&#45;&gt;s</title>\n",
       "<path fill=\"none\" stroke=\"black\" d=\"M760.066,-114.857C772.189,-112.536 785.038,-110.075 797.642,-107.662\"/>\n",
       "<polygon fill=\"black\" stroke=\"black\" points=\"798.514,-111.058 807.678,-105.74 797.198,-104.183 798.514,-111.058\"/>\n",
       "</g>\n",
       "<!-- s&#45;&gt;l -->\n",
       "<g id=\"edge4\" class=\"edge\"><title>s&#45;&gt;l</title>\n",
       "<path fill=\"none\" stroke=\"black\" d=\"M804.657,-91.2832C792.335,-91.1786 779.697,-91.0796 767.774,-91 526.097,-89.3867 236.278,-88.4398 128.432,-88.1215\"/>\n",
       "<polygon fill=\"black\" stroke=\"black\" points=\"128.282,-84.6212 118.272,-88.0918 128.262,-91.6211 128.282,-84.6212\"/>\n",
       "<text text-anchor=\"middle\" x=\"507.524\" y=\"-94.8\" font-family=\"Times,serif\" font-size=\"14.00\">source code and autogenerated tests</text>\n",
       "</g>\n",
       "</g>\n",
       "</svg>\n"
      ],
      "text/plain": [
       "<graphviz.dot.Digraph at 0x7f039061d550>"
      ]
     },
     "execution_count": 11,
     "metadata": {},
     "output_type": "execute_result"
    }
   ],
   "source": [
    "#from graphviz import Digraph\n",
    "dot = Digraph() ; dot.attr(rankdir='LR',size='10,5')\n",
    "with dot.subgraph(name='cluster_0') as dotc:\n",
    "    dotc.node('l','legacy')\n",
    "    dotc.node('x','next gen system')\n",
    "dot.node('f','source code\\nframe model')\n",
    "dot.edge('l','f',label='C# Java *SQL\\nDelphi 1C\\nC++/Makefile')\n",
    "dot.node('t','analysis and\\ntransformations')\n",
    "dot.edge('f','t','frame graph\\nknowledge database')\n",
    "dot.node('s','submodel\\n in synthesizable\\n executable data\\n subset')\n",
    "dot.edge('t','s')\n",
    "dot.edge('s','l','source code and autogenerated tests')\n",
    "#dot.edge('s','x')\n",
    "dot"
   ]
  },
  {
   "cell_type": "markdown",
   "metadata": {},
   "source": [
    "# Core class tree"
   ]
  },
  {
   "cell_type": "code",
   "execution_count": 12,
   "metadata": {},
   "outputs": [
    {
     "data": {
      "image/svg+xml": [
       "<?xml version=\"1.0\" encoding=\"UTF-8\" standalone=\"no\"?>\n",
       "<!DOCTYPE svg PUBLIC \"-//W3C//DTD SVG 1.1//EN\"\n",
       " \"http://www.w3.org/Graphics/SVG/1.1/DTD/svg11.dtd\">\n",
       "<!-- Generated by graphviz version 2.38.0 (20140413.2041)\n",
       " -->\n",
       "<!-- Title: %3 Pages: 1 -->\n",
       "<svg width=\"637pt\" height=\"1296pt\"\n",
       " viewBox=\"0.00 0.00 637.09 1296.00\" xmlns=\"http://www.w3.org/2000/svg\" xmlns:xlink=\"http://www.w3.org/1999/xlink\">\n",
       "<g id=\"graph0\" class=\"graph\" transform=\"scale(0.643176 0.643176) rotate(0) translate(4 2011)\">\n",
       "<title>%3</title>\n",
       "<polygon fill=\"white\" stroke=\"none\" points=\"-4,4 -4,-2011 986.535,-2011 986.535,4 -4,4\"/>\n",
       "<!-- Frame -->\n",
       "<g id=\"node1\" class=\"node\"><title>Frame</title>\n",
       "<ellipse fill=\"none\" stroke=\"black\" cx=\"33.797\" cy=\"-1422\" rx=\"33.5952\" ry=\"18\"/>\n",
       "<text text-anchor=\"middle\" x=\"33.797\" y=\"-1418.3\" font-family=\"Times,serif\" font-size=\"14.00\">Frame</text>\n",
       "</g>\n",
       "<!-- Primitive -->\n",
       "<g id=\"node2\" class=\"node\"><title>Primitive</title>\n",
       "<ellipse fill=\"none\" stroke=\"black\" cx=\"149.09\" cy=\"-1908\" rx=\"44.393\" ry=\"18\"/>\n",
       "<text text-anchor=\"middle\" x=\"149.09\" y=\"-1904.3\" font-family=\"Times,serif\" font-size=\"14.00\">Primitive</text>\n",
       "</g>\n",
       "<!-- Frame&#45;&gt;Primitive -->\n",
       "<g id=\"edge1\" class=\"edge\"><title>Frame&#45;&gt;Primitive</title>\n",
       "<path fill=\"none\" stroke=\"black\" d=\"M38.9625,-1440.09C49.6465,-1486.45 78.9191,-1613.34 103.594,-1719 116.956,-1776.21 132.749,-1843.13 141.469,-1880.02\"/>\n",
       "<polygon fill=\"black\" stroke=\"black\" points=\"138.128,-1881.1 143.835,-1890.02 144.94,-1879.49 138.128,-1881.1\"/>\n",
       "</g>\n",
       "<!-- Container -->\n",
       "<g id=\"node9\" class=\"node\"><title>Container</title>\n",
       "<ellipse fill=\"none\" stroke=\"black\" cx=\"149.09\" cy=\"-1692\" rx=\"45.4919\" ry=\"18\"/>\n",
       "<text text-anchor=\"middle\" x=\"149.09\" y=\"-1688.3\" font-family=\"Times,serif\" font-size=\"14.00\">Container</text>\n",
       "</g>\n",
       "<!-- Frame&#45;&gt;Container -->\n",
       "<g id=\"edge8\" class=\"edge\"><title>Frame&#45;&gt;Container</title>\n",
       "<path fill=\"none\" stroke=\"black\" d=\"M42.2305,-1439.72C61.5557,-1485.77 113.479,-1609.51 136.651,-1664.74\"/>\n",
       "<polygon fill=\"black\" stroke=\"black\" points=\"133.532,-1666.35 140.629,-1674.22 139.987,-1663.64 133.532,-1666.35\"/>\n",
       "</g>\n",
       "<!-- Active -->\n",
       "<g id=\"node15\" class=\"node\"><title>Active</title>\n",
       "<ellipse fill=\"none\" stroke=\"black\" cx=\"149.09\" cy=\"-1476\" rx=\"34.394\" ry=\"18\"/>\n",
       "<text text-anchor=\"middle\" x=\"149.09\" y=\"-1472.3\" font-family=\"Times,serif\" font-size=\"14.00\">Active</text>\n",
       "</g>\n",
       "<!-- Frame&#45;&gt;Active -->\n",
       "<g id=\"edge14\" class=\"edge\"><title>Frame&#45;&gt;Active</title>\n",
       "<path fill=\"none\" stroke=\"black\" d=\"M59.6596,-1433.85C75.4877,-1441.39 96.2107,-1451.27 113.617,-1459.57\"/>\n",
       "<polygon fill=\"black\" stroke=\"black\" points=\"112.361,-1462.85 122.894,-1463.99 115.373,-1456.53 112.361,-1462.85\"/>\n",
       "</g>\n",
       "<!-- IO -->\n",
       "<g id=\"node19\" class=\"node\"><title>IO</title>\n",
       "<ellipse fill=\"none\" stroke=\"black\" cx=\"149.09\" cy=\"-1368\" rx=\"27\" ry=\"18\"/>\n",
       "<text text-anchor=\"middle\" x=\"149.09\" y=\"-1364.3\" font-family=\"Times,serif\" font-size=\"14.00\">IO</text>\n",
       "</g>\n",
       "<!-- Frame&#45;&gt;IO -->\n",
       "<g id=\"edge18\" class=\"edge\"><title>Frame&#45;&gt;IO</title>\n",
       "<path fill=\"none\" stroke=\"black\" d=\"M59.6596,-1410.15C76.5868,-1402.08 99.1125,-1391.34 117.193,-1382.73\"/>\n",
       "<polygon fill=\"black\" stroke=\"black\" points=\"119.195,-1385.65 126.716,-1378.19 116.183,-1379.33 119.195,-1385.65\"/>\n",
       "</g>\n",
       "<!-- Meta -->\n",
       "<g id=\"node26\" class=\"node\"><title>Meta</title>\n",
       "<ellipse fill=\"none\" stroke=\"black\" cx=\"149.09\" cy=\"-1206\" rx=\"29.4969\" ry=\"18\"/>\n",
       "<text text-anchor=\"middle\" x=\"149.09\" y=\"-1202.3\" font-family=\"Times,serif\" font-size=\"14.00\">Meta</text>\n",
       "</g>\n",
       "<!-- Frame&#45;&gt;Meta -->\n",
       "<g id=\"edge25\" class=\"edge\"><title>Frame&#45;&gt;Meta</title>\n",
       "<path fill=\"none\" stroke=\"black\" d=\"M43.8767,-1404.69C63.6887,-1366.92 110.897,-1276.91 134.362,-1232.17\"/>\n",
       "<polygon fill=\"black\" stroke=\"black\" points=\"137.579,-1233.58 139.124,-1223.09 131.38,-1230.32 137.579,-1233.58\"/>\n",
       "</g>\n",
       "<!-- HW -->\n",
       "<g id=\"node42\" class=\"node\"><title>HW</title>\n",
       "<ellipse fill=\"none\" stroke=\"black\" cx=\"149.09\" cy=\"-504\" rx=\"27\" ry=\"18\"/>\n",
       "<text text-anchor=\"middle\" x=\"149.09\" y=\"-500.3\" font-family=\"Times,serif\" font-size=\"14.00\">HW</text>\n",
       "</g>\n",
       "<!-- Frame&#45;&gt;HW -->\n",
       "<g id=\"edge41\" class=\"edge\"><title>Frame&#45;&gt;HW</title>\n",
       "<path fill=\"none\" stroke=\"black\" d=\"M37.0093,-1404.07C51.0093,-1290.63 127.265,-672.739 144.588,-532.374\"/>\n",
       "<polygon fill=\"black\" stroke=\"black\" points=\"148.112,-532.394 145.864,-522.041 141.165,-531.537 148.112,-532.394\"/>\n",
       "</g>\n",
       "<!-- Symbol -->\n",
       "<g id=\"node3\" class=\"node\"><title>Symbol</title>\n",
       "<ellipse fill=\"none\" stroke=\"black\" cx=\"278.682\" cy=\"-1989\" rx=\"38.1938\" ry=\"18\"/>\n",
       "<text text-anchor=\"middle\" x=\"278.682\" y=\"-1985.3\" font-family=\"Times,serif\" font-size=\"14.00\">Symbol</text>\n",
       "</g>\n",
       "<!-- Primitive&#45;&gt;Symbol -->\n",
       "<g id=\"edge2\" class=\"edge\"><title>Primitive&#45;&gt;Symbol</title>\n",
       "<path fill=\"none\" stroke=\"black\" d=\"M172.366,-1923.56C188.374,-1934.59 210.572,-1949.57 230.586,-1962 234.977,-1964.73 239.648,-1967.52 244.278,-1970.24\"/>\n",
       "<polygon fill=\"black\" stroke=\"black\" points=\"242.637,-1973.33 253.045,-1975.31 246.142,-1967.27 242.637,-1973.33\"/>\n",
       "</g>\n",
       "<!-- String -->\n",
       "<g id=\"node4\" class=\"node\"><title>String</title>\n",
       "<ellipse fill=\"none\" stroke=\"black\" cx=\"278.682\" cy=\"-1935\" rx=\"32.4942\" ry=\"18\"/>\n",
       "<text text-anchor=\"middle\" x=\"278.682\" y=\"-1931.3\" font-family=\"Times,serif\" font-size=\"14.00\">String</text>\n",
       "</g>\n",
       "<!-- Primitive&#45;&gt;String -->\n",
       "<g id=\"edge3\" class=\"edge\"><title>Primitive&#45;&gt;String</title>\n",
       "<path fill=\"none\" stroke=\"black\" d=\"M188.718,-1916.17C204.361,-1919.48 222.409,-1923.3 238.144,-1926.63\"/>\n",
       "<polygon fill=\"black\" stroke=\"black\" points=\"237.593,-1930.09 248.101,-1928.74 239.043,-1923.25 237.593,-1930.09\"/>\n",
       "</g>\n",
       "<!-- Number -->\n",
       "<g id=\"node5\" class=\"node\"><title>Number</title>\n",
       "<ellipse fill=\"none\" stroke=\"black\" cx=\"278.682\" cy=\"-1881\" rx=\"40.0939\" ry=\"18\"/>\n",
       "<text text-anchor=\"middle\" x=\"278.682\" y=\"-1877.3\" font-family=\"Times,serif\" font-size=\"14.00\">Number</text>\n",
       "</g>\n",
       "<!-- Primitive&#45;&gt;Number -->\n",
       "<g id=\"edge4\" class=\"edge\"><title>Primitive&#45;&gt;Number</title>\n",
       "<path fill=\"none\" stroke=\"black\" d=\"M188.718,-1899.83C202.293,-1896.95 217.678,-1893.7 231.792,-1890.71\"/>\n",
       "<polygon fill=\"black\" stroke=\"black\" points=\"232.741,-1894.09 241.799,-1888.59 231.291,-1887.24 232.741,-1894.09\"/>\n",
       "</g>\n",
       "<!-- Integer -->\n",
       "<g id=\"node6\" class=\"node\"><title>Integer</title>\n",
       "<ellipse fill=\"none\" stroke=\"black\" cx=\"406.324\" cy=\"-1881\" rx=\"35.9954\" ry=\"18\"/>\n",
       "<text text-anchor=\"middle\" x=\"406.324\" y=\"-1877.3\" font-family=\"Times,serif\" font-size=\"14.00\">Integer</text>\n",
       "</g>\n",
       "<!-- Number&#45;&gt;Integer -->\n",
       "<g id=\"edge5\" class=\"edge\"><title>Number&#45;&gt;Integer</title>\n",
       "<path fill=\"none\" stroke=\"black\" d=\"M319.091,-1881C332.166,-1881 346.821,-1881 360.287,-1881\"/>\n",
       "<polygon fill=\"black\" stroke=\"black\" points=\"360.307,-1884.5 370.307,-1881 360.307,-1877.5 360.307,-1884.5\"/>\n",
       "</g>\n",
       "<!-- Hex -->\n",
       "<g id=\"node7\" class=\"node\"><title>Hex</title>\n",
       "<ellipse fill=\"none\" stroke=\"black\" cx=\"528.766\" cy=\"-1908\" rx=\"27\" ry=\"18\"/>\n",
       "<text text-anchor=\"middle\" x=\"528.766\" y=\"-1904.3\" font-family=\"Times,serif\" font-size=\"14.00\">Hex</text>\n",
       "</g>\n",
       "<!-- Integer&#45;&gt;Hex -->\n",
       "<g id=\"edge6\" class=\"edge\"><title>Integer&#45;&gt;Hex</title>\n",
       "<path fill=\"none\" stroke=\"black\" d=\"M439.284,-1888.16C455.789,-1891.86 475.958,-1896.39 492.87,-1900.18\"/>\n",
       "<polygon fill=\"black\" stroke=\"black\" points=\"492.393,-1903.66 502.916,-1902.43 493.924,-1896.83 492.393,-1903.66\"/>\n",
       "</g>\n",
       "<!-- Bin -->\n",
       "<g id=\"node8\" class=\"node\"><title>Bin</title>\n",
       "<ellipse fill=\"none\" stroke=\"black\" cx=\"528.766\" cy=\"-1854\" rx=\"27\" ry=\"18\"/>\n",
       "<text text-anchor=\"middle\" x=\"528.766\" y=\"-1850.3\" font-family=\"Times,serif\" font-size=\"14.00\">Bin</text>\n",
       "</g>\n",
       "<!-- Integer&#45;&gt;Bin -->\n",
       "<g id=\"edge7\" class=\"edge\"><title>Integer&#45;&gt;Bin</title>\n",
       "<path fill=\"none\" stroke=\"black\" d=\"M439.284,-1873.84C455.789,-1870.14 475.958,-1865.61 492.87,-1861.82\"/>\n",
       "<polygon fill=\"black\" stroke=\"black\" points=\"493.924,-1865.17 502.916,-1859.57 492.393,-1858.34 493.924,-1865.17\"/>\n",
       "</g>\n",
       "<!-- Vector -->\n",
       "<g id=\"node10\" class=\"node\"><title>Vector</title>\n",
       "<ellipse fill=\"none\" stroke=\"black\" cx=\"278.682\" cy=\"-1827\" rx=\"34.394\" ry=\"18\"/>\n",
       "<text text-anchor=\"middle\" x=\"278.682\" y=\"-1823.3\" font-family=\"Times,serif\" font-size=\"14.00\">Vector</text>\n",
       "</g>\n",
       "<!-- Container&#45;&gt;Vector -->\n",
       "<g id=\"edge9\" class=\"edge\"><title>Container&#45;&gt;Vector</title>\n",
       "<path fill=\"none\" stroke=\"black\" d=\"M160.205,-1709.83C173.895,-1732.81 200.141,-1773 230.586,-1800 234.539,-1803.51 239.02,-1806.77 243.607,-1809.73\"/>\n",
       "<polygon fill=\"black\" stroke=\"black\" points=\"242.073,-1812.89 252.449,-1815.04 245.675,-1806.89 242.073,-1812.89\"/>\n",
       "</g>\n",
       "<!-- Stack -->\n",
       "<g id=\"node11\" class=\"node\"><title>Stack</title>\n",
       "<ellipse fill=\"none\" stroke=\"black\" cx=\"278.682\" cy=\"-1773\" rx=\"30.5947\" ry=\"18\"/>\n",
       "<text text-anchor=\"middle\" x=\"278.682\" y=\"-1769.3\" font-family=\"Times,serif\" font-size=\"14.00\">Stack</text>\n",
       "</g>\n",
       "<!-- Container&#45;&gt;Stack -->\n",
       "<g id=\"edge10\" class=\"edge\"><title>Container&#45;&gt;Stack</title>\n",
       "<path fill=\"none\" stroke=\"black\" d=\"M172.366,-1707.56C188.374,-1718.59 210.572,-1733.57 230.586,-1746 235.818,-1749.25 241.447,-1752.6 246.93,-1755.79\"/>\n",
       "<polygon fill=\"black\" stroke=\"black\" points=\"245.509,-1759.01 255.924,-1760.95 248.994,-1752.93 245.509,-1759.01\"/>\n",
       "</g>\n",
       "<!-- Dictionary -->\n",
       "<g id=\"node12\" class=\"node\"><title>Dictionary</title>\n",
       "<ellipse fill=\"none\" stroke=\"black\" cx=\"278.682\" cy=\"-1719\" rx=\"48.1917\" ry=\"18\"/>\n",
       "<text text-anchor=\"middle\" x=\"278.682\" y=\"-1715.3\" font-family=\"Times,serif\" font-size=\"14.00\">Dictionary</text>\n",
       "</g>\n",
       "<!-- Container&#45;&gt;Dictionary -->\n",
       "<g id=\"edge11\" class=\"edge\"><title>Container&#45;&gt;Dictionary</title>\n",
       "<path fill=\"none\" stroke=\"black\" d=\"M189.761,-1700.39C201.306,-1702.84 214.087,-1705.54 226.245,-1708.12\"/>\n",
       "<polygon fill=\"black\" stroke=\"black\" points=\"225.762,-1711.59 236.27,-1710.24 227.211,-1704.74 225.762,-1711.59\"/>\n",
       "</g>\n",
       "<!-- Set -->\n",
       "<g id=\"node13\" class=\"node\"><title>Set</title>\n",
       "<ellipse fill=\"none\" stroke=\"black\" cx=\"278.682\" cy=\"-1665\" rx=\"27\" ry=\"18\"/>\n",
       "<text text-anchor=\"middle\" x=\"278.682\" y=\"-1661.3\" font-family=\"Times,serif\" font-size=\"14.00\">Set</text>\n",
       "</g>\n",
       "<!-- Container&#45;&gt;Set -->\n",
       "<g id=\"edge12\" class=\"edge\"><title>Container&#45;&gt;Set</title>\n",
       "<path fill=\"none\" stroke=\"black\" d=\"M189.761,-1683.61C206.564,-1680.05 225.985,-1675.94 242.293,-1672.49\"/>\n",
       "<polygon fill=\"black\" stroke=\"black\" points=\"243.443,-1675.82 252.502,-1670.33 241.994,-1668.97 243.443,-1675.82\"/>\n",
       "</g>\n",
       "<!-- Queue -->\n",
       "<g id=\"node14\" class=\"node\"><title>Queue</title>\n",
       "<ellipse fill=\"none\" stroke=\"black\" cx=\"278.682\" cy=\"-1611\" rx=\"33.5952\" ry=\"18\"/>\n",
       "<text text-anchor=\"middle\" x=\"278.682\" y=\"-1607.3\" font-family=\"Times,serif\" font-size=\"14.00\">Queue</text>\n",
       "</g>\n",
       "<!-- Container&#45;&gt;Queue -->\n",
       "<g id=\"edge13\" class=\"edge\"><title>Container&#45;&gt;Queue</title>\n",
       "<path fill=\"none\" stroke=\"black\" d=\"M172.366,-1676.44C188.374,-1665.41 210.572,-1650.43 230.586,-1638 235.39,-1635.02 240.529,-1631.95 245.582,-1629\"/>\n",
       "<polygon fill=\"black\" stroke=\"black\" points=\"247.578,-1631.89 254.495,-1623.86 244.083,-1625.82 247.578,-1631.89\"/>\n",
       "</g>\n",
       "<!-- Command -->\n",
       "<g id=\"node16\" class=\"node\"><title>Command</title>\n",
       "<ellipse fill=\"none\" stroke=\"black\" cx=\"278.682\" cy=\"-1557\" rx=\"48.1917\" ry=\"18\"/>\n",
       "<text text-anchor=\"middle\" x=\"278.682\" y=\"-1553.3\" font-family=\"Times,serif\" font-size=\"14.00\">Command</text>\n",
       "</g>\n",
       "<!-- Active&#45;&gt;Command -->\n",
       "<g id=\"edge15\" class=\"edge\"><title>Active&#45;&gt;Command</title>\n",
       "<path fill=\"none\" stroke=\"black\" d=\"M170.675,-1490.39C186.785,-1501.51 209.857,-1517.13 230.586,-1530 234.382,-1532.36 238.386,-1534.77 242.393,-1537.13\"/>\n",
       "<polygon fill=\"black\" stroke=\"black\" points=\"240.682,-1540.18 251.086,-1542.19 244.202,-1534.13 240.682,-1540.18\"/>\n",
       "</g>\n",
       "<!-- VM -->\n",
       "<g id=\"node17\" class=\"node\"><title>VM</title>\n",
       "<ellipse fill=\"none\" stroke=\"black\" cx=\"278.682\" cy=\"-1503\" rx=\"27\" ry=\"18\"/>\n",
       "<text text-anchor=\"middle\" x=\"278.682\" y=\"-1499.3\" font-family=\"Times,serif\" font-size=\"14.00\">VM</text>\n",
       "</g>\n",
       "<!-- Active&#45;&gt;VM -->\n",
       "<g id=\"edge16\" class=\"edge\"><title>Active&#45;&gt;VM</title>\n",
       "<path fill=\"none\" stroke=\"black\" d=\"M181.302,-1482.6C199.938,-1486.55 223.645,-1491.57 242.883,-1495.64\"/>\n",
       "<polygon fill=\"black\" stroke=\"black\" points=\"242.259,-1499.08 252.767,-1497.73 243.708,-1492.23 242.259,-1499.08\"/>\n",
       "</g>\n",
       "<!-- Sequence -->\n",
       "<g id=\"node18\" class=\"node\"><title>Sequence</title>\n",
       "<ellipse fill=\"none\" stroke=\"black\" cx=\"278.682\" cy=\"-1449\" rx=\"44.393\" ry=\"18\"/>\n",
       "<text text-anchor=\"middle\" x=\"278.682\" y=\"-1445.3\" font-family=\"Times,serif\" font-size=\"14.00\">Sequence</text>\n",
       "</g>\n",
       "<!-- Active&#45;&gt;Sequence -->\n",
       "<g id=\"edge17\" class=\"edge\"><title>Active&#45;&gt;Sequence</title>\n",
       "<path fill=\"none\" stroke=\"black\" d=\"M181.302,-1469.4C195.721,-1466.34 213.175,-1462.65 229.246,-1459.25\"/>\n",
       "<polygon fill=\"black\" stroke=\"black\" points=\"229.976,-1462.67 239.035,-1457.18 228.527,-1455.82 229.976,-1462.67\"/>\n",
       "</g>\n",
       "<!-- Dir -->\n",
       "<g id=\"node20\" class=\"node\"><title>Dir</title>\n",
       "<ellipse fill=\"none\" stroke=\"black\" cx=\"278.682\" cy=\"-1395\" rx=\"27\" ry=\"18\"/>\n",
       "<text text-anchor=\"middle\" x=\"278.682\" y=\"-1391.3\" font-family=\"Times,serif\" font-size=\"14.00\">Dir</text>\n",
       "</g>\n",
       "<!-- IO&#45;&gt;Dir -->\n",
       "<g id=\"edge19\" class=\"edge\"><title>IO&#45;&gt;Dir</title>\n",
       "<path fill=\"none\" stroke=\"black\" d=\"M174.994,-1373.27C194.314,-1377.36 221.33,-1383.08 242.803,-1387.62\"/>\n",
       "<polygon fill=\"black\" stroke=\"black\" points=\"242.333,-1391.1 252.841,-1389.74 243.782,-1384.25 242.333,-1391.1\"/>\n",
       "</g>\n",
       "<!-- File -->\n",
       "<g id=\"node21\" class=\"node\"><title>File</title>\n",
       "<ellipse fill=\"none\" stroke=\"black\" cx=\"278.682\" cy=\"-1341\" rx=\"27\" ry=\"18\"/>\n",
       "<text text-anchor=\"middle\" x=\"278.682\" y=\"-1337.3\" font-family=\"Times,serif\" font-size=\"14.00\">File</text>\n",
       "</g>\n",
       "<!-- IO&#45;&gt;File -->\n",
       "<g id=\"edge20\" class=\"edge\"><title>IO&#45;&gt;File</title>\n",
       "<path fill=\"none\" stroke=\"black\" d=\"M174.994,-1362.73C194.314,-1358.64 221.33,-1352.92 242.803,-1348.38\"/>\n",
       "<polygon fill=\"black\" stroke=\"black\" points=\"243.782,-1351.75 252.841,-1346.26 242.333,-1344.9 243.782,-1351.75\"/>\n",
       "</g>\n",
       "<!-- Net -->\n",
       "<g id=\"node22\" class=\"node\"><title>Net</title>\n",
       "<ellipse fill=\"none\" stroke=\"black\" cx=\"278.682\" cy=\"-1287\" rx=\"27\" ry=\"18\"/>\n",
       "<text text-anchor=\"middle\" x=\"278.682\" y=\"-1283.3\" font-family=\"Times,serif\" font-size=\"14.00\">Net</text>\n",
       "</g>\n",
       "<!-- IO&#45;&gt;Net -->\n",
       "<g id=\"edge21\" class=\"edge\"><title>IO&#45;&gt;Net</title>\n",
       "<path fill=\"none\" stroke=\"black\" d=\"M168.392,-1355.19C184.552,-1344 208.856,-1327.49 230.586,-1314 236.261,-1310.48 242.403,-1306.83 248.319,-1303.41\"/>\n",
       "<polygon fill=\"black\" stroke=\"black\" points=\"250.388,-1306.26 257.33,-1298.25 246.912,-1300.18 250.388,-1306.26\"/>\n",
       "</g>\n",
       "<!-- IP -->\n",
       "<g id=\"node23\" class=\"node\"><title>IP</title>\n",
       "<ellipse fill=\"none\" stroke=\"black\" cx=\"406.324\" cy=\"-1368\" rx=\"27\" ry=\"18\"/>\n",
       "<text text-anchor=\"middle\" x=\"406.324\" y=\"-1364.3\" font-family=\"Times,serif\" font-size=\"14.00\">IP</text>\n",
       "</g>\n",
       "<!-- Net&#45;&gt;IP -->\n",
       "<g id=\"edge22\" class=\"edge\"><title>Net&#45;&gt;IP</title>\n",
       "<path fill=\"none\" stroke=\"black\" d=\"M300.178,-1298.03C308.564,-1302.72 318.275,-1308.4 326.777,-1314 343.484,-1324.99 346.322,-1329.63 362.777,-1341 367.366,-1344.17 372.308,-1347.44 377.142,-1350.55\"/>\n",
       "<polygon fill=\"black\" stroke=\"black\" points=\"375.312,-1353.54 385.629,-1355.95 379.069,-1347.63 375.312,-1353.54\"/>\n",
       "</g>\n",
       "<!-- Port -->\n",
       "<g id=\"node24\" class=\"node\"><title>Port</title>\n",
       "<ellipse fill=\"none\" stroke=\"black\" cx=\"406.324\" cy=\"-1314\" rx=\"27\" ry=\"18\"/>\n",
       "<text text-anchor=\"middle\" x=\"406.324\" y=\"-1310.3\" font-family=\"Times,serif\" font-size=\"14.00\">Port</text>\n",
       "</g>\n",
       "<!-- Net&#45;&gt;Port -->\n",
       "<g id=\"edge23\" class=\"edge\"><title>Net&#45;&gt;Port</title>\n",
       "<path fill=\"none\" stroke=\"black\" d=\"M304.504,-1292.33C323.311,-1296.38 349.395,-1301.98 370.319,-1306.48\"/>\n",
       "<polygon fill=\"black\" stroke=\"black\" points=\"369.61,-1309.91 380.122,-1308.58 371.081,-1303.06 369.61,-1309.91\"/>\n",
       "</g>\n",
       "<!-- Web -->\n",
       "<g id=\"node25\" class=\"node\"><title>Web</title>\n",
       "<ellipse fill=\"none\" stroke=\"black\" cx=\"406.324\" cy=\"-1260\" rx=\"27.8951\" ry=\"18\"/>\n",
       "<text text-anchor=\"middle\" x=\"406.324\" y=\"-1256.3\" font-family=\"Times,serif\" font-size=\"14.00\">Web</text>\n",
       "</g>\n",
       "<!-- Net&#45;&gt;Web -->\n",
       "<g id=\"edge24\" class=\"edge\"><title>Net&#45;&gt;Web</title>\n",
       "<path fill=\"none\" stroke=\"black\" d=\"M304.504,-1281.67C323.188,-1277.65 349.054,-1272.09 369.908,-1267.61\"/>\n",
       "<polygon fill=\"black\" stroke=\"black\" points=\"370.648,-1271.03 379.69,-1265.51 369.178,-1264.19 370.648,-1271.03\"/>\n",
       "</g>\n",
       "<!-- Class -->\n",
       "<g id=\"node27\" class=\"node\"><title>Class</title>\n",
       "<ellipse fill=\"none\" stroke=\"black\" cx=\"278.682\" cy=\"-1233\" rx=\"29.795\" ry=\"18\"/>\n",
       "<text text-anchor=\"middle\" x=\"278.682\" y=\"-1229.3\" font-family=\"Times,serif\" font-size=\"14.00\">Class</text>\n",
       "</g>\n",
       "<!-- Meta&#45;&gt;Class -->\n",
       "<g id=\"edge26\" class=\"edge\"><title>Meta&#45;&gt;Class</title>\n",
       "<path fill=\"none\" stroke=\"black\" d=\"M177.149,-1211.73C195.547,-1215.62 220.129,-1220.82 240.379,-1225.11\"/>\n",
       "<polygon fill=\"black\" stroke=\"black\" points=\"239.714,-1228.54 250.222,-1227.19 241.163,-1221.69 239.714,-1228.54\"/>\n",
       "</g>\n",
       "<!-- Fn -->\n",
       "<g id=\"node28\" class=\"node\"><title>Fn</title>\n",
       "<ellipse fill=\"none\" stroke=\"black\" cx=\"278.682\" cy=\"-1179\" rx=\"27\" ry=\"18\"/>\n",
       "<text text-anchor=\"middle\" x=\"278.682\" y=\"-1175.3\" font-family=\"Times,serif\" font-size=\"14.00\">Fn</text>\n",
       "</g>\n",
       "<!-- Meta&#45;&gt;Fn -->\n",
       "<g id=\"edge27\" class=\"edge\"><title>Meta&#45;&gt;Fn</title>\n",
       "<path fill=\"none\" stroke=\"black\" d=\"M177.149,-1200.27C196.298,-1196.22 222.146,-1190.75 242.837,-1186.37\"/>\n",
       "<polygon fill=\"black\" stroke=\"black\" points=\"243.766,-1189.75 252.825,-1184.26 242.317,-1182.91 243.766,-1189.75\"/>\n",
       "</g>\n",
       "<!-- Language -->\n",
       "<g id=\"node30\" class=\"node\"><title>Language</title>\n",
       "<ellipse fill=\"none\" stroke=\"black\" cx=\"278.682\" cy=\"-963\" rx=\"45.4919\" ry=\"18\"/>\n",
       "<text text-anchor=\"middle\" x=\"278.682\" y=\"-959.3\" font-family=\"Times,serif\" font-size=\"14.00\">Language</text>\n",
       "</g>\n",
       "<!-- Meta&#45;&gt;Language -->\n",
       "<g id=\"edge29\" class=\"edge\"><title>Meta&#45;&gt;Language</title>\n",
       "<path fill=\"none\" stroke=\"black\" d=\"M159.062,-1188.91C180.964,-1147.2 237.293,-1039.92 263.668,-989.69\"/>\n",
       "<polygon fill=\"black\" stroke=\"black\" points=\"266.827,-991.202 268.377,-980.722 260.629,-987.948 266.827,-991.202\"/>\n",
       "</g>\n",
       "<!-- Method -->\n",
       "<g id=\"node29\" class=\"node\"><title>Method</title>\n",
       "<ellipse fill=\"none\" stroke=\"black\" cx=\"406.324\" cy=\"-1206\" rx=\"38.1938\" ry=\"18\"/>\n",
       "<text text-anchor=\"middle\" x=\"406.324\" y=\"-1202.3\" font-family=\"Times,serif\" font-size=\"14.00\">Method</text>\n",
       "</g>\n",
       "<!-- Fn&#45;&gt;Method -->\n",
       "<g id=\"edge28\" class=\"edge\"><title>Fn&#45;&gt;Method</title>\n",
       "<path fill=\"none\" stroke=\"black\" d=\"M304.504,-1184.33C320.629,-1187.8 342.105,-1192.41 361.091,-1196.49\"/>\n",
       "<polygon fill=\"black\" stroke=\"black\" points=\"360.528,-1199.95 371.041,-1198.63 361.999,-1193.11 360.528,-1199.95\"/>\n",
       "</g>\n",
       "<!-- C89 -->\n",
       "<g id=\"node31\" class=\"node\"><title>C89</title>\n",
       "<ellipse fill=\"none\" stroke=\"black\" cx=\"406.324\" cy=\"-1152\" rx=\"27\" ry=\"18\"/>\n",
       "<text text-anchor=\"middle\" x=\"406.324\" y=\"-1148.3\" font-family=\"Times,serif\" font-size=\"14.00\">C89</text>\n",
       "</g>\n",
       "<!-- Language&#45;&gt;C89 -->\n",
       "<g id=\"edge30\" class=\"edge\"><title>Language&#45;&gt;C89</title>\n",
       "<path fill=\"none\" stroke=\"black\" d=\"M285.332,-980.904C296.132,-1012.89 322.298,-1080.63 362.777,-1125 366.536,-1129.12 371.062,-1132.86 375.738,-1136.16\"/>\n",
       "<polygon fill=\"black\" stroke=\"black\" points=\"373.885,-1139.13 384.187,-1141.6 377.674,-1133.24 373.885,-1139.13\"/>\n",
       "</g>\n",
       "<!-- Python -->\n",
       "<g id=\"node33\" class=\"node\"><title>Python</title>\n",
       "<ellipse fill=\"none\" stroke=\"black\" cx=\"406.324\" cy=\"-1098\" rx=\"35.9954\" ry=\"18\"/>\n",
       "<text text-anchor=\"middle\" x=\"406.324\" y=\"-1094.3\" font-family=\"Times,serif\" font-size=\"14.00\">Python</text>\n",
       "</g>\n",
       "<!-- Language&#45;&gt;Python -->\n",
       "<g id=\"edge32\" class=\"edge\"><title>Language&#45;&gt;Python</title>\n",
       "<path fill=\"none\" stroke=\"black\" d=\"M290.442,-980.598C304.919,-1003.32 332.385,-1043.24 362.777,-1071 365.902,-1073.85 369.365,-1076.59 372.927,-1079.16\"/>\n",
       "<polygon fill=\"black\" stroke=\"black\" points=\"371.056,-1082.12 381.304,-1084.81 374.968,-1076.32 371.056,-1082.12\"/>\n",
       "</g>\n",
       "<!-- Nim -->\n",
       "<g id=\"node34\" class=\"node\"><title>Nim</title>\n",
       "<ellipse fill=\"none\" stroke=\"black\" cx=\"406.324\" cy=\"-1044\" rx=\"27\" ry=\"18\"/>\n",
       "<text text-anchor=\"middle\" x=\"406.324\" y=\"-1040.3\" font-family=\"Times,serif\" font-size=\"14.00\">Nim</text>\n",
       "</g>\n",
       "<!-- Language&#45;&gt;Nim -->\n",
       "<g id=\"edge33\" class=\"edge\"><title>Language&#45;&gt;Nim</title>\n",
       "<path fill=\"none\" stroke=\"black\" d=\"M303.277,-978.43C319.886,-989.268 342.655,-1004.08 362.777,-1017 367.562,-1020.07 372.66,-1023.33 377.603,-1026.47\"/>\n",
       "<polygon fill=\"black\" stroke=\"black\" points=\"375.916,-1029.54 386.234,-1031.95 379.667,-1023.63 375.916,-1029.54\"/>\n",
       "</g>\n",
       "<!-- Java -->\n",
       "<g id=\"node35\" class=\"node\"><title>Java</title>\n",
       "<ellipse fill=\"none\" stroke=\"black\" cx=\"406.324\" cy=\"-990\" rx=\"27\" ry=\"18\"/>\n",
       "<text text-anchor=\"middle\" x=\"406.324\" y=\"-986.3\" font-family=\"Times,serif\" font-size=\"14.00\">Java</text>\n",
       "</g>\n",
       "<!-- Language&#45;&gt;Java -->\n",
       "<g id=\"edge34\" class=\"edge\"><title>Language&#45;&gt;Java</title>\n",
       "<path fill=\"none\" stroke=\"black\" d=\"M319.091,-971.469C335.502,-974.996 354.402,-979.057 370.317,-982.477\"/>\n",
       "<polygon fill=\"black\" stroke=\"black\" points=\"369.776,-985.941 380.288,-984.62 371.247,-979.097 369.776,-985.941\"/>\n",
       "</g>\n",
       "<!-- Cs -->\n",
       "<g id=\"node36\" class=\"node\"><title>Cs</title>\n",
       "<ellipse fill=\"none\" stroke=\"black\" cx=\"406.324\" cy=\"-936\" rx=\"27\" ry=\"18\"/>\n",
       "<text text-anchor=\"middle\" x=\"406.324\" y=\"-932.3\" font-family=\"Times,serif\" font-size=\"14.00\">Cs</text>\n",
       "</g>\n",
       "<!-- Language&#45;&gt;Cs -->\n",
       "<g id=\"edge35\" class=\"edge\"><title>Language&#45;&gt;Cs</title>\n",
       "<path fill=\"none\" stroke=\"black\" d=\"M319.091,-954.531C335.502,-951.004 354.402,-946.943 370.317,-943.523\"/>\n",
       "<polygon fill=\"black\" stroke=\"black\" points=\"371.247,-946.903 380.288,-941.38 369.776,-940.059 371.247,-946.903\"/>\n",
       "</g>\n",
       "<!-- Make -->\n",
       "<g id=\"node37\" class=\"node\"><title>Make</title>\n",
       "<ellipse fill=\"none\" stroke=\"black\" cx=\"406.324\" cy=\"-882\" rx=\"31.3957\" ry=\"18\"/>\n",
       "<text text-anchor=\"middle\" x=\"406.324\" y=\"-878.3\" font-family=\"Times,serif\" font-size=\"14.00\">Make</text>\n",
       "</g>\n",
       "<!-- Language&#45;&gt;Make -->\n",
       "<g id=\"edge36\" class=\"edge\"><title>Language&#45;&gt;Make</title>\n",
       "<path fill=\"none\" stroke=\"black\" d=\"M303.277,-947.57C319.886,-936.732 342.655,-921.923 362.777,-909 366.973,-906.305 371.41,-903.472 375.772,-900.696\"/>\n",
       "<polygon fill=\"black\" stroke=\"black\" points=\"377.956,-903.455 384.52,-895.139 374.203,-897.546 377.956,-903.455\"/>\n",
       "</g>\n",
       "<!-- CMake -->\n",
       "<g id=\"node38\" class=\"node\"><title>CMake</title>\n",
       "<ellipse fill=\"none\" stroke=\"black\" cx=\"406.324\" cy=\"-828\" rx=\"37.0935\" ry=\"18\"/>\n",
       "<text text-anchor=\"middle\" x=\"406.324\" y=\"-824.3\" font-family=\"Times,serif\" font-size=\"14.00\">CMake</text>\n",
       "</g>\n",
       "<!-- Language&#45;&gt;CMake -->\n",
       "<g id=\"edge37\" class=\"edge\"><title>Language&#45;&gt;CMake</title>\n",
       "<path fill=\"none\" stroke=\"black\" d=\"M290.442,-945.402C304.919,-922.679 332.385,-882.764 362.777,-855 365.744,-852.29 369.017,-849.682 372.389,-847.229\"/>\n",
       "<polygon fill=\"black\" stroke=\"black\" points=\"374.555,-849.989 380.861,-841.475 370.622,-844.198 374.555,-849.989\"/>\n",
       "</g>\n",
       "<!-- JS -->\n",
       "<g id=\"node39\" class=\"node\"><title>JS</title>\n",
       "<ellipse fill=\"none\" stroke=\"black\" cx=\"406.324\" cy=\"-774\" rx=\"27\" ry=\"18\"/>\n",
       "<text text-anchor=\"middle\" x=\"406.324\" y=\"-770.3\" font-family=\"Times,serif\" font-size=\"14.00\">JS</text>\n",
       "</g>\n",
       "<!-- Language&#45;&gt;JS -->\n",
       "<g id=\"edge38\" class=\"edge\"><title>Language&#45;&gt;JS</title>\n",
       "<path fill=\"none\" stroke=\"black\" d=\"M285.332,-945.096C296.132,-913.112 322.298,-845.365 362.777,-801 366.536,-796.88 371.062,-793.138 375.738,-789.841\"/>\n",
       "<polygon fill=\"black\" stroke=\"black\" points=\"377.674,-792.757 384.187,-784.4 373.885,-786.871 377.674,-792.757\"/>\n",
       "</g>\n",
       "<!-- XML -->\n",
       "<g id=\"node40\" class=\"node\"><title>XML</title>\n",
       "<ellipse fill=\"none\" stroke=\"black\" cx=\"406.324\" cy=\"-720\" rx=\"30.5947\" ry=\"18\"/>\n",
       "<text text-anchor=\"middle\" x=\"406.324\" y=\"-716.3\" font-family=\"Times,serif\" font-size=\"14.00\">XML</text>\n",
       "</g>\n",
       "<!-- Language&#45;&gt;XML -->\n",
       "<g id=\"edge39\" class=\"edge\"><title>Language&#45;&gt;XML</title>\n",
       "<path fill=\"none\" stroke=\"black\" d=\"M282.67,-944.843C290.004,-905.066 312.111,-808.855 362.777,-747 365.871,-743.223 369.639,-739.809 373.638,-736.78\"/>\n",
       "<polygon fill=\"black\" stroke=\"black\" points=\"375.706,-739.607 382.034,-731.11 371.788,-733.806 375.706,-739.607\"/>\n",
       "</g>\n",
       "<!-- Cpp -->\n",
       "<g id=\"node32\" class=\"node\"><title>Cpp</title>\n",
       "<ellipse fill=\"none\" stroke=\"black\" cx=\"528.766\" cy=\"-1152\" rx=\"27\" ry=\"18\"/>\n",
       "<text text-anchor=\"middle\" x=\"528.766\" y=\"-1148.3\" font-family=\"Times,serif\" font-size=\"14.00\">Cpp</text>\n",
       "</g>\n",
       "<!-- C89&#45;&gt;Cpp -->\n",
       "<g id=\"edge31\" class=\"edge\"><title>C89&#45;&gt;Cpp</title>\n",
       "<path fill=\"none\" stroke=\"black\" d=\"M433.458,-1152C450.424,-1152 472.774,-1152 491.457,-1152\"/>\n",
       "<polygon fill=\"black\" stroke=\"black\" points=\"491.683,-1155.5 501.683,-1152 491.683,-1148.5 491.683,-1155.5\"/>\n",
       "</g>\n",
       "<!-- HTML -->\n",
       "<g id=\"node41\" class=\"node\"><title>HTML</title>\n",
       "<ellipse fill=\"none\" stroke=\"black\" cx=\"528.766\" cy=\"-720\" rx=\"36.2938\" ry=\"18\"/>\n",
       "<text text-anchor=\"middle\" x=\"528.766\" y=\"-716.3\" font-family=\"Times,serif\" font-size=\"14.00\">HTML</text>\n",
       "</g>\n",
       "<!-- XML&#45;&gt;HTML -->\n",
       "<g id=\"edge40\" class=\"edge\"><title>XML&#45;&gt;HTML</title>\n",
       "<path fill=\"none\" stroke=\"black\" d=\"M437.096,-720C450.68,-720 467.069,-720 482.155,-720\"/>\n",
       "<polygon fill=\"black\" stroke=\"black\" points=\"482.342,-723.5 492.342,-720 482.341,-716.5 482.342,-723.5\"/>\n",
       "</g>\n",
       "<!-- ARCH -->\n",
       "<g id=\"node43\" class=\"node\"><title>ARCH</title>\n",
       "<ellipse fill=\"none\" stroke=\"black\" cx=\"278.682\" cy=\"-585\" rx=\"35.194\" ry=\"18\"/>\n",
       "<text text-anchor=\"middle\" x=\"278.682\" y=\"-581.3\" font-family=\"Times,serif\" font-size=\"14.00\">ARCH</text>\n",
       "</g>\n",
       "<!-- HW&#45;&gt;ARCH -->\n",
       "<g id=\"edge42\" class=\"edge\"><title>HW&#45;&gt;ARCH</title>\n",
       "<path fill=\"none\" stroke=\"black\" d=\"M169.192,-516.127C189.872,-529.255 223.143,-550.377 247.394,-565.772\"/>\n",
       "<polygon fill=\"black\" stroke=\"black\" points=\"245.562,-568.755 255.88,-571.16 249.314,-562.845 245.562,-568.755\"/>\n",
       "</g>\n",
       "<!-- CPU -->\n",
       "<g id=\"node49\" class=\"node\"><title>CPU</title>\n",
       "<ellipse fill=\"none\" stroke=\"black\" cx=\"278.682\" cy=\"-504\" rx=\"27.8951\" ry=\"18\"/>\n",
       "<text text-anchor=\"middle\" x=\"278.682\" y=\"-500.3\" font-family=\"Times,serif\" font-size=\"14.00\">CPU</text>\n",
       "</g>\n",
       "<!-- HW&#45;&gt;CPU -->\n",
       "<g id=\"edge48\" class=\"edge\"><title>HW&#45;&gt;CPU</title>\n",
       "<path fill=\"none\" stroke=\"black\" d=\"M176.218,-504C194.804,-504 220.036,-504 240.688,-504\"/>\n",
       "<polygon fill=\"black\" stroke=\"black\" points=\"240.709,-507.5 250.709,-504 240.709,-500.5 240.709,-507.5\"/>\n",
       "</g>\n",
       "<!-- Memory -->\n",
       "<g id=\"node51\" class=\"node\"><title>Memory</title>\n",
       "<ellipse fill=\"none\" stroke=\"black\" cx=\"278.682\" cy=\"-450\" rx=\"42.4939\" ry=\"18\"/>\n",
       "<text text-anchor=\"middle\" x=\"278.682\" y=\"-446.3\" font-family=\"Times,serif\" font-size=\"14.00\">Memory</text>\n",
       "</g>\n",
       "<!-- HW&#45;&gt;Memory -->\n",
       "<g id=\"edge50\" class=\"edge\"><title>HW&#45;&gt;Memory</title>\n",
       "<path fill=\"none\" stroke=\"black\" d=\"M172.315,-494.594C190.6,-486.855 216.955,-475.701 238.733,-466.484\"/>\n",
       "<polygon fill=\"black\" stroke=\"black\" points=\"240.214,-469.658 248.059,-462.537 237.485,-463.212 240.214,-469.658\"/>\n",
       "</g>\n",
       "<!-- Periph -->\n",
       "<g id=\"node66\" class=\"node\"><title>Periph</title>\n",
       "<ellipse fill=\"none\" stroke=\"black\" cx=\"278.682\" cy=\"-207\" rx=\"33.5952\" ry=\"18\"/>\n",
       "<text text-anchor=\"middle\" x=\"278.682\" y=\"-203.3\" font-family=\"Times,serif\" font-size=\"14.00\">Periph</text>\n",
       "</g>\n",
       "<!-- HW&#45;&gt;Periph -->\n",
       "<g id=\"edge65\" class=\"edge\"><title>HW&#45;&gt;Periph</title>\n",
       "<path fill=\"none\" stroke=\"black\" d=\"M157.501,-486.748C178.813,-437.141 240.374,-293.842 266.133,-233.882\"/>\n",
       "<polygon fill=\"black\" stroke=\"black\" points=\"269.358,-235.243 270.089,-224.673 262.926,-232.479 269.358,-235.243\"/>\n",
       "</g>\n",
       "<!-- x86 -->\n",
       "<g id=\"node44\" class=\"node\"><title>x86</title>\n",
       "<ellipse fill=\"none\" stroke=\"black\" cx=\"406.324\" cy=\"-666\" rx=\"27\" ry=\"18\"/>\n",
       "<text text-anchor=\"middle\" x=\"406.324\" y=\"-662.3\" font-family=\"Times,serif\" font-size=\"14.00\">x86</text>\n",
       "</g>\n",
       "<!-- ARCH&#45;&gt;x86 -->\n",
       "<g id=\"edge43\" class=\"edge\"><title>ARCH&#45;&gt;x86</title>\n",
       "<path fill=\"none\" stroke=\"black\" d=\"M301.162,-599.049C317.916,-609.986 341.786,-625.519 362.777,-639 367.562,-642.073 372.66,-645.326 377.603,-648.469\"/>\n",
       "<polygon fill=\"black\" stroke=\"black\" points=\"375.916,-651.544 386.234,-653.947 379.667,-645.633 375.916,-651.544\"/>\n",
       "</g>\n",
       "<!-- ARM -->\n",
       "<g id=\"node47\" class=\"node\"><title>ARM</title>\n",
       "<ellipse fill=\"none\" stroke=\"black\" cx=\"406.324\" cy=\"-612\" rx=\"31.3957\" ry=\"18\"/>\n",
       "<text text-anchor=\"middle\" x=\"406.324\" y=\"-608.3\" font-family=\"Times,serif\" font-size=\"14.00\">ARM</text>\n",
       "</g>\n",
       "<!-- ARCH&#45;&gt;ARM -->\n",
       "<g id=\"edge46\" class=\"edge\"><title>ARCH&#45;&gt;ARM</title>\n",
       "<path fill=\"none\" stroke=\"black\" d=\"M311.386,-591.813C328.159,-595.418 348.89,-599.873 366.606,-603.68\"/>\n",
       "<polygon fill=\"black\" stroke=\"black\" points=\"366.124,-607.156 376.637,-605.835 367.595,-600.312 366.124,-607.156\"/>\n",
       "</g>\n",
       "<!-- MIPS -->\n",
       "<g id=\"node48\" class=\"node\"><title>MIPS</title>\n",
       "<ellipse fill=\"none\" stroke=\"black\" cx=\"406.324\" cy=\"-558\" rx=\"31.6951\" ry=\"18\"/>\n",
       "<text text-anchor=\"middle\" x=\"406.324\" y=\"-554.3\" font-family=\"Times,serif\" font-size=\"14.00\">MIPS</text>\n",
       "</g>\n",
       "<!-- ARCH&#45;&gt;MIPS -->\n",
       "<g id=\"edge47\" class=\"edge\"><title>ARCH&#45;&gt;MIPS</title>\n",
       "<path fill=\"none\" stroke=\"black\" d=\"M311.386,-578.187C328.037,-574.609 348.59,-570.192 366.221,-566.403\"/>\n",
       "<polygon fill=\"black\" stroke=\"black\" points=\"367.171,-569.779 376.213,-564.256 365.7,-562.935 367.171,-569.779\"/>\n",
       "</g>\n",
       "<!-- i386 -->\n",
       "<g id=\"node45\" class=\"node\"><title>i386</title>\n",
       "<ellipse fill=\"none\" stroke=\"black\" cx=\"528.766\" cy=\"-666\" rx=\"27\" ry=\"18\"/>\n",
       "<text text-anchor=\"middle\" x=\"528.766\" y=\"-662.3\" font-family=\"Times,serif\" font-size=\"14.00\">i386</text>\n",
       "</g>\n",
       "<!-- x86&#45;&gt;i386 -->\n",
       "<g id=\"edge44\" class=\"edge\"><title>x86&#45;&gt;i386</title>\n",
       "<path fill=\"none\" stroke=\"black\" d=\"M433.458,-666C450.424,-666 472.774,-666 491.457,-666\"/>\n",
       "<polygon fill=\"black\" stroke=\"black\" points=\"491.683,-669.5 501.683,-666 491.683,-662.5 491.683,-669.5\"/>\n",
       "</g>\n",
       "<!-- amd64 -->\n",
       "<g id=\"node46\" class=\"node\"><title>amd64</title>\n",
       "<ellipse fill=\"none\" stroke=\"black\" cx=\"528.766\" cy=\"-612\" rx=\"35.194\" ry=\"18\"/>\n",
       "<text text-anchor=\"middle\" x=\"528.766\" y=\"-608.3\" font-family=\"Times,serif\" font-size=\"14.00\">amd64</text>\n",
       "</g>\n",
       "<!-- x86&#45;&gt;amd64 -->\n",
       "<g id=\"edge45\" class=\"edge\"><title>x86&#45;&gt;amd64</title>\n",
       "<path fill=\"none\" stroke=\"black\" d=\"M429.135,-656.221C446.691,-648.35 471.722,-637.127 492.175,-627.957\"/>\n",
       "<polygon fill=\"black\" stroke=\"black\" points=\"493.806,-631.061 501.499,-623.777 490.943,-624.674 493.806,-631.061\"/>\n",
       "</g>\n",
       "<!-- MCU -->\n",
       "<g id=\"node50\" class=\"node\"><title>MCU</title>\n",
       "<ellipse fill=\"none\" stroke=\"black\" cx=\"406.324\" cy=\"-504\" rx=\"31.3957\" ry=\"18\"/>\n",
       "<text text-anchor=\"middle\" x=\"406.324\" y=\"-500.3\" font-family=\"Times,serif\" font-size=\"14.00\">MCU</text>\n",
       "</g>\n",
       "<!-- CPU&#45;&gt;MCU -->\n",
       "<g id=\"edge49\" class=\"edge\"><title>CPU&#45;&gt;MCU</title>\n",
       "<path fill=\"none\" stroke=\"black\" d=\"M306.635,-504C323.548,-504 345.677,-504 364.694,-504\"/>\n",
       "<polygon fill=\"black\" stroke=\"black\" points=\"364.885,-507.5 374.885,-504 364.885,-500.5 364.885,-507.5\"/>\n",
       "</g>\n",
       "<!-- MSP430 -->\n",
       "<g id=\"node54\" class=\"node\"><title>MSP430</title>\n",
       "<ellipse fill=\"none\" stroke=\"black\" cx=\"528.766\" cy=\"-558\" rx=\"42.4939\" ry=\"18\"/>\n",
       "<text text-anchor=\"middle\" x=\"528.766\" y=\"-554.3\" font-family=\"Times,serif\" font-size=\"14.00\">MSP430</text>\n",
       "</g>\n",
       "<!-- MCU&#45;&gt;MSP430 -->\n",
       "<g id=\"edge53\" class=\"edge\"><title>MCU&#45;&gt;MSP430</title>\n",
       "<path fill=\"none\" stroke=\"black\" d=\"M431.407,-514.798C448.086,-522.276 470.633,-532.384 489.723,-540.944\"/>\n",
       "<polygon fill=\"black\" stroke=\"black\" points=\"488.501,-544.231 499.058,-545.129 491.365,-537.844 488.501,-544.231\"/>\n",
       "</g>\n",
       "<!-- AVR -->\n",
       "<g id=\"node56\" class=\"node\"><title>AVR</title>\n",
       "<ellipse fill=\"none\" stroke=\"black\" cx=\"528.766\" cy=\"-504\" rx=\"29.4969\" ry=\"18\"/>\n",
       "<text text-anchor=\"middle\" x=\"528.766\" y=\"-500.3\" font-family=\"Times,serif\" font-size=\"14.00\">AVR</text>\n",
       "</g>\n",
       "<!-- MCU&#45;&gt;AVR -->\n",
       "<g id=\"edge55\" class=\"edge\"><title>MCU&#45;&gt;AVR</title>\n",
       "<path fill=\"none\" stroke=\"black\" d=\"M437.716,-504C453.413,-504 472.728,-504 489.439,-504\"/>\n",
       "<polygon fill=\"black\" stroke=\"black\" points=\"489.451,-507.5 499.451,-504 489.451,-500.5 489.451,-507.5\"/>\n",
       "</g>\n",
       "<!-- CortexM -->\n",
       "<g id=\"node58\" class=\"node\"><title>CortexM</title>\n",
       "<ellipse fill=\"none\" stroke=\"black\" cx=\"528.766\" cy=\"-450\" rx=\"42.7926\" ry=\"18\"/>\n",
       "<text text-anchor=\"middle\" x=\"528.766\" y=\"-446.3\" font-family=\"Times,serif\" font-size=\"14.00\">CortexM</text>\n",
       "</g>\n",
       "<!-- MCU&#45;&gt;CortexM -->\n",
       "<g id=\"edge57\" class=\"edge\"><title>MCU&#45;&gt;CortexM</title>\n",
       "<path fill=\"none\" stroke=\"black\" d=\"M431.407,-493.202C447.968,-485.777 470.315,-475.758 489.319,-467.237\"/>\n",
       "<polygon fill=\"black\" stroke=\"black\" points=\"490.928,-470.352 498.621,-463.067 488.064,-463.965 490.928,-470.352\"/>\n",
       "</g>\n",
       "<!-- Flash -->\n",
       "<g id=\"node52\" class=\"node\"><title>Flash</title>\n",
       "<ellipse fill=\"none\" stroke=\"black\" cx=\"406.324\" cy=\"-450\" rx=\"29.795\" ry=\"18\"/>\n",
       "<text text-anchor=\"middle\" x=\"406.324\" y=\"-446.3\" font-family=\"Times,serif\" font-size=\"14.00\">Flash</text>\n",
       "</g>\n",
       "<!-- Memory&#45;&gt;Flash -->\n",
       "<g id=\"edge51\" class=\"edge\"><title>Memory&#45;&gt;Flash</title>\n",
       "<path fill=\"none\" stroke=\"black\" d=\"M321.17,-450C335.664,-450 351.878,-450 366.175,-450\"/>\n",
       "<polygon fill=\"black\" stroke=\"black\" points=\"366.195,-453.5 376.195,-450 366.195,-446.5 366.195,-453.5\"/>\n",
       "</g>\n",
       "<!-- RAM -->\n",
       "<g id=\"node53\" class=\"node\"><title>RAM</title>\n",
       "<ellipse fill=\"none\" stroke=\"black\" cx=\"406.324\" cy=\"-396\" rx=\"31.3957\" ry=\"18\"/>\n",
       "<text text-anchor=\"middle\" x=\"406.324\" y=\"-392.3\" font-family=\"Times,serif\" font-size=\"14.00\">RAM</text>\n",
       "</g>\n",
       "<!-- Memory&#45;&gt;RAM -->\n",
       "<g id=\"edge52\" class=\"edge\"><title>Memory&#45;&gt;RAM</title>\n",
       "<path fill=\"none\" stroke=\"black\" d=\"M309.139,-437.339C327.754,-429.339 351.874,-418.972 371.303,-410.622\"/>\n",
       "<polygon fill=\"black\" stroke=\"black\" points=\"372.894,-413.747 380.7,-406.583 370.13,-407.316 372.894,-413.747\"/>\n",
       "</g>\n",
       "<!-- MSP430X -->\n",
       "<g id=\"node55\" class=\"node\"><title>MSP430X</title>\n",
       "<ellipse fill=\"none\" stroke=\"black\" cx=\"655.758\" cy=\"-558\" rx=\"48.1917\" ry=\"18\"/>\n",
       "<text text-anchor=\"middle\" x=\"655.758\" y=\"-554.3\" font-family=\"Times,serif\" font-size=\"14.00\">MSP430X</text>\n",
       "</g>\n",
       "<!-- MSP430&#45;&gt;MSP430X -->\n",
       "<g id=\"edge54\" class=\"edge\"><title>MSP430&#45;&gt;MSP430X</title>\n",
       "<path fill=\"none\" stroke=\"black\" d=\"M571.039,-558C579.421,-558 588.381,-558 597.208,-558\"/>\n",
       "<polygon fill=\"black\" stroke=\"black\" points=\"597.468,-561.5 607.468,-558 597.467,-554.5 597.468,-561.5\"/>\n",
       "</g>\n",
       "<!-- ATmega -->\n",
       "<g id=\"node57\" class=\"node\"><title>ATmega</title>\n",
       "<ellipse fill=\"none\" stroke=\"black\" cx=\"655.758\" cy=\"-504\" rx=\"42.4939\" ry=\"18\"/>\n",
       "<text text-anchor=\"middle\" x=\"655.758\" y=\"-500.3\" font-family=\"Times,serif\" font-size=\"14.00\">ATmega</text>\n",
       "</g>\n",
       "<!-- AVR&#45;&gt;ATmega -->\n",
       "<g id=\"edge56\" class=\"edge\"><title>AVR&#45;&gt;ATmega</title>\n",
       "<path fill=\"none\" stroke=\"black\" d=\"M558.128,-504C571.354,-504 587.523,-504 602.821,-504\"/>\n",
       "<polygon fill=\"black\" stroke=\"black\" points=\"603.227,-507.5 613.227,-504 603.227,-500.5 603.227,-507.5\"/>\n",
       "</g>\n",
       "<!-- CM0 -->\n",
       "<g id=\"node59\" class=\"node\"><title>CM0</title>\n",
       "<ellipse fill=\"none\" stroke=\"black\" cx=\"655.758\" cy=\"-450\" rx=\"29.4969\" ry=\"18\"/>\n",
       "<text text-anchor=\"middle\" x=\"655.758\" y=\"-446.3\" font-family=\"Times,serif\" font-size=\"14.00\">CM0</text>\n",
       "</g>\n",
       "<!-- CortexM&#45;&gt;CM0 -->\n",
       "<g id=\"edge58\" class=\"edge\"><title>CortexM&#45;&gt;CM0</title>\n",
       "<path fill=\"none\" stroke=\"black\" d=\"M571.734,-450C586.089,-450 602.069,-450 616.146,-450\"/>\n",
       "<polygon fill=\"black\" stroke=\"black\" points=\"616.482,-453.5 626.482,-450 616.482,-446.5 616.482,-453.5\"/>\n",
       "</g>\n",
       "<!-- CM3 -->\n",
       "<g id=\"node60\" class=\"node\"><title>CM3</title>\n",
       "<ellipse fill=\"none\" stroke=\"black\" cx=\"655.758\" cy=\"-396\" rx=\"29.4969\" ry=\"18\"/>\n",
       "<text text-anchor=\"middle\" x=\"655.758\" y=\"-392.3\" font-family=\"Times,serif\" font-size=\"14.00\">CM3</text>\n",
       "</g>\n",
       "<!-- CortexM&#45;&gt;CM3 -->\n",
       "<g id=\"edge59\" class=\"edge\"><title>CortexM&#45;&gt;CM3</title>\n",
       "<path fill=\"none\" stroke=\"black\" d=\"M559.387,-437.203C578.161,-429.092 602.469,-418.59 621.845,-410.219\"/>\n",
       "<polygon fill=\"black\" stroke=\"black\" points=\"623.401,-413.36 631.193,-406.181 620.625,-406.934 623.401,-413.36\"/>\n",
       "</g>\n",
       "<!-- STM32F0 -->\n",
       "<g id=\"node61\" class=\"node\"><title>STM32F0</title>\n",
       "<ellipse fill=\"none\" stroke=\"black\" cx=\"787.299\" cy=\"-450\" rx=\"47.3916\" ry=\"18\"/>\n",
       "<text text-anchor=\"middle\" x=\"787.299\" y=\"-446.3\" font-family=\"Times,serif\" font-size=\"14.00\">STM32F0</text>\n",
       "</g>\n",
       "<!-- CM0&#45;&gt;STM32F0 -->\n",
       "<g id=\"edge60\" class=\"edge\"><title>CM0&#45;&gt;STM32F0</title>\n",
       "<path fill=\"none\" stroke=\"black\" d=\"M685.186,-450C698.136,-450 713.952,-450 729.193,-450\"/>\n",
       "<polygon fill=\"black\" stroke=\"black\" points=\"729.611,-453.5 739.611,-450 729.61,-446.5 729.611,-453.5\"/>\n",
       "</g>\n",
       "<!-- STM32F1 -->\n",
       "<g id=\"node64\" class=\"node\"><title>STM32F1</title>\n",
       "<ellipse fill=\"none\" stroke=\"black\" cx=\"787.299\" cy=\"-396\" rx=\"47.3916\" ry=\"18\"/>\n",
       "<text text-anchor=\"middle\" x=\"787.299\" y=\"-392.3\" font-family=\"Times,serif\" font-size=\"14.00\">STM32F1</text>\n",
       "</g>\n",
       "<!-- CM3&#45;&gt;STM32F1 -->\n",
       "<g id=\"edge63\" class=\"edge\"><title>CM3&#45;&gt;STM32F1</title>\n",
       "<path fill=\"none\" stroke=\"black\" d=\"M685.186,-396C698.136,-396 713.952,-396 729.193,-396\"/>\n",
       "<polygon fill=\"black\" stroke=\"black\" points=\"729.611,-399.5 739.611,-396 729.61,-392.5 729.611,-399.5\"/>\n",
       "</g>\n",
       "<!-- STM32L0 -->\n",
       "<g id=\"node62\" class=\"node\"><title>STM32L0</title>\n",
       "<ellipse fill=\"none\" stroke=\"black\" cx=\"926.64\" cy=\"-504\" rx=\"48.1917\" ry=\"18\"/>\n",
       "<text text-anchor=\"middle\" x=\"926.64\" y=\"-500.3\" font-family=\"Times,serif\" font-size=\"14.00\">STM32L0</text>\n",
       "</g>\n",
       "<!-- STM32F0&#45;&gt;STM32L0 -->\n",
       "<g id=\"edge61\" class=\"edge\"><title>STM32F0&#45;&gt;STM32L0</title>\n",
       "<path fill=\"none\" stroke=\"black\" d=\"M820.847,-462.797C839.525,-470.141 863.188,-479.445 883.3,-487.352\"/>\n",
       "<polygon fill=\"black\" stroke=\"black\" points=\"882.263,-490.706 892.85,-491.107 884.824,-484.191 882.263,-490.706\"/>\n",
       "</g>\n",
       "<!-- STM32F030 -->\n",
       "<g id=\"node63\" class=\"node\"><title>STM32F030</title>\n",
       "<ellipse fill=\"none\" stroke=\"black\" cx=\"926.64\" cy=\"-450\" rx=\"55.7903\" ry=\"18\"/>\n",
       "<text text-anchor=\"middle\" x=\"926.64\" y=\"-446.3\" font-family=\"Times,serif\" font-size=\"14.00\">STM32F030</text>\n",
       "</g>\n",
       "<!-- STM32F0&#45;&gt;STM32F030 -->\n",
       "<g id=\"edge62\" class=\"edge\"><title>STM32F0&#45;&gt;STM32F030</title>\n",
       "<path fill=\"none\" stroke=\"black\" d=\"M834.797,-450C843.075,-450 851.834,-450 860.518,-450\"/>\n",
       "<polygon fill=\"black\" stroke=\"black\" points=\"860.644,-453.5 870.644,-450 860.644,-446.5 860.644,-453.5\"/>\n",
       "</g>\n",
       "<!-- STM32F103 -->\n",
       "<g id=\"node65\" class=\"node\"><title>STM32F103</title>\n",
       "<ellipse fill=\"none\" stroke=\"black\" cx=\"926.64\" cy=\"-396\" rx=\"55.7903\" ry=\"18\"/>\n",
       "<text text-anchor=\"middle\" x=\"926.64\" y=\"-392.3\" font-family=\"Times,serif\" font-size=\"14.00\">STM32F103</text>\n",
       "</g>\n",
       "<!-- STM32F1&#45;&gt;STM32F103 -->\n",
       "<g id=\"edge64\" class=\"edge\"><title>STM32F1&#45;&gt;STM32F103</title>\n",
       "<path fill=\"none\" stroke=\"black\" d=\"M834.797,-396C843.075,-396 851.834,-396 860.518,-396\"/>\n",
       "<polygon fill=\"black\" stroke=\"black\" points=\"860.644,-399.5 870.644,-396 860.644,-392.5 860.644,-399.5\"/>\n",
       "</g>\n",
       "<!-- GPIO -->\n",
       "<g id=\"node67\" class=\"node\"><title>GPIO</title>\n",
       "<ellipse fill=\"none\" stroke=\"black\" cx=\"406.324\" cy=\"-342\" rx=\"31.3957\" ry=\"18\"/>\n",
       "<text text-anchor=\"middle\" x=\"406.324\" y=\"-338.3\" font-family=\"Times,serif\" font-size=\"14.00\">GPIO</text>\n",
       "</g>\n",
       "<!-- Periph&#45;&gt;GPIO -->\n",
       "<g id=\"edge66\" class=\"edge\"><title>Periph&#45;&gt;GPIO</title>\n",
       "<path fill=\"none\" stroke=\"black\" d=\"M290.194,-224.208C304.604,-246.861 332.211,-287.077 362.777,-315 366.382,-318.293 370.438,-321.434 374.576,-324.332\"/>\n",
       "<polygon fill=\"black\" stroke=\"black\" points=\"372.788,-327.345 383.068,-329.911 376.632,-321.495 372.788,-327.345\"/>\n",
       "</g>\n",
       "<!-- UART -->\n",
       "<g id=\"node68\" class=\"node\"><title>UART</title>\n",
       "<ellipse fill=\"none\" stroke=\"black\" cx=\"406.324\" cy=\"-288\" rx=\"34.394\" ry=\"18\"/>\n",
       "<text text-anchor=\"middle\" x=\"406.324\" y=\"-284.3\" font-family=\"Times,serif\" font-size=\"14.00\">UART</text>\n",
       "</g>\n",
       "<!-- Periph&#45;&gt;UART -->\n",
       "<g id=\"edge67\" class=\"edge\"><title>Periph&#45;&gt;UART</title>\n",
       "<path fill=\"none\" stroke=\"black\" d=\"M300.816,-220.824C317.586,-231.771 341.641,-247.426 362.777,-261 366.693,-263.514 370.817,-266.149 374.896,-268.746\"/>\n",
       "<polygon fill=\"black\" stroke=\"black\" points=\"373.333,-271.9 383.65,-274.309 377.087,-265.992 373.333,-271.9\"/>\n",
       "</g>\n",
       "<!-- SPI -->\n",
       "<g id=\"node69\" class=\"node\"><title>SPI</title>\n",
       "<ellipse fill=\"none\" stroke=\"black\" cx=\"406.324\" cy=\"-234\" rx=\"27\" ry=\"18\"/>\n",
       "<text text-anchor=\"middle\" x=\"406.324\" y=\"-230.3\" font-family=\"Times,serif\" font-size=\"14.00\">SPI</text>\n",
       "</g>\n",
       "<!-- Periph&#45;&gt;SPI -->\n",
       "<g id=\"edge68\" class=\"edge\"><title>Periph&#45;&gt;SPI</title>\n",
       "<path fill=\"none\" stroke=\"black\" d=\"M310.417,-213.605C328.561,-217.504 351.586,-222.452 370.413,-226.498\"/>\n",
       "<polygon fill=\"black\" stroke=\"black\" points=\"369.871,-229.961 380.383,-228.64 371.342,-223.117 369.871,-229.961\"/>\n",
       "</g>\n",
       "<!-- I2C -->\n",
       "<g id=\"node71\" class=\"node\"><title>I2C</title>\n",
       "<ellipse fill=\"none\" stroke=\"black\" cx=\"406.324\" cy=\"-180\" rx=\"27\" ry=\"18\"/>\n",
       "<text text-anchor=\"middle\" x=\"406.324\" y=\"-176.3\" font-family=\"Times,serif\" font-size=\"14.00\">I2C</text>\n",
       "</g>\n",
       "<!-- Periph&#45;&gt;I2C -->\n",
       "<g id=\"edge70\" class=\"edge\"><title>Periph&#45;&gt;I2C</title>\n",
       "<path fill=\"none\" stroke=\"black\" d=\"M310.417,-200.395C328.561,-196.496 351.586,-191.548 370.413,-187.502\"/>\n",
       "<polygon fill=\"black\" stroke=\"black\" points=\"371.342,-190.883 380.383,-185.36 369.871,-184.039 371.342,-190.883\"/>\n",
       "</g>\n",
       "<!-- OneWire -->\n",
       "<g id=\"node72\" class=\"node\"><title>OneWire</title>\n",
       "<ellipse fill=\"none\" stroke=\"black\" cx=\"406.324\" cy=\"-126\" rx=\"43.5923\" ry=\"18\"/>\n",
       "<text text-anchor=\"middle\" x=\"406.324\" y=\"-122.3\" font-family=\"Times,serif\" font-size=\"14.00\">OneWire</text>\n",
       "</g>\n",
       "<!-- Periph&#45;&gt;OneWire -->\n",
       "<g id=\"edge71\" class=\"edge\"><title>Periph&#45;&gt;OneWire</title>\n",
       "<path fill=\"none\" stroke=\"black\" d=\"M300.816,-193.176C317.586,-182.229 341.641,-166.574 362.777,-153 366.078,-150.88 369.528,-148.674 372.974,-146.478\"/>\n",
       "<polygon fill=\"black\" stroke=\"black\" points=\"374.883,-149.412 381.442,-141.092 371.126,-143.505 374.883,-149.412\"/>\n",
       "</g>\n",
       "<!-- USB -->\n",
       "<g id=\"node73\" class=\"node\"><title>USB</title>\n",
       "<ellipse fill=\"none\" stroke=\"black\" cx=\"406.324\" cy=\"-72\" rx=\"27.8951\" ry=\"18\"/>\n",
       "<text text-anchor=\"middle\" x=\"406.324\" y=\"-68.3\" font-family=\"Times,serif\" font-size=\"14.00\">USB</text>\n",
       "</g>\n",
       "<!-- Periph&#45;&gt;USB -->\n",
       "<g id=\"edge72\" class=\"edge\"><title>Periph&#45;&gt;USB</title>\n",
       "<path fill=\"none\" stroke=\"black\" d=\"M290.194,-189.792C304.604,-167.139 332.211,-126.923 362.777,-99 366.713,-95.4045 371.186,-91.9908 375.717,-88.8761\"/>\n",
       "<polygon fill=\"black\" stroke=\"black\" points=\"377.874,-91.6501 384.377,-83.2859 374.077,-85.769 377.874,-91.6501\"/>\n",
       "</g>\n",
       "<!-- Eth -->\n",
       "<g id=\"node74\" class=\"node\"><title>Eth</title>\n",
       "<ellipse fill=\"none\" stroke=\"black\" cx=\"406.324\" cy=\"-18\" rx=\"27\" ry=\"18\"/>\n",
       "<text text-anchor=\"middle\" x=\"406.324\" y=\"-14.3\" font-family=\"Times,serif\" font-size=\"14.00\">Eth</text>\n",
       "</g>\n",
       "<!-- Periph&#45;&gt;Eth -->\n",
       "<g id=\"edge73\" class=\"edge\"><title>Periph&#45;&gt;Eth</title>\n",
       "<path fill=\"none\" stroke=\"black\" d=\"M285.332,-189.096C296.132,-157.112 322.298,-89.3653 362.777,-45 366.536,-40.8801 371.062,-37.1378 375.738,-33.8405\"/>\n",
       "<polygon fill=\"black\" stroke=\"black\" points=\"377.674,-36.7569 384.187,-28.4005 373.885,-30.8713 377.674,-36.7569\"/>\n",
       "</g>\n",
       "<!-- SD -->\n",
       "<g id=\"node70\" class=\"node\"><title>SD</title>\n",
       "<ellipse fill=\"none\" stroke=\"black\" cx=\"528.766\" cy=\"-234\" rx=\"27\" ry=\"18\"/>\n",
       "<text text-anchor=\"middle\" x=\"528.766\" y=\"-230.3\" font-family=\"Times,serif\" font-size=\"14.00\">SD</text>\n",
       "</g>\n",
       "<!-- SPI&#45;&gt;SD -->\n",
       "<g id=\"edge69\" class=\"edge\"><title>SPI&#45;&gt;SD</title>\n",
       "<path fill=\"none\" stroke=\"black\" d=\"M433.458,-234C450.424,-234 472.774,-234 491.457,-234\"/>\n",
       "<polygon fill=\"black\" stroke=\"black\" points=\"491.683,-237.5 501.683,-234 491.683,-230.5 491.683,-237.5\"/>\n",
       "</g>\n",
       "</g>\n",
       "</svg>\n"
      ],
      "text/plain": [
       "<graphviz.dot.Digraph at 0x7f039063fb70>"
      ]
     },
     "execution_count": 12,
     "metadata": {},
     "output_type": "execute_result"
    }
   ],
   "source": [
    "dot = Digraph() ; dot.attr(rankdir='LR',size='10,18')\n",
    "dot.node('Frame')\n",
    "dot.edge('Frame','Primitive')\n",
    "dot.edge('Primitive','Symbol')\n",
    "dot.edge('Primitive','String')\n",
    "dot.edge('Primitive','Number') ; dot.edge('Number','Integer')\n",
    "dot.edge('Integer','Hex') ; dot.edge('Integer','Bin')\n",
    "dot.edge('Frame','Container')\n",
    "dot.edge('Container','Vector') ; dot.edge('Container','Stack')\n",
    "dot.edge('Container','Dictionary') ; dot.edge('Container','Set')\n",
    "dot.edge('Container','Queue')\n",
    "dot.edge('Frame','Active')\n",
    "dot.edge('Active','Command') ; dot.edge('Active','VM') ; dot.edge('Active','Sequence')\n",
    "dot.edge('Frame','IO')\n",
    "dot.edge('IO','Dir') ; dot.edge('IO','File') ; dot.edge('IO','Net')\n",
    "dot.edge('Net','IP') ; dot.edge('Net','Port') ; dot.edge('Net','Web')\n",
    "dot.edge('Frame','Meta')\n",
    "dot.edge('Meta','Class') ; dot.edge('Meta','Fn') ; dot.edge('Fn','Method')\n",
    "dot.edge('Meta','Language')\n",
    "dot.edge('Language','C89') ; dot.edge('C89','Cpp')\n",
    "dot.edge('Language','Python') ; dot.edge('Language','Nim')\n",
    "dot.edge('Language','Java') ; dot.edge('Language','Cs')\n",
    "dot.edge('Language','Make') ; dot.edge('Language','CMake')\n",
    "dot.edge('Language','JS')\n",
    "dot.edge('Language','XML') ; dot.edge('XML','HTML')\n",
    "dot.edge('Frame','HW')\n",
    "dot.edge('HW','ARCH') ; dot.edge('ARCH','x86')\n",
    "dot.edge('x86','i386') ; dot.edge('x86','amd64')\n",
    "dot.edge('ARCH','ARM') ; dot.edge('ARCH','MIPS')\n",
    "dot.edge('HW','CPU') ; dot.edge('CPU','MCU')\n",
    "dot.edge('HW','Memory') ; dot.edge('Memory','Flash') ; dot.edge('Memory','RAM')\n",
    "dot.edge('MCU','MSP430') ; dot.edge('MSP430','MSP430X')\n",
    "dot.edge('MCU','AVR') ; dot.edge('AVR','ATmega')\n",
    "dot.edge('MCU','CortexM') ; dot.edge('CortexM','CM0') ; dot.edge('CortexM','CM3')\n",
    "dot.edge('CM0','STM32F0') ; dot.edge('STM32F0','STM32L0')\n",
    "dot.edge('STM32F0','STM32F030')\n",
    "dot.edge('CM3','STM32F1') ; dot.edge('STM32F1','STM32F103')\n",
    "dot.edge('HW','Periph') ; dot.edge('Periph','GPIO')\n",
    "dot.edge('Periph','UART') ; dot.edge('Periph','SPI') ; dot.edge('SPI','SD')\n",
    "dot.edge('Periph','I2C') ; dot.edge('Periph','OneWire')\n",
    "dot.edge('Periph','USB') ; dot.edge('Periph','Eth')\n",
    "dot"
   ]
  },
  {
   "cell_type": "markdown",
   "metadata": {},
   "source": [
    "### Primitive data"
   ]
  },
  {
   "cell_type": "markdown",
   "metadata": {},
   "source": [
    "The key property of all primitive objects is they all **evaluate to itself**."
   ]
  },
  {
   "cell_type": "markdown",
   "metadata": {},
   "source": [
    "Short names were selected to make dumps readable on the tiny LCD text screens (something like 16x2), and also it means objects subset from the `metaL` core languages."
   ]
  },
  {
   "cell_type": "code",
   "execution_count": 13,
   "metadata": {},
   "outputs": [
    {
     "name": "stdout",
     "output_type": "stream",
     "text": [
      "Appending to metaL.py\n"
     ]
    }
   ],
   "source": [
    "%%writefile -a metaL.py\n",
    "\n",
    "# `Primitive` scalar data types\n",
    "# close to low-level (hardware or implementation language)\n",
    "class Prim(Frame):\n",
    "    def eval(self,ctx): # to itself\n",
    "        ctx // self\n",
    "\n",
    "# `Symbol` names other objects\n",
    "class Sym(Prim): pass\n",
    "\n",
    "# text `String` (multiline)\n",
    "class Str(Prim): pass\n",
    "\n",
    "# floating point `Number`\n",
    "class Num(Prim):\n",
    "    def __init__(self,V):\n",
    "        Prim.__init__(self,float(V))\n",
    "\n",
    "# `Integer` numbers\n",
    "class Int(Num):\n",
    "    def __init__(self,V):\n",
    "        Prim.__init__(self,int(V))\n",
    "\n",
    "# `Hex`adecimal machine number\n",
    "class Hex(Int):\n",
    "    def __init__(self,V):\n",
    "        Prim.__init__(self,int(V[2:],0x10))\n",
    "    def _val(self):\n",
    "        return hex(self.val)\n",
    "\n",
    "# `Bin`ary string/number\n",
    "class Bin(Int):\n",
    "    def __init__(self,V):\n",
    "        Prim.__init__(self,int(V[2:],0x02))\n",
    "    def _val(self):\n",
    "        return bin(self.val)"
   ]
  },
  {
   "cell_type": "code",
   "execution_count": 14,
   "metadata": {},
   "outputs": [
    {
     "name": "stdout",
     "output_type": "stream",
     "text": [
      "Appending to metaL.py\n"
     ]
    }
   ],
   "source": [
    "%%writefile -a metaL.py\n",
    "\n",
    "# data `Container`s\n",
    "class Cont(Frame): pass\n",
    "\n",
    "# ordered variable-size `Vector`\n",
    "class Vector(Cont): pass\n",
    "\n",
    "# LIFO: push/pop interface\n",
    "class Stack(Cont): pass\n",
    "\n",
    "# FIFO: put/get interface\n",
    "class Queue(Cont): pass\n",
    "\n",
    "# associative array\n",
    "class Dict(Cont): pass\n",
    "\n",
    "# single-element\n",
    "class Set(Cont): pass\n"
   ]
  },
  {
   "cell_type": "code",
   "execution_count": 15,
   "metadata": {},
   "outputs": [
    {
     "name": "stdout",
     "output_type": "stream",
     "text": [
      "Appending to test_metaL.py\n"
     ]
    }
   ],
   "source": [
    "%%writefile -a test_metaL.py\n",
    "\n",
    "class TestPrimitive:\n",
    "\n",
    "    def test_symbol(self):\n",
    "        assert Sym('test').test() == '\\n<sym:test>'\n"
   ]
  },
  {
   "cell_type": "markdown",
   "metadata": {},
   "source": [
    "# EDS: Executable Data Structure (c)"
   ]
  },
  {
   "cell_type": "markdown",
   "metadata": {},
   "source": [
    "* https://www.quora.com/What-is-graph-oriented-programming/answer/Dmitry-Ponyatov\n"
   ]
  },
  {
   "cell_type": "markdown",
   "metadata": {},
   "source": [
    "#### What is graph oriented programming?\n",
    "\n",
    "Let’s see `Lisp` — it is *based on lists*, **all data and especially code are lists**.\n",
    "\n",
    "Now let **think about graphs made of some objects as a program representation**. We can take any programming language as a base, for example C. We can parse some source code, split then into syntax elements, and build parsing tree from them. The tree is a *graph*, every node is an *object*, nodes *linked by references* as graph edges. Every node can have arbitrary *attributes* addressed by names -- Marvin Minsky call them *slots*."
   ]
  },
  {
   "cell_type": "markdown",
   "metadata": {},
   "source": [
    "As a sample, this is source code in Python shows the base graph object:\n",
    "```py\n",
    "class Frame:\n",
    "  def __init__(self,V):\n",
    "    self.type = self.__class__.__name__.lower()\n",
    "    self.val = V\n",
    "    self.slot = {}\n",
    "    self.nest = []\n",
    "```"
   ]
  },
  {
   "cell_type": "markdown",
   "metadata": {},
   "source": [
    "To make a *programming system* **does not use any programming languages**, but *only graphs in memory*, we should inherit this class to two classes:"
   ]
  },
  {
   "cell_type": "markdown",
   "metadata": {},
   "source": [
    "```py\n",
    "class VM(Frame):\n",
    "  def __lshift__(self,F):\n",
    "    if callable(F): return self << Cmd(F)\n",
    "    else: return Frame.__lshift__(self,F)\n",
    " \n",
    "class Cmd(Frame):\n",
    "  def __init__(self,F):\n",
    "    Frame.__init__(self,F.__name__)\n",
    "    self.fn = F\n",
    "  def eval(self,ctx):\n",
    "    self.fn(ctx)\n",
    " \n",
    "vm = VM('metaL') ; print(vm)\n",
    "\n",
    "def BYE(ctx): sys.exit(0)\n",
    "vm << BYE\n",
    "\n",
    "print(vm)\n",
    "```"
   ]
  },
  {
   "cell_type": "markdown",
   "metadata": {},
   "source": [
    "Now we have global context vm\n",
    "```\n",
    "<vm:metaL> @7f5bc7e2a5f8\n",
    "   BYE = <cmd:BYE> @7f5bc7f5e320\n",
    "```"
   ]
  },
  {
   "cell_type": "markdown",
   "metadata": {},
   "source": [
    "It has two properties required to implement a programming system (language):\n",
    "\n",
    "* the **lookup table** (environment, *vocabulary*), and\n",
    "* **data stack** for storing data in order, and do operations on them"
   ]
  },
  {
   "cell_type": "markdown",
   "metadata": {},
   "source": [
    "`Cmd` object wraps generic Python **functions which gets execution context as an attribute** and can *do any arbitrary operation on this context*."
   ]
  },
  {
   "cell_type": "markdown",
   "metadata": {},
   "source": [
    "*Adding a dozen of inherited classes* to represent primitives (symbol, string, number), and some objects evaluate as control structures (if, case, loops, etc) *we got a programming system*. **It is not required to use programming language**, as this system can use any graph manipulation interfaces (gui,web) to construct new graphs by running existing ones."
   ]
  },
  {
   "cell_type": "markdown",
   "metadata": {},
   "source": [
    "This classical code\n",
    "```c\n",
    "int _fib(int n, int acc) {\n",
    "    if (n==0) return acc;\n",
    "    return _fib(n-1,acc*n)\n",
    "}\n",
    " \n",
    "int fib(int n) { return _fib(n,1) }\n",
    "```\n",
    "transforms to **executable data structure** which can both represent “code” and **be run in a system* by the *EDS-interpreter*\n",
    "\n",
    "![image.png](attachment:image.png)"
   ]
  },
  {
   "cell_type": "markdown",
   "metadata": {},
   "source": [
    "## *Homoiconic* programming system"
   ]
  },
  {
   "cell_type": "markdown",
   "metadata": {},
   "source": [
    "**Homoiconicity** is a property of a programming language in which *any program is* **simultaneously**\n",
    "* *the easy to modify* **data structure** , and \n",
    "* an **executable program representation** (program source code).\n",
    "\n",
    "In a homoiconic language, a programmer does not just have access to the source code, but the language itself specifically provides tools and easy to use methods for convenient work with parts of programs (represented as generic data) in runtime.\n",
    "* Say, if you include C++ source code of your program into the distribution package, you can work with the program code as data, but only at the level of text files, or using third-party analysis libraries. In the C++ language itself, there are no tools for reading, modifying, or generating source code.\n",
    "* Conversely, in the Lisp language, all programs are represented in the form of executable lists -- *these lists* are simultaneously a representation of the program and the usual *universal data structure for working with which the language was specially created*."
   ]
  },
  {
   "cell_type": "markdown",
   "metadata": {},
   "source": [
    "### EDS-interpreter"
   ]
  },
  {
   "cell_type": "markdown",
   "metadata": {},
   "source": [
    "In order to use the advantages of homoiconicity in your programs written in any conventional languages (C++/Java/C#/...), you need to integrate an **EDS-interpreter** into your programs that will \n",
    "* **execute some data structure as a program**, and at the same time \n",
    "* provides high-level *tools for modifying it* in runtime.\n",
    "\n",
    "It is not necessary that this interpreter should be an implementation of some scripting programming language.\n",
    "\n",
    "Script language interpreters embedded into programs are now widely used to provide the user with the ability to customize and *extend the functionality of programs without its recompilation*. The most famous example is game engines:\n",
    "* the program core is written in C++ or any other language which generates highly-efficient machine code\n",
    "* the game itself is written in some scripting languages such as Lua, Python, JavaScript,.."
   ]
  },
  {
   "cell_type": "markdown",
   "metadata": {},
   "source": [
    "The most interesting thing: **it is possible to do programming without using any programming language** -- it is enough that the system has a **data structures interpreter**: that's the core of **EDS method** (Executable Data Structure). To create a program in such a system, you need to have any way to create an executable data structure in memory: it can be a graphic drawing, a text format parser, a graph database, or C++ code that forces the compiler to include such a structure in the executable file statically."
   ]
  },
  {
   "cell_type": "markdown",
   "metadata": {},
   "source": [
    "# Metaprogramming"
   ]
  },
  {
   "cell_type": "markdown",
   "metadata": {},
   "source": [
    "Metaprogramming -- when one program modifies (generates) another program, including itself."
   ]
  },
  {
   "cell_type": "markdown",
   "metadata": {},
   "source": [
    "**Metaprogramming is a method of boosting your efficiency as a programmer by expanding the language you use**. If you write very similar code every day, in languages ​​that can do meta (Lisp, Nim), you can write small macro programs that will run during the compilation of the code (Nim), and generate new code from a template or modify an existing one the way as you need it. Factically, you can add to the language those features that are needed for a narrow set of *your specific tasks*."
   ]
  },
  {
   "cell_type": "markdown",
   "metadata": {},
   "source": [
    "In order **to be able to use metaprogramming in a full scale**, the language or **programming system you are using must be homoiconic**. If you want to use this method with industrial programming languages, the use of an EDS interpreter will allow you to quickly and conveniently solve your problems, paying for it with losses in the speed of programs and memory usage (see a comparison of the interpreter vs the compiler into machine code)."
   ]
  },
  {
   "cell_type": "markdown",
   "metadata": {},
   "source": [
    "# Generic program representation"
   ]
  },
  {
   "cell_type": "markdown",
   "metadata": {},
   "source": [
    "Well-known forms of program representations:\n",
    "* **machine code**\n",
    "* **source code in** some language (**text files**) -- practically all programming languages from mainstream ones in industrial use, down to experimental and esoteric\n",
    "* dynamical **lists** -- the Lisp\n",
    "\n",
    "`metaL` (**meta L**anguage) also offers another form:\n",
    "* object graphs -- `metaL`"
   ]
  },
  {
   "cell_type": "markdown",
   "metadata": {},
   "source": [
    "A **graph** is a mathematical concept, and a data structure is very widely used in programming.\n",
    "\n",
    "The graph consists of vertices -- nodes, and edges that connect the nodes to each other. A **directed graph** is a special case of a graph in which a direction is given for each edge and the start and end nodes are known.\n",
    "\n",
    "An **object** is a data item that links\n",
    "* a set of data *fields* that specify the state of the object\n",
    "* *methods* for working with these data, and with the object itself as a single entity"
   ]
  },
  {
   "cell_type": "markdown",
   "metadata": {},
   "source": [
    "Finally, the **object graph** is a data structure in which\n",
    "* nodes are **objects**, and\n",
    "* edges are defined as **references** from an object to other objects.\\\n",
    "It is clear that the object graph is **directed**, and **can be cyclic** (the object refers to itself)"
   ]
  },
  {
   "cell_type": "markdown",
   "metadata": {},
   "source": [
    "## Frame as a universal data element"
   ]
  },
  {
   "cell_type": "markdown",
   "metadata": {},
   "source": [
    "Each object graph node aka **Frame is a universal data container**.\n",
    "* `type` indicates the type of frame, which is also displayed to the user. This field is required for languages that do not support RTTI: they are not able to determine the type of an arbitrary object dynamically during program execution. Python has a built-in function `isinstance()`, but this field also appeared due to the requirements of the [PLY library](https://www.dabeaz.com/ply/).\n",
    "* `val` contains data that distinguishes one frame from another: the name of the frame, or some scalar value\n",
    "* `slot` stores named links to other frames -- it sets edges of the object graph via references\n",
    "* `nest` is an ordered data container that was not in the original Minsky frames, but it is necessary for parsing text formats (nested elements of the parsing tree), and for use as a stack (LIFO) and queue (FIFO)\n",
    "\n",
    "Any node can store any other data packed in additional fields -- it is enough to inherit a new class from the base Frame, if dynamic languages like Pyhon frame object can be extended unlimited."
   ]
  },
  {
   "cell_type": "markdown",
   "metadata": {},
   "source": [
    "# EDS: Executable Data Structure (c) approach"
   ]
  },
  {
   "cell_type": "code",
   "execution_count": 16,
   "metadata": {},
   "outputs": [
    {
     "name": "stdout",
     "output_type": "stream",
     "text": [
      "Appending to metaL.py\n"
     ]
    }
   ],
   "source": [
    "%%writefile -a metaL.py\n",
    "\n",
    "# classes subset required to implement EDS: Executable Data Structure (c)\n",
    "class Active(Frame): pass"
   ]
  },
  {
   "cell_type": "code",
   "execution_count": 17,
   "metadata": {},
   "outputs": [
    {
     "name": "stdout",
     "output_type": "stream",
     "text": [
      "Appending to metaL.py\n"
     ]
    }
   ],
   "source": [
    "%%writefile -a metaL.py\n",
    "\n",
    "# VM `Command` which wraps Python function(context)\n",
    "class Cmd(Active):\n",
    "    # use function name as .val\n",
    "    def __init__(self,F):\n",
    "        Active.__init__(self,F.__name__)\n",
    "        self.fn = F\n",
    "    # apply stored function to context\n",
    "    def eval(self,ctx):\n",
    "        self.fn(ctx)        "
   ]
  },
  {
   "cell_type": "code",
   "execution_count": 18,
   "metadata": {},
   "outputs": [
    {
     "name": "stdout",
     "output_type": "stream",
     "text": [
      "Appending to metaL.py\n"
     ]
    }
   ],
   "source": [
    "%%writefile -a metaL.py\n",
    "\n",
    "# context = virtual machine\n",
    "# represents FORTH-like execution context: vocabulary + stack + set of commands works over VM state\n",
    "class VM(Active):\n",
    "    ## operator methods specially dedicated for wrapping Python functions\n",
    "    def __setitem__(self,key,F):\n",
    "        if callable(F): self[key] = Cmd(F) ; return self\n",
    "        else: return Active.__setitem__(self,key,F)\n",
    "    def __lshift__(self,F):\n",
    "        if callable(F): return self << Cmd(F)\n",
    "        else: return Active.__lshift__(self,F)\n",
    "\n",
    "# `Sequence`: every element in nest[] executes one by one on a single provided context\n",
    "class Seq(Active,Vector): pass"
   ]
  },
  {
   "cell_type": "code",
   "execution_count": 19,
   "metadata": {},
   "outputs": [
    {
     "name": "stdout",
     "output_type": "stream",
     "text": [
      "Appending to metaL.py\n"
     ]
    }
   ],
   "source": [
    "%%writefile -a metaL.py\n",
    "\n",
    "# global FORTH-like virtual machine\n",
    "\n",
    "vm = VM('metaL') ; vm['vm'] = vm\n",
    "\n",
    "# BYE ( -- ) stop system\n",
    "def BYE(ctx): sys.exit(0)\n",
    "vm << BYE"
   ]
  },
  {
   "cell_type": "code",
   "execution_count": 20,
   "metadata": {},
   "outputs": [
    {
     "name": "stdout",
     "output_type": "stream",
     "text": [
      "Overwriting py.py\n"
     ]
    }
   ],
   "source": [
    "%%writefile py.py\n",
    "from metaL import *\n",
    "print(vm)"
   ]
  },
  {
   "cell_type": "code",
   "execution_count": 21,
   "metadata": {},
   "outputs": [
    {
     "name": "stdout",
     "output_type": "stream",
     "text": [
      "\r\n",
      "<vm:metaL> @7f8d087470f0\r\n",
      "\tvm = <vm:metaL> @7f8d087470f0 _/\r\n",
      "\tBYE = <cmd:BYE> @7f8d08756a20\r\n"
     ]
    }
   ],
   "source": [
    "!python py.py"
   ]
  },
  {
   "cell_type": "markdown",
   "metadata": {},
   "source": [
    "## Debug"
   ]
  },
  {
   "cell_type": "code",
   "execution_count": 22,
   "metadata": {},
   "outputs": [
    {
     "name": "stdout",
     "output_type": "stream",
     "text": [
      "Appending to metaL.py\n"
     ]
    }
   ],
   "source": [
    "%%writefile -a metaL.py\n",
    "\n",
    "# debug\n",
    "\n",
    "# ? ( -- ) print current VM stack and continue execution\n",
    "def Q(ctx): print(ctx.dump(voc=False))\n",
    "vm['?'] = Q\n",
    "\n",
    "# ?? ( -- ) print full VM state and stop the system\n",
    "def QQ(ctx): print(ctx) ; BYE(ctx)\n",
    "vm['??'] = QQ"
   ]
  },
  {
   "cell_type": "markdown",
   "metadata": {},
   "source": [
    "## Stack operations"
   ]
  },
  {
   "cell_type": "code",
   "execution_count": 23,
   "metadata": {},
   "outputs": [
    {
     "name": "stdout",
     "output_type": "stream",
     "text": [
      "Appending to metaL.py\n"
     ]
    }
   ],
   "source": [
    "%%writefile -a metaL.py\n",
    "\n",
    "# stack operations\n",
    "\n",
    "# . ( a b c -- ) drop all data from the stack\n",
    "def DOT(ctx): ctx.dropall()\n",
    "vm['.'] = DOT"
   ]
  },
  {
   "cell_type": "markdown",
   "metadata": {},
   "source": [
    "**Use `.` word at the end of every logical code block** in your scripts -- it will save you from surprises."
   ]
  },
  {
   "cell_type": "markdown",
   "metadata": {},
   "source": [
    "## PLY-based parser: There is no-syntax "
   ]
  },
  {
   "cell_type": "markdown",
   "metadata": {},
   "source": [
    "FORTH-based languages are no-syntax languages: it uses only more or less simple lexer, but there is no syntax predefined structures which must be parsed. Every language element implements control or compiling structures has its own responsibility on required work and no of this work interlinked with the parser."
   ]
  },
  {
   "cell_type": "markdown",
   "metadata": {},
   "source": [
    "Due to language syntax simplicity, it is very easy and fast to make a usable command shell system: you need a very compact parser, and tiny set of words (functions) provides interpreter and command definition capabilities. To make the bootstrap version of a metaprogramming system we don't need more than that simple command shell: what we need only is an initialization from ASCII text files, and little command language provided to a user.\n",
    "\n",
    "I tend to totally avoid any scripting languages use. If you look a lot of publications and manuals on expert system design, there are a lot of cryptic Lisp/Prolog code defines knowledge databases and rules. But it is not required to have scripting, as data stored in the *object graph database* itself has a power of describing processing procedures and rules. It looks like [MPS: The Domain-Specific Language Creator by JetBrains](https://www.jetbrains.com/mps/) where data defines not only structures, but its (self)transformations.\n",
    "\n",
    "From the other side, it is a very common case to have human-readable ASCII formats for batching data loading and transformation, so I leave very primitive FORTH-like command language for these tasks. \n",
    "\n",
    "First of all, I must be compatible with git hostings wide use like GitHub etc and don't want to have problems like image-based Smalltalk systems. Frame graphs are great for visualization, but text files good for easy to use storage can be read by a human, edited and recovered manually. Here I especially want to note that `metaL` is not a **visual** language/system, but this is a **visualizable programming** system."
   ]
  },
  {
   "cell_type": "markdown",
   "metadata": {},
   "source": [
    "The difference is a user use case: you will not break your hands with hours of a mouse juggling. In place of that, you'll get a simple command-line shell, and interface which will show you your data structures in a pleasant human-friendly graph and diagrams representation. FORTH-like command (not programming) language so simple in its roots, that it is even useful on narrow screen mobile phones. You don't fly around the screen as you do with most other script languages -- there is no recursion syntax, as result you don't need to fix your code saving parens balance or right tabbing."
   ]
  },
  {
   "cell_type": "code",
   "execution_count": 24,
   "metadata": {},
   "outputs": [
    {
     "name": "stdout",
     "output_type": "stream",
     "text": [
      "Appending to metaL.py\n"
     ]
    }
   ],
   "source": [
    "%%writefile -a metaL.py\n",
    "\n",
    "# no-syntax parser\n",
    "\n",
    "import ply.lex as lex\n",
    "\n",
    "tokens = ['sym','num','int','hex','bin']\n",
    "\n",
    "t_ignore = ' \\t\\r\\n'\n",
    "t_ignore_comment = r'[\\#\\\\].*'\n",
    "\n",
    "def t_hex(t):\n",
    "    r'0x[0-9a-fA-F]+'\n",
    "    return Hex(t.value)\n",
    "\n",
    "def t_bin(t):\n",
    "    r'0b[01]+'\n",
    "    return Bin(t.value)\n",
    "\n",
    "def t_num(t):\n",
    "    r'[+\\-]?[0-9]+\\.[0-9]*([eE][+\\-][0-9]+)?'\n",
    "    return Num(t.value)\n",
    "\n",
    "def t_num_exp(t):\n",
    "    r'[+\\-]?[0-9]+[eE][+\\-][0-9]+'\n",
    "    return Num(t.value)\n",
    "\n",
    "def t_int(t):\n",
    "    r'[+\\-]?[0-9]+'\n",
    "    return Int(t.value)\n",
    "\n",
    "def t_sym(t):\n",
    "    r'(`)|[^ \\t\\r\\n\\#\\\\]+'\n",
    "    return Sym(t.value)\n",
    "\n",
    "def t_error(t): raise SyntaxError(t)"
   ]
  },
  {
   "cell_type": "code",
   "execution_count": 25,
   "metadata": {},
   "outputs": [
    {
     "name": "stdout",
     "output_type": "stream",
     "text": [
      "Appending to test_metaL.py\n"
     ]
    }
   ],
   "source": [
    "%%writefile -a test_metaL.py\n",
    "\n",
    "class TestParser:\n",
    "    \n",
    "    def setup(self):\n",
    "        self.lexer = lex.lex()\n",
    "        self.lexer.input('`symbol -01 +02.30 -04e+5 0xDeadBeef 0b1101')\n",
    "    \n",
    "    def test_parser(self):\n",
    "        assert self.lexer.token().test() == '\\n<sym:`>'\n",
    "        assert self.lexer.token().test() == '\\n<sym:symbol>'\n",
    "        assert self.lexer.token().test() == '\\n<int:-1>'\n",
    "        assert self.lexer.token().test() == '\\n<num:2.3>'\n",
    "        assert self.lexer.token().test() == '\\n<num:-400000.0>'\n",
    "        assert self.lexer.token().test() == '\\n<hex:0xdeadbeef>'\n",
    "        assert self.lexer.token().test() == '\\n<bin:0b1101>'"
   ]
  },
  {
   "cell_type": "code",
   "execution_count": 26,
   "metadata": {},
   "outputs": [
    {
     "name": "stdout",
     "output_type": "stream",
     "text": [
      "\u001b[1m============================= test session starts ==============================\u001b[0m\n",
      "platform linux -- Python 3.5.3, pytest-5.2.1, py-1.8.0, pluggy-0.13.0 -- /home/ponyatov/bloc/bin/python3\n",
      "cachedir: .pytest_cache\n",
      "rootdir: /home/ponyatov/bloc\n",
      "collected 1 item                                                               \u001b[0m\n",
      "\n",
      "test_metaL.py::TestParser::test_parser \u001b[32mPASSED\u001b[0m\u001b[36m                            [100%]\u001b[0m\n",
      "\n",
      "\u001b[32m\u001b[1m============================== 1 passed in 0.09s ===============================\u001b[0m\n"
     ]
    }
   ],
   "source": [
    "!pytest -v test_metaL.py::TestParser"
   ]
  },
  {
   "cell_type": "markdown",
   "metadata": {},
   "source": [
    "## Interpreter"
   ]
  },
  {
   "cell_type": "code",
   "execution_count": 27,
   "metadata": {},
   "outputs": [
    {
     "name": "stdout",
     "output_type": "stream",
     "text": [
      "Appending to metaL.py\n"
     ]
    }
   ],
   "source": [
    "%%writefile -a metaL.py\n",
    "\n",
    "# interpreter\n",
    "\n",
    "## ( -- str:token )\n",
    "def WORD(ctx):\n",
    "    token = ctx.lexer.token()\n",
    "    if token: ctx // token\n",
    "    return token\n",
    "vm['`'] = WORD\n",
    "\n",
    "## ( str:token -- some:object | notfound:token )\n",
    "def FIND(ctx):\n",
    "    token = ctx.pop()\n",
    "    try: ctx // ctx[token.val] ; return True\n",
    "    except KeyError: ctx // token ; return False\n",
    "\n",
    "## ( any:object -- ... )\n",
    "def EVAL(ctx):\n",
    "    ctx.pop().eval(ctx)\n",
    "\n",
    "## ( str -- )\n",
    "def INTERP(ctx):\n",
    "    ctx.lexer = lex.lex() ; ctx.lexer.input(ctx.pop().val)\n",
    "    while True:\n",
    "        if not WORD(ctx): break\n",
    "        if isinstance(ctx.top(),Sym):\n",
    "            if not FIND(ctx): raise SyntaxError(ctx.top())\n",
    "        EVAL(ctx)\n",
    "\n",
    "# run commands from Jupyter as strings\n",
    "def M(cmd=''):\n",
    "    vm // Str(cmd) ; INTERP(vm)"
   ]
  },
  {
   "cell_type": "markdown",
   "metadata": {},
   "source": [
    "With M() calls you now able to run metaL commands right in Jupyter notebook"
   ]
  },
  {
   "cell_type": "code",
   "execution_count": 28,
   "metadata": {},
   "outputs": [],
   "source": [
    "%load_ext autoreload\n",
    "%autoreload 2\n",
    "from metaL import *"
   ]
  },
  {
   "cell_type": "code",
   "execution_count": 29,
   "metadata": {},
   "outputs": [],
   "source": [
    "! touch metaL.py"
   ]
  },
  {
   "cell_type": "code",
   "execution_count": 30,
   "metadata": {},
   "outputs": [
    {
     "name": "stdout",
     "output_type": "stream",
     "text": [
      "\n",
      "<vm:metaL> @7f03901ca128\n",
      "\t<int:-1> @7f03900d3278\n",
      "\t<num:2.3> @7f03900d3048\n",
      "\t<num:-400000.0> @7f03900d3438\n",
      "\t<hex:0xdeadbeef> @7f03900d3080\n",
      "\t<bin:0b1101> @7f03900d3470\n",
      "\n",
      "<vm:metaL> @7f03901ca128\n"
     ]
    }
   ],
   "source": [
    "from metaL import *\n",
    "M('-01 +02.30 -4e+5 0xDeadBeef 0b1101 ? . ? \\ number literals')"
   ]
  },
  {
   "cell_type": "markdown",
   "metadata": {},
   "source": [
    "## Vocabulary Compiler"
   ]
  },
  {
   "cell_type": "markdown",
   "metadata": {},
   "source": [
    "## System initialization"
   ]
  },
  {
   "cell_type": "code",
   "execution_count": 31,
   "metadata": {},
   "outputs": [
    {
     "name": "stdout",
     "output_type": "stream",
     "text": [
      "Overwriting metaL.ini\n"
     ]
    }
   ],
   "source": [
    "%%writefile metaL.ini\n",
    "\n",
    "# metaL system\n",
    "\\ line comment\n",
    "\n",
    "`symbol -01 +02.30 -4e+5 0xDeadBeef 0b1101 ? . ? \\ number literals\n"
   ]
  },
  {
   "cell_type": "code",
   "execution_count": 32,
   "metadata": {},
   "outputs": [
    {
     "name": "stdout",
     "output_type": "stream",
     "text": [
      "Appending to metaL.py\n"
     ]
    }
   ],
   "source": [
    "%%writefile -a metaL.py\n",
    "\n",
    "# system init\n",
    "\n",
    "if __name__ == '__main__':\n",
    "    with open(sys.argv[0][:-3]+'.ini') as ini: # process metaL.ini\n",
    "        M(ini.read())"
   ]
  },
  {
   "cell_type": "code",
   "execution_count": 33,
   "metadata": {},
   "outputs": [
    {
     "name": "stdout",
     "output_type": "stream",
     "text": [
      "\r\n",
      "<vm:metaL> @7efdafad0908\r\n",
      "\t<sym:symbol> @7efdafa5d240\r\n",
      "\t<int:-1> @7efdafa5def0\r\n",
      "\t<num:2.3> @7efdafa5d748\r\n",
      "\t<num:-400000.0> @7efdafa5d780\r\n",
      "\t<hex:0xdeadbeef> @7efdafa5d2e8\r\n",
      "\t<bin:0b1101> @7efdafa5d8d0\r\n",
      "\r\n",
      "<vm:metaL> @7efdafad0908\r\n"
     ]
    }
   ],
   "source": [
    "!python metaL.py"
   ]
  },
  {
   "cell_type": "code",
   "execution_count": 34,
   "metadata": {},
   "outputs": [
    {
     "name": "stdout",
     "output_type": "stream",
     "text": [
      "Appending to test_metaL.py\n"
     ]
    }
   ],
   "source": [
    "%%writefile -a test_metaL.py\n",
    "\n",
    "class TestInterpreter:\n",
    "    \n",
    "    def setup(self):\n",
    "        self.lexer = lex.lex()\n",
    "\n",
    "    def test_numbers(self):\n",
    "        vm.dropall()\n",
    "        M('`symbol -01 +02.30 -4e+5 0xDeadBeef 0b1101 \\ number literals')\n",
    "        assert vm.test(voc=False) == '\\n<vm:metaL>\\n\\t<sym:symbol>\\n\\t<int:-1>'+\\\n",
    "                                     '\\n\\t<num:2.3>\\n\\t<num:-400000.0>'+\\\n",
    "                                     '\\n\\t<hex:0xdeadbeef>\\n\\t<bin:0b1101>'"
   ]
  },
  {
   "cell_type": "code",
   "execution_count": 35,
   "metadata": {},
   "outputs": [
    {
     "name": "stdout",
     "output_type": "stream",
     "text": [
      "\u001b[1m============================= test session starts ==============================\u001b[0m\n",
      "platform linux -- Python 3.5.3, pytest-5.2.1, py-1.8.0, pluggy-0.13.0 -- /home/ponyatov/bloc/bin/python3\n",
      "cachedir: .pytest_cache\n",
      "rootdir: /home/ponyatov/bloc\n",
      "collected 1 item                                                               \u001b[0m\n",
      "\n",
      "test_metaL.py::TestInterpreter::test_numbers \u001b[32mPASSED\u001b[0m\u001b[36m                      [100%]\u001b[0m\n",
      "\n",
      "\u001b[32m\u001b[1m============================== 1 passed in 0.09s ===============================\u001b[0m\n"
     ]
    }
   ],
   "source": [
    "! pytest -v test_metaL.py::TestInterpreter"
   ]
  },
  {
   "cell_type": "markdown",
   "metadata": {},
   "source": [
    "# Android"
   ]
  },
  {
   "cell_type": "markdown",
   "metadata": {},
   "source": [
    "[Android intro (ru) (c) mail.ru](https://www.youtube.com/playlist?list=PLrCZzMib1e9ptI7bPXFG8X5xEiCBt5qYE)"
   ]
  },
  {
   "attachments": {
    "image.png": {
     "image/png": "[encoded data removed]"
    }
   },
   "cell_type": "markdown",
   "metadata": {},
   "source": [
    "![image.png](attachment:image.png)"
   ]
  },
  {
   "cell_type": "markdown",
   "metadata": {},
   "source": [
    "What file structures Android Studio creates on project startup? How many of these files you are changing over and over again on the next project you are starting? Can we automate it by providing a conceptual project declarative description, and then produce the Android project structure via code generation? Is it possible to make a *code fabric framework* from scratch which will totally replace almost all Java coding by **your own software specification language**?"
   ]
  },
  {
   "cell_type": "markdown",
   "metadata": {},
   "source": [
    "## Android application components"
   ]
  },
  {
   "cell_type": "markdown",
   "metadata": {},
   "source": [
    "**Activity** is a Java class that processes part of application related to View part of the MVC model."
   ]
  },
  {
   "cell_type": "markdown",
   "metadata": {},
   "source": [
    "**Layout** is an XML file contains a specification of a single app screen. The app can have large amount of activities each of them is specific not only for every use case but for screen orientations, resolution and device type (TV, wearing)."
   ]
  },
  {
   "cell_type": "markdown",
   "metadata": {},
   "source": [
    "### ./app/src/main/AndroidManifest.xml"
   ]
  },
  {
   "cell_type": "markdown",
   "metadata": {},
   "source": [
    "```\n",
    "<manifest\n",
    "    <application\n",
    "        android:icon=\"@mipmap/ic_launcher\"\n",
    "        android:roundIcon=\"@mipmap/ic_launcher_round\"\n",
    "        android:label=\"@string/app_name\"\n",
    "        <activity android:name=\".MainActivity\">...</activity>\n",
    "```"
   ]
  },
  {
   "cell_type": "markdown",
   "metadata": {},
   "source": [
    "We need here to have control on launcher icons, application name, and set of activities."
   ]
  },
  {
   "cell_type": "markdown",
   "metadata": {},
   "source": [
    "To run application you must have default activity defined:\n",
    "```\n",
    "        <activity android:name=\".MainActivity\">\n",
    "            <intent-filter>\n",
    "                <action android:name=\"android.intent.action.MAIN\" />\n",
    "                <category android:name=\"android.intent.category.LAUNCHER\" />\n",
    "            </intent-filter>\n",
    "        </activity>\n",
    "```"
   ]
  },
  {
   "cell_type": "markdown",
   "metadata": {},
   "source": [
    "### ./app/src/main/res/layout/activity_main.xml"
   ]
  },
  {
   "cell_type": "markdown",
   "metadata": {},
   "source": [
    "### ./app/src/main/java/io/github/ponyatov/alog/MainActivity.java"
   ]
  },
  {
   "cell_type": "markdown",
   "metadata": {},
   "source": [
    "```java\n",
    "public class MainActivity extends AppCompatActivity {\n",
    "    @Override\n",
    "    protected void onCreate(Bundle savedInstanceState) {\n",
    "        super.onCreate(savedInstanceState);\n",
    "        setContentView(R.layout.activity_main);\n",
    "    }\n",
    "}\n",
    "```"
   ]
  },
  {
   "cell_type": "markdown",
   "metadata": {},
   "source": [
    "# Resources"
   ]
  },
  {
   "cell_type": "markdown",
   "metadata": {},
   "source": [
    "## Icons"
   ]
  },
  {
   "cell_type": "markdown",
   "metadata": {},
   "source": [
    "```\n",
    "app/src/main/res/mipmap-anydpi-v26/ic_launcher_round.xml: XML 1.0 document, ASCII text\n",
    "app/src/main/res/mipmap-anydpi-v26/ic_launcher.xml:       XML 1.0 document, ASCII text\n",
    "app/src/main/res/mipmap-hdpi/ic_launcher.png:             PNG image data, 72 x 72, 8-bit/color RGBA\n",
    "app/src/main/res/mipmap-hdpi/ic_launcher_round.png:       PNG image data, 72 x 72, 8-bit/color RGBA\n",
    "app/src/main/res/mipmap-mdpi/ic_launcher.png:             PNG image data, 48 x 48, 8-bit/color RGBA\n",
    "app/src/main/res/mipmap-mdpi/ic_launcher_round.png:       PNG image data, 48 x 48, 8-bit/color RGBA\n",
    "app/src/main/res/mipmap-xhdpi/ic_launcher.png:            PNG image data, 96 x 96, 8-bit/color RGBA\n",
    "app/src/main/res/mipmap-xhdpi/ic_launcher_round.png:      PNG image data, 96 x 96, 8-bit/color RGBA\n",
    "app/src/main/res/mipmap-xxhdpi/ic_launcher.png:           PNG image data, 144 x 144, 8-bit/color RGBA\n",
    "app/src/main/res/mipmap-xxhdpi/ic_launcher_round.png:     PNG image data, 144 x 144, 8-bit/color RGBA\n",
    "app/src/main/res/mipmap-xxxhdpi/ic_launcher.png:          PNG image data, 192 x 192, 8-bit/color RGBA\n",
    "app/src/main/res/mipmap-xxxhdpi/ic_launcher_round.png:    PNG image data, 192 x 192, 8-bit/color RGBA\n",
    "```"
   ]
  },
  {
   "cell_type": "markdown",
   "metadata": {},
   "source": [
    "https://romannurik.github.io/AndroidAssetStudio/"
   ]
  },
  {
   "attachments": {
    "image.png": {
     "image/png": "[encoded data removed]"
    }
   },
   "cell_type": "markdown",
   "metadata": {},
   "source": [
    "![image.png](attachment:image.png)"
   ]
  },
  {
   "cell_type": "markdown",
   "metadata": {},
   "source": [
    "# Programming learning: what is more effective?"
   ]
  },
  {
   "cell_type": "markdown",
   "metadata": {},
   "source": [
    "Programming learning: what is more effective -- classical books, tutorials, and video curces on YouTube, or others projects source code analisys&"
   ]
  },
  {
   "cell_type": "markdown",
   "metadata": {},
   "source": [
    "# Learing workflow"
   ]
  },
  {
   "cell_type": "markdown",
   "metadata": {},
   "source": [
    "* platforms\n",
    "  * Android\n",
    "* languages\n",
    "  * Java (Android)\n",
    "  * Python (web)\n",
    "  * C#\n",
    "  * PHP (legacy)\n",
    "* Web\n",
    "  * JavaScript\n",
    "    * Bootstrap\n",
    "    * Angylar\n",
    "    * Vue\n",
    "* data storage\n",
    "  * Postgres\n",
    "  * Queue\n",
    "    * MQTT\n",
    "    * RabbitMQ\n",
    "  * Apache stack\n",
    "    * Kaffka\n",
    "    * Redis\n",
    "    * Spark\n",
    "* technologies\n",
    "  * neural network apps\n",
    "  * execitable data structure development\n",
    "* domain\n",
    "  * small business accounting\n",
    "  * unit marketing\n",
    "* embedded\n",
    "  * Raspberry Linux\n",
    "  * IoT\n",
    "    * backend\n",
    "    * nodes\n",
    "      * Cortex-M MCU (STM32)\n",
    "  * HW design\n",
    "    * KiCAD\n",
    "    * FreeCAD\n",
    "    * FPGA"
   ]
  },
  {
   "cell_type": "code",
   "execution_count": 36,
   "metadata": {},
   "outputs": [
    {
     "data": {
      "image/svg+xml": [
       "<?xml version=\"1.0\" encoding=\"UTF-8\" standalone=\"no\"?>\n",
       "<!DOCTYPE svg PUBLIC \"-//W3C//DTD SVG 1.1//EN\"\n",
       " \"http://www.w3.org/Graphics/SVG/1.1/DTD/svg11.dtd\">\n",
       "<!-- Generated by graphviz version 2.38.0 (20140413.2041)\n",
       " -->\n",
       "<!-- Title: %3 Pages: 1 -->\n",
       "<svg width=\"525pt\" height=\"396pt\"\n",
       " viewBox=\"0.00 0.00 525.47 396.00\" xmlns=\"http://www.w3.org/2000/svg\" xmlns:xlink=\"http://www.w3.org/1999/xlink\">\n",
       "<g id=\"graph0\" class=\"graph\" transform=\"scale(1 1) rotate(0) translate(4 392)\">\n",
       "<title>%3</title>\n",
       "<polygon fill=\"white\" stroke=\"none\" points=\"-4,4 -4,-392 521.471,-392 521.471,4 -4,4\"/>\n",
       "<!-- Android -->\n",
       "<g id=\"node1\" class=\"node\"><title>Android</title>\n",
       "<polygon fill=\"lightgreen\" stroke=\"black\" points=\"219.538,-255 157.538,-255 157.538,-219 219.538,-219 219.538,-255\"/>\n",
       "<text text-anchor=\"middle\" x=\"188.538\" y=\"-233.3\" font-family=\"Times,serif\" font-size=\"14.00\">Android</text>\n",
       "</g>\n",
       "<!-- Java -->\n",
       "<g id=\"node2\" class=\"node\"><title>Java</title>\n",
       "<ellipse fill=\"yellow\" stroke=\"black\" cx=\"359.48\" cy=\"-187\" rx=\"27\" ry=\"18\"/>\n",
       "<text text-anchor=\"middle\" x=\"359.48\" y=\"-183.3\" font-family=\"Times,serif\" font-size=\"14.00\">Java</text>\n",
       "</g>\n",
       "<!-- Android&#45;&gt;Java -->\n",
       "<g id=\"edge1\" class=\"edge\"><title>Android&#45;&gt;Java</title>\n",
       "<path fill=\"none\" stroke=\"black\" d=\"M219.741,-228.061C249.245,-219.329 294.065,-206.064 324.728,-196.989\"/>\n",
       "<polygon fill=\"black\" stroke=\"black\" points=\"325.945,-200.279 334.541,-194.085 323.959,-193.567 325.945,-200.279\"/>\n",
       "<text text-anchor=\"middle\" x=\"285.383\" y=\"-217.8\" font-family=\"Times,serif\" font-size=\"14.00\">req</text>\n",
       "</g>\n",
       "<!-- Web -->\n",
       "<g id=\"node5\" class=\"node\"><title>Web</title>\n",
       "<ellipse fill=\"none\" stroke=\"black\" cx=\"359.48\" cy=\"-289\" rx=\"27.8951\" ry=\"18\"/>\n",
       "<text text-anchor=\"middle\" x=\"359.48\" y=\"-285.3\" font-family=\"Times,serif\" font-size=\"14.00\">Web</text>\n",
       "</g>\n",
       "<!-- Android&#45;&gt;Web -->\n",
       "<g id=\"edge3\" class=\"edge\"><title>Android&#45;&gt;Web</title>\n",
       "<path fill=\"none\" stroke=\"black\" d=\"M219.925,-245.397C243.581,-252.041 277.19,-261.716 306.383,-271 312.487,-272.941 318.961,-275.098 325.194,-277.225\"/>\n",
       "<polygon fill=\"black\" stroke=\"black\" points=\"324.107,-280.552 334.702,-280.507 326.391,-273.936 324.107,-280.552\"/>\n",
       "<text text-anchor=\"middle\" x=\"285.383\" y=\"-274.8\" font-family=\"Times,serif\" font-size=\"14.00\">next</text>\n",
       "</g>\n",
       "<!-- Spring -->\n",
       "<g id=\"node13\" class=\"node\"><title>Spring</title>\n",
       "<ellipse fill=\"none\" stroke=\"black\" cx=\"483.024\" cy=\"-214\" rx=\"34.394\" ry=\"18\"/>\n",
       "<text text-anchor=\"middle\" x=\"483.024\" y=\"-210.3\" font-family=\"Times,serif\" font-size=\"14.00\">Spring</text>\n",
       "</g>\n",
       "<!-- Java&#45;&gt;Spring -->\n",
       "<g id=\"edge13\" class=\"edge\"><title>Java&#45;&gt;Spring</title>\n",
       "<path fill=\"none\" stroke=\"black\" d=\"M385.369,-192.529C401.426,-196.096 422.688,-200.819 441.182,-204.927\"/>\n",
       "<polygon fill=\"black\" stroke=\"black\" points=\"440.6,-208.383 451.121,-207.135 442.118,-201.55 440.6,-208.383\"/>\n",
       "<text text-anchor=\"middle\" x=\"421.577\" y=\"-206.8\" font-family=\"Times,serif\" font-size=\"14.00\">opt</text>\n",
       "</g>\n",
       "<!-- C# -->\n",
       "<g id=\"node3\" class=\"node\"><title>C#</title>\n",
       "<ellipse fill=\"none\" stroke=\"black\" cx=\"38.3466\" cy=\"-370\" rx=\"27\" ry=\"18\"/>\n",
       "<text text-anchor=\"middle\" x=\"38.3466\" y=\"-366.3\" font-family=\"Times,serif\" font-size=\"14.00\">C#</text>\n",
       "</g>\n",
       "<!-- JS -->\n",
       "<g id=\"node4\" class=\"node\"><title>JS</title>\n",
       "<ellipse fill=\"none\" stroke=\"black\" cx=\"483.024\" cy=\"-289\" rx=\"27\" ry=\"18\"/>\n",
       "<text text-anchor=\"middle\" x=\"483.024\" y=\"-285.3\" font-family=\"Times,serif\" font-size=\"14.00\">JS</text>\n",
       "</g>\n",
       "<!-- Web&#45;&gt;JS -->\n",
       "<g id=\"edge2\" class=\"edge\"><title>Web&#45;&gt;JS</title>\n",
       "<path fill=\"none\" stroke=\"black\" d=\"M387.454,-289C404.605,-289 427.022,-289 445.726,-289\"/>\n",
       "<polygon fill=\"black\" stroke=\"black\" points=\"445.959,-292.5 455.959,-289 445.959,-285.5 445.959,-292.5\"/>\n",
       "<text text-anchor=\"middle\" x=\"421.577\" y=\"-292.8\" font-family=\"Times,serif\" font-size=\"14.00\">req</text>\n",
       "</g>\n",
       "<!-- Web&#45;&gt;Spring -->\n",
       "<g id=\"edge14\" class=\"edge\"><title>Web&#45;&gt;Spring</title>\n",
       "<path fill=\"none\" stroke=\"black\" d=\"M380.278,-276.783C399.552,-264.89 429.118,-246.646 451.42,-232.884\"/>\n",
       "<polygon fill=\"black\" stroke=\"black\" points=\"453.507,-235.709 460.179,-227.48 449.831,-229.752 453.507,-235.709\"/>\n",
       "<text text-anchor=\"middle\" x=\"421.577\" y=\"-258.8\" font-family=\"Times,serif\" font-size=\"14.00\">opt</text>\n",
       "</g>\n",
       "<!-- Apache stack -->\n",
       "<g id=\"node6\" class=\"node\"><title>Apache stack</title>\n",
       "<ellipse fill=\"none\" stroke=\"black\" cx=\"188.538\" cy=\"-120\" rx=\"57.6901\" ry=\"18\"/>\n",
       "<text text-anchor=\"middle\" x=\"188.538\" y=\"-116.3\" font-family=\"Times,serif\" font-size=\"14.00\">Apache stack</text>\n",
       "</g>\n",
       "<!-- Apache stack&#45;&gt;Java -->\n",
       "<g id=\"edge4\" class=\"edge\"><title>Apache stack&#45;&gt;Java</title>\n",
       "<path fill=\"none\" stroke=\"black\" d=\"M233.365,-131.444C255.651,-137.869 282.915,-146.672 306.383,-157 314.397,-160.527 322.753,-164.964 330.366,-169.336\"/>\n",
       "<polygon fill=\"black\" stroke=\"black\" points=\"328.823,-172.489 339.212,-174.57 332.389,-166.465 328.823,-172.489\"/>\n",
       "<text text-anchor=\"middle\" x=\"285.383\" y=\"-160.8\" font-family=\"Times,serif\" font-size=\"14.00\">req</text>\n",
       "</g>\n",
       "<!-- Kaffka -->\n",
       "<g id=\"node7\" class=\"node\"><title>Kaffka</title>\n",
       "<ellipse fill=\"none\" stroke=\"black\" cx=\"359.48\" cy=\"-126\" rx=\"35.194\" ry=\"18\"/>\n",
       "<text text-anchor=\"middle\" x=\"359.48\" y=\"-122.3\" font-family=\"Times,serif\" font-size=\"14.00\">Kaffka</text>\n",
       "</g>\n",
       "<!-- Apache stack&#45;&gt;Kaffka -->\n",
       "<g id=\"edge5\" class=\"edge\"><title>Apache stack&#45;&gt;Kaffka</title>\n",
       "<path fill=\"none\" stroke=\"black\" d=\"M246.048,-117.802C265.219,-117.512 286.749,-117.687 306.383,-119 309.426,-119.204 312.563,-119.473 315.716,-119.788\"/>\n",
       "<polygon fill=\"black\" stroke=\"black\" points=\"315.424,-123.278 325.754,-120.924 316.211,-116.322 315.424,-123.278\"/>\n",
       "<text text-anchor=\"middle\" x=\"285.383\" y=\"-122.8\" font-family=\"Times,serif\" font-size=\"14.00\">provide</text>\n",
       "</g>\n",
       "<!-- Spark -->\n",
       "<g id=\"node8\" class=\"node\"><title>Spark</title>\n",
       "<ellipse fill=\"none\" stroke=\"black\" cx=\"359.48\" cy=\"-72\" rx=\"31.3957\" ry=\"18\"/>\n",
       "<text text-anchor=\"middle\" x=\"359.48\" y=\"-68.3\" font-family=\"Times,serif\" font-size=\"14.00\">Spark</text>\n",
       "</g>\n",
       "<!-- Apache stack&#45;&gt;Spark -->\n",
       "<g id=\"edge6\" class=\"edge\"><title>Apache stack&#45;&gt;Spark</title>\n",
       "<path fill=\"none\" stroke=\"black\" d=\"M231.733,-108.011C259.292,-100.181 294.939,-90.0534 321.406,-82.5334\"/>\n",
       "<polygon fill=\"black\" stroke=\"black\" points=\"322.402,-85.889 331.065,-79.7892 320.489,-79.1555 322.402,-85.889\"/>\n",
       "<text text-anchor=\"middle\" x=\"285.383\" y=\"-101.8\" font-family=\"Times,serif\" font-size=\"14.00\">provide</text>\n",
       "</g>\n",
       "<!-- Redis -->\n",
       "<g id=\"node9\" class=\"node\"><title>Redis</title>\n",
       "<ellipse fill=\"none\" stroke=\"black\" cx=\"359.48\" cy=\"-18\" rx=\"30.5947\" ry=\"18\"/>\n",
       "<text text-anchor=\"middle\" x=\"359.48\" y=\"-14.3\" font-family=\"Times,serif\" font-size=\"14.00\">Redis</text>\n",
       "</g>\n",
       "<!-- Apache stack&#45;&gt;Redis -->\n",
       "<g id=\"edge7\" class=\"edge\"><title>Apache stack&#45;&gt;Redis</title>\n",
       "<path fill=\"none\" stroke=\"black\" d=\"M225.686,-106.073C232.933,-102.413 240.208,-98.0482 246.383,-93 256.705,-84.5606 254.289,-77.7112 264.383,-69 282.194,-53.6297 305.403,-40.9882 324.314,-32.1359\"/>\n",
       "<polygon fill=\"black\" stroke=\"black\" points=\"325.822,-35.2954 333.485,-27.9788 322.932,-28.9198 325.822,-35.2954\"/>\n",
       "<text text-anchor=\"middle\" x=\"285.383\" y=\"-72.8\" font-family=\"Times,serif\" font-size=\"14.00\">provide</text>\n",
       "</g>\n",
       "<!-- IoT -->\n",
       "<g id=\"node10\" class=\"node\"><title>IoT</title>\n",
       "<ellipse fill=\"none\" stroke=\"black\" cx=\"38.3466\" cy=\"-167\" rx=\"27\" ry=\"18\"/>\n",
       "<text text-anchor=\"middle\" x=\"38.3466\" y=\"-163.3\" font-family=\"Times,serif\" font-size=\"14.00\">IoT</text>\n",
       "</g>\n",
       "<!-- IoT&#45;&gt;Android -->\n",
       "<g id=\"edge10\" class=\"edge\"><title>IoT&#45;&gt;Android</title>\n",
       "<path fill=\"none\" stroke=\"black\" d=\"M58.3947,-179.377C68.8794,-185.927 82.2535,-193.861 94.6932,-200 111.733,-208.409 131.183,-216.394 147.865,-222.78\"/>\n",
       "<polygon fill=\"black\" stroke=\"black\" points=\"146.735,-226.094 157.327,-226.345 149.203,-219.544 146.735,-226.094\"/>\n",
       "<text text-anchor=\"middle\" x=\"103.693\" y=\"-212.8\" font-family=\"Times,serif\" font-size=\"14.00\">req</text>\n",
       "</g>\n",
       "<!-- IoT&#45;&gt;Java -->\n",
       "<g id=\"edge9\" class=\"edge\"><title>IoT&#45;&gt;Java</title>\n",
       "<path fill=\"none\" stroke=\"black\" d=\"M65.4626,-168.637C122.291,-172.198 257.271,-180.657 322.271,-184.731\"/>\n",
       "<polygon fill=\"black\" stroke=\"black\" points=\"322.251,-188.236 332.451,-185.369 322.689,-181.25 322.251,-188.236\"/>\n",
       "<text text-anchor=\"middle\" x=\"188.538\" y=\"-183.8\" font-family=\"Times,serif\" font-size=\"14.00\">req</text>\n",
       "</g>\n",
       "<!-- IoT&#45;&gt;Apache stack -->\n",
       "<g id=\"edge8\" class=\"edge\"><title>IoT&#45;&gt;Apache stack</title>\n",
       "<path fill=\"none\" stroke=\"black\" d=\"M63.1561,-159.449C83.1636,-153.103 112.433,-143.82 137.553,-135.853\"/>\n",
       "<polygon fill=\"black\" stroke=\"black\" points=\"138.832,-139.12 147.306,-132.76 136.715,-132.447 138.832,-139.12\"/>\n",
       "<text text-anchor=\"middle\" x=\"103.693\" y=\"-153.8\" font-family=\"Times,serif\" font-size=\"14.00\">req</text>\n",
       "</g>\n",
       "<!-- Cortex&#45;M -->\n",
       "<g id=\"node11\" class=\"node\"><title>Cortex&#45;M</title>\n",
       "<ellipse fill=\"none\" stroke=\"black\" cx=\"188.538\" cy=\"-66\" rx=\"46.2923\" ry=\"18\"/>\n",
       "<text text-anchor=\"middle\" x=\"188.538\" y=\"-62.3\" font-family=\"Times,serif\" font-size=\"14.00\">Cortex&#45;M</text>\n",
       "</g>\n",
       "<!-- IoT&#45;&gt;Cortex&#45;M -->\n",
       "<g id=\"edge11\" class=\"edge\"><title>IoT&#45;&gt;Cortex&#45;M</title>\n",
       "<path fill=\"none\" stroke=\"black\" d=\"M54.9667,-152.4C72.4888,-136.502 102.2,-110.949 130.693,-93 135.845,-89.7544 141.449,-86.6422 147.062,-83.7592\"/>\n",
       "<polygon fill=\"black\" stroke=\"black\" points=\"149.016,-86.6983 156.441,-79.1407 145.924,-80.4184 149.016,-86.6983\"/>\n",
       "<text text-anchor=\"middle\" x=\"103.693\" y=\"-121.8\" font-family=\"Times,serif\" font-size=\"14.00\">opt</text>\n",
       "</g>\n",
       "<!-- STM32 -->\n",
       "<g id=\"node12\" class=\"node\"><title>STM32</title>\n",
       "<ellipse fill=\"none\" stroke=\"black\" cx=\"38.3466\" cy=\"-66\" rx=\"38.1938\" ry=\"18\"/>\n",
       "<text text-anchor=\"middle\" x=\"38.3466\" y=\"-62.3\" font-family=\"Times,serif\" font-size=\"14.00\">STM32</text>\n",
       "</g>\n",
       "<!-- STM32&#45;&gt;Cortex&#45;M -->\n",
       "<g id=\"edge12\" class=\"edge\"><title>STM32&#45;&gt;Cortex&#45;M</title>\n",
       "<path fill=\"none\" stroke=\"black\" d=\"M76.7416,-66C93.5258,-66 113.671,-66 132.155,-66\"/>\n",
       "<polygon fill=\"black\" stroke=\"black\" points=\"132.22,-69.5001 142.22,-66 132.22,-62.5001 132.22,-69.5001\"/>\n",
       "<text text-anchor=\"middle\" x=\"103.693\" y=\"-69.8\" font-family=\"Times,serif\" font-size=\"14.00\">isa</text>\n",
       "</g>\n",
       "<!-- Pyhon -->\n",
       "<g id=\"node14\" class=\"node\"><title>Pyhon</title>\n",
       "<ellipse fill=\"none\" stroke=\"black\" cx=\"38.3466\" cy=\"-316\" rx=\"33.2948\" ry=\"18\"/>\n",
       "<text text-anchor=\"middle\" x=\"38.3466\" y=\"-312.3\" font-family=\"Times,serif\" font-size=\"14.00\">Pyhon</text>\n",
       "</g>\n",
       "<!-- Flask -->\n",
       "<g id=\"node15\" class=\"node\"><title>Flask</title>\n",
       "<ellipse fill=\"none\" stroke=\"black\" cx=\"188.538\" cy=\"-347\" rx=\"29.795\" ry=\"18\"/>\n",
       "<text text-anchor=\"middle\" x=\"188.538\" y=\"-343.3\" font-family=\"Times,serif\" font-size=\"14.00\">Flask</text>\n",
       "</g>\n",
       "<!-- Pyhon&#45;&gt;Flask -->\n",
       "<g id=\"edge15\" class=\"edge\"><title>Pyhon&#45;&gt;Flask</title>\n",
       "<path fill=\"none\" stroke=\"black\" d=\"M69.6929,-322.348C92.9134,-327.206 125.065,-333.931 149.92,-339.131\"/>\n",
       "<polygon fill=\"black\" stroke=\"black\" points=\"149.23,-342.562 159.735,-341.184 150.664,-335.71 149.23,-342.562\"/>\n",
       "<text text-anchor=\"middle\" x=\"103.693\" y=\"-334.8\" font-family=\"Times,serif\" font-size=\"14.00\">opt</text>\n",
       "</g>\n",
       "<!-- Django -->\n",
       "<g id=\"node16\" class=\"node\"><title>Django</title>\n",
       "<ellipse fill=\"none\" stroke=\"black\" cx=\"188.538\" cy=\"-293\" rx=\"36.2938\" ry=\"18\"/>\n",
       "<text text-anchor=\"middle\" x=\"188.538\" y=\"-289.3\" font-family=\"Times,serif\" font-size=\"14.00\">Django</text>\n",
       "</g>\n",
       "<!-- Pyhon&#45;&gt;Django -->\n",
       "<g id=\"edge17\" class=\"edge\"><title>Pyhon&#45;&gt;Django</title>\n",
       "<path fill=\"none\" stroke=\"black\" d=\"M70.0486,-310.229C78.0597,-308.785 86.6909,-307.283 94.6932,-306 110.362,-303.488 127.564,-301.004 142.857,-298.891\"/>\n",
       "<polygon fill=\"black\" stroke=\"black\" points=\"143.664,-302.313 153.098,-297.491 142.716,-295.378 143.664,-302.313\"/>\n",
       "<text text-anchor=\"middle\" x=\"103.693\" y=\"-309.8\" font-family=\"Times,serif\" font-size=\"14.00\">opt</text>\n",
       "</g>\n",
       "<!-- Flask&#45;&gt;Web -->\n",
       "<g id=\"edge16\" class=\"edge\"><title>Flask&#45;&gt;Web</title>\n",
       "<path fill=\"none\" stroke=\"black\" d=\"M215.718,-339.336C239.525,-332.219 275.544,-321.08 306.383,-310 312.919,-307.652 319.85,-304.985 326.451,-302.358\"/>\n",
       "<polygon fill=\"black\" stroke=\"black\" points=\"327.841,-305.572 335.801,-298.581 325.218,-299.081 327.841,-305.572\"/>\n",
       "<text text-anchor=\"middle\" x=\"285.383\" y=\"-327.8\" font-family=\"Times,serif\" font-size=\"14.00\">provide</text>\n",
       "</g>\n",
       "<!-- Django&#45;&gt;Web -->\n",
       "<g id=\"edge18\" class=\"edge\"><title>Django&#45;&gt;Web</title>\n",
       "<path fill=\"none\" stroke=\"black\" d=\"M224.954,-292.161C253.219,-291.492 292.698,-290.558 321.393,-289.878\"/>\n",
       "<polygon fill=\"black\" stroke=\"black\" points=\"321.522,-293.376 331.436,-289.64 321.356,-286.378 321.522,-293.376\"/>\n",
       "<text text-anchor=\"middle\" x=\"285.383\" y=\"-294.8\" font-family=\"Times,serif\" font-size=\"14.00\">provide</text>\n",
       "</g>\n",
       "</g>\n",
       "</svg>\n"
      ],
      "text/plain": [
       "<graphviz.dot.Digraph at 0x7f0390082b38>"
      ]
     },
     "execution_count": 36,
     "metadata": {},
     "output_type": "execute_result"
    }
   ],
   "source": [
    "from graphviz import *\n",
    "work = Digraph() ; work.attr(rankdir='LR')\n",
    "android = work.node('Android',shape='box',fillcolor='lightgreen',style='filled')\n",
    "java = work.node('Java',fillcolor='yellow',style='filled')\n",
    "work.edge('Android','Java',label='req')\n",
    "cs = work.node('C#')\n",
    "js = work.node('JS') ; web = work.node('Web') ; work.edge('Web','JS',label='req')\n",
    "work.edge('Android','Web',label='next')\n",
    "work.edge('Apache stack','Java',label='req')\n",
    "work.edge('Apache stack','Kaffka',label='provide')\n",
    "work.edge('Apache stack','Spark',label='provide')\n",
    "work.edge('Apache stack','Redis',label='provide')\n",
    "work.edge('IoT','Apache stack',label='req')\n",
    "work.edge('IoT','Java',label='req')\n",
    "work.edge('IoT','Android',label='req')\n",
    "work.edge('IoT','Cortex-M',label='opt') ; work.edge('STM32','Cortex-M',label='isa')\n",
    "work.edge('Java','Spring',label='opt')\n",
    "work.edge('Web','Spring',label='opt')\n",
    "work.edge('Pyhon','Flask',label='opt') ; work.edge('Flask','Web',label='provide')\n",
    "work.edge('Pyhon','Django',label='opt') ; work.edge('Django','Web',label='provide')\n",
    "work"
   ]
  },
  {
   "cell_type": "markdown",
   "metadata": {},
   "source": [
    "#### C# stays on the ass-side of moon"
   ]
  },
  {
   "cell_type": "markdown",
   "metadata": {},
   "source": [
    "It looks like C# is not needed, saying more precisely -- C# is required only for legacy systems to be integrated with modern software infrastructure.\n",
    "\n",
    "If we think about legacy raking, we still need to know it very deep with all frameworks included, just to be ready to adapt and reborn software written by ancients."
   ]
  },
  {
   "cell_type": "code",
   "execution_count": null,
   "metadata": {},
   "outputs": [],
   "source": []
  },
  {
   "cell_type": "code",
   "execution_count": null,
   "metadata": {},
   "outputs": [],
   "source": []
  },
  {
   "cell_type": "markdown",
   "metadata": {},
   "source": [
    "### Android first"
   ]
  },
  {
   "cell_type": "markdown",
   "metadata": {},
   "source": [
    "**Android is the first-stage platform for the newbie freelancer** as it provides:\n",
    "* live money is sent you directly on every install\n",
    "* widest user audience -- almost anybody has a mobile phone in a pocket, and **your phone is always with you**\n",
    "* **Java** as a **req**uired technology\n"
   ]
  },
  {
   "cell_type": "markdown",
   "metadata": {},
   "source": [
    "# WASM interpreter machine in Python"
   ]
  },
  {
   "cell_type": "markdown",
   "metadata": {},
   "source": [
    "#### (c) David Beazley"
   ]
  },
  {
   "cell_type": "markdown",
   "metadata": {},
   "source": [
    "https://www.youtube.com/watch?v=r-A78RgMhZU"
   ]
  },
  {
   "cell_type": "markdown",
   "metadata": {},
   "source": [
    "# **11:11** gym for programmers"
   ]
  },
  {
   "cell_type": "markdown",
   "metadata": {},
   "source": [
    "https://www.youtube.com/watch?v=2mtjzAj34ZA\n",
    "    \n",
    "You show a gym room through all the video. Do you know some statical & calisthenics complex adapted for programmer what you can do in an office right near the table? I'm moving to hardcore freelance so having a regular short pauses is critical for eye and spine savings.\n",
    "\n",
    "I'm experimenting with doing a single very short and simple exercise with **11:11**min interval over all day. Looks comfortable --- it does not break my thinking flow, and my eyes do not leak at the end of the day. What I want now is extending my set with more exercise types doesn't require anything: no space, no weights, only the gravity and kickass timer on the fridge.\n",
    "\n",
    "**11:11** is the interval I feel optimal: it is not too long leaving my muscles warm, and it can't be shorter as the main work must be done. (a single short exercise per period not longer than one minute)"
   ]
  },
  {
   "cell_type": "markdown",
   "metadata": {},
   "source": [
    "* https://www.facebook.com/1111tdx/videos/1018346341636965/?v=1018346341636965"
   ]
  },
  {
   "cell_type": "markdown",
   "metadata": {},
   "source": [
    "# Android model"
   ]
  },
  {
   "cell_type": "markdown",
   "metadata": {},
   "source": [
    "* Manifest `http://localhost:8889/notebooks/bloc.ipynb`\n",
    "* Activity `./app/src/main/java/io/github/ponyatov/alog/MainActivity.java`\n",
    "  * Fragment\n",
    "* Layout `./app/src/main/res/layout/activity_main.xml`\n",
    "* Icon (set) `./app/src/main/res/mipmap-*dpi/ic_launcher[_round].png`"
   ]
  }
 ],
 "metadata": {
  "kernelspec": {
   "display_name": "Python 3",
   "language": "python",
   "name": "python3"
  },
  "language_info": {
   "codemirror_mode": {
    "name": "ipython",
    "version": 3
   },
   "file_extension": ".py",
   "mimetype": "text/x-python",
   "name": "python",
   "nbconvert_exporter": "python",
   "pygments_lexer": "ipython3",
   "version": "3.5.3"
  }
 },
 "nbformat": 4,
 "nbformat_minor": 2
}
