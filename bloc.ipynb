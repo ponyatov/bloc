{
 "cells": [
  {
   "cell_type": "markdown",
   "metadata": {},
   "source": [
    "# bloc"
   ]
  },
  {
   "cell_type": "markdown",
   "metadata": {},
   "source": [
    "## concept programming notepad"
   ]
  },
  {
   "cell_type": "markdown",
   "metadata": {},
   "source": [
    "Concept programming here does not mean the term by Alexsandr Stepanov here: https://en.wikipedia.org/wiki/Concept_(generic_programming)"
   ]
  },
  {
   "cell_type": "markdown",
   "metadata": {},
   "source": [
    "CP is a programming model described in the works of Enn Heraldovich Tyugu about model-based software development. The common idea is about making domain models described the problem in a wide in form of relation networks, and automatic program code synthesis from specifications, which works over these networks to solve concrete tasks.\n",
    "\n",
    "* http://www.cs.ioc.ee/~tyugu/\n",
    "* [Концептуальное программирование](https://ru.wikipedia.org/wiki/%D0%9A%D0%BE%D0%BD%D1%86%D0%B5%D0%BF%D1%82%D1%83%D0%B0%D0%BB%D1%8C%D0%BD%D0%BE%D0%B5_%D0%BF%D1%80%D0%BE%D0%B3%D1%80%D0%B0%D0%BC%D0%BC%D0%B8%D1%80%D0%BE%D0%B2%D0%B0%D0%BD%D0%B8%D0%B5)\n"
   ]
  },
  {
   "cell_type": "markdown",
   "metadata": {},
   "source": [
    "* J. Symbolic Computation (1988) 5, 359-375\\\n",
    "**The Programming System PRIZ**\\\n",
    "G.Mints, E.Tyugu,\\\n",
    "Institute of Cybernetics, Estonian Academy of Sciences,Tallinn\n",
    "200108, USSR\\\n",
    "[pdf](https://www.academia.edu/18315153/The_programming_system_PRIZ?auto=download)\n",
    "* Э.Х. Тыугу **Концептуальное программирование**. М.: Наука, 1984. 255 с"
   ]
  },
  {
   "cell_type": "markdown",
   "metadata": {},
   "source": [
    "```\n",
    "TO: tyugu@ieee.org\n",
    "```\n",
    "\n",
    "> I'm interested in experimenting with mixing your CP approach and Marvin Minsky frame model for commercial, \n",
    "> mobile, and embedded software & hardware (IoT) systems development. The site has a lot of materials and links on \n",
    "> the theme, but I'd like to track discussions of people involved in current works on concept programming.\n"
   ]
  },
  {
   "cell_type": "markdown",
   "metadata": {},
   "source": [
    "In this working bloc (as [c]oding [blo]g) you can find a lot of concrete applications of CP methodology interleaved with huge amount of thinking about all projects I worked on from the end of 2019 as a freelancer and **legacy raker** (*)."
   ]
  },
  {
   "cell_type": "markdown",
   "metadata": {},
   "source": [
    "### legacy \\[code\\]raker"
   ]
  },
  {
   "cell_type": "markdown",
   "metadata": {},
   "source": [
    "I introduce the new programming-related profession: the **legacy \\[code\\]raker**: a specially dedicated specialist which has a target of old software projects reborning and support."
   ]
  },
  {
   "cell_type": "markdown",
   "metadata": {},
   "source": [
    "## metaL: \\[meta\\]programming \\[L\\]anguage and Marvin Minsky frame model"
   ]
  },
  {
   "cell_type": "markdown",
   "metadata": {},
   "source": [
    "The core of my CP system is a homoiconic model uses directed graphs of objects as both program and data representation. The idea was inherited from Marvin Minsky's book: Frames for data representation, which I extended with the ability to store not only slots (attributes) but also hold any frames in an ordered container."
   ]
  },
  {
   "cell_type": "code",
   "execution_count": 33,
   "metadata": {},
   "outputs": [
    {
     "name": "stdout",
     "output_type": "stream",
     "text": [
      "Overwriting metaL.py\n"
     ]
    }
   ],
   "source": [
    "%%writefile metaL.py\n",
    "\n",
    "import os,sys\n",
    "from graphviz import Digraph"
   ]
  },
  {
   "cell_type": "code",
   "execution_count": 34,
   "metadata": {},
   "outputs": [
    {
     "name": "stdout",
     "output_type": "stream",
     "text": [
      "Appending to metaL.py\n"
     ]
    }
   ],
   "source": [
    "%%writefile -a metaL.py\n",
    "\n",
    "class Frame:\n",
    "    def __init__(self,V):\n",
    "        # type/class tag\n",
    "        # this field is required for literal parsing by PLY library \n",
    "        self.type = self.__class__.__name__.lower()\n",
    "        # scalar data value in implementation language type\n",
    "        # mostly names the frame, but also can store things like numbers and strings\n",
    "        self.val  = V\n",
    "        # slots = attributes = string-keyed associative array\n",
    "        self.slot = {}\n",
    "        # ordered storage = AST nested elemens = vector = stack = queue\n",
    "        self.nest = []"
   ]
  },
  {
   "cell_type": "markdown",
   "metadata": {},
   "source": [
    "The presence of an ordered collection is definitively required for representing any program source code, as this is very close to classical attribute grammar -- attributed trees and graphs. The object graph (frame) representation of a program as a primary form is much more effective and native for any work involved with source code transformations: synthesis, modifications, analysis, cross-language translation, etc."
   ]
  },
  {
   "cell_type": "markdown",
   "metadata": {},
   "source": [
    "Factically, we don't need any text programming languages at all, as these objects graphs I call **Executable Data Structure** can \n",
    "* hold any program statically (on storage), \n",
    "* can be executed by a **model EDS-interpreter**, \n",
    "* translated into any mainstream languages, and \n",
    "* \\[cross-\\]compiled into machine code."
   ]
  },
  {
   "cell_type": "code",
   "execution_count": 35,
   "metadata": {},
   "outputs": [
    {
     "name": "stdout",
     "output_type": "stream",
     "text": [
      "Appending to metaL.py\n"
     ]
    }
   ],
   "source": [
    "%%writefile -a metaL.py\n",
    "\n",
    "# class Frame:\n",
    "\n",
    "    # dump and plot\n",
    "    \n",
    "    # callback for print\n",
    "    def __repr__(self):\n",
    "        return self.dump()\n",
    "    # full tree-form dump\n",
    "    def dump(self,depth=0,prefix='',voc=True,stack=True,test=False):\n",
    "        # subtree header\n",
    "        tree = self._pad(depth) + self.head(prefix=prefix,test=test)\n",
    "        # infty recursion block\n",
    "        if not depth: Frame._dumped = []\n",
    "        if self in Frame._dumped: return tree + ' _/'\n",
    "        else: Frame._dumped.append(self)\n",
    "        # slots\n",
    "        if voc:\n",
    "            for i in self.slot:\n",
    "                tree += self.slot[i].dump(depth+1,prefix='%s = '%i,test=test)\n",
    "        # nested as subtrees\n",
    "        if stack:\n",
    "            for j in self.nest:\n",
    "                tree += j.dump(depth+1,test=test)\n",
    "        # resulting subtree\n",
    "        return tree\n",
    "    # short-form dump: <T:V> header only\n",
    "    def head(self,prefix='',test=False):\n",
    "        header = '%s<%s:%s>' % (prefix,self.type,self._val())\n",
    "        if not test: header += ' @%x' % id(self)\n",
    "        return header\n",
    "    # pad tree with tabs with given depth\n",
    "    def _pad(self,depth):\n",
    "        return '\\n' + '\\t' * depth\n",
    "    # .val can be non-string and must be overloaded in some frame classes\n",
    "    def _val(self):\n",
    "        return '%s' % self.val"
   ]
  },
  {
   "cell_type": "code",
   "execution_count": 36,
   "metadata": {},
   "outputs": [
    {
     "name": "stdout",
     "output_type": "stream",
     "text": [
      "Appending to metaL.py\n"
     ]
    }
   ],
   "source": [
    "%%writefile -a metaL.py\n",
    "\n",
    "# class Frame:\n",
    "\n",
    "    # operators\n",
    "    \n",
    "    # A[key]\n",
    "    def __getitem__(self,key):\n",
    "        return self.slot[key]\n",
    "    # A[key] = B\n",
    "    def __setitem__(self,key,that):\n",
    "        self.slot[key] = that ; return self\n",
    "    # A << B --> A[B.val] = B\n",
    "    def __lshift__(self,that):\n",
    "        self[that.val] = that ; return self\n",
    "    # A // B\n",
    "    def __floordiv__(self,that):\n",
    "        self.nest.append(that) ; return self\n"
   ]
  },
  {
   "cell_type": "markdown",
   "metadata": {},
   "source": [
    "## pytest"
   ]
  },
  {
   "cell_type": "markdown",
   "metadata": {},
   "source": [
    "I prefer to use `pytest` unit testing framework: it is simple and light."
   ]
  },
  {
   "cell_type": "markdown",
   "metadata": {},
   "source": [
    "* https://www.guru99.com/pytest-tutorial.html\n",
    "* (ru) https://medium.com/@dmrlx/%D0%B2%D0%B2%D0%B5%D0%B4%D0%B5%D0%BD%D0%B8%D0%B5-%D0%B2-pytest-cc6175c7d0dc"
   ]
  },
  {
   "cell_type": "code",
   "execution_count": 37,
   "metadata": {},
   "outputs": [
    {
     "name": "stdout",
     "output_type": "stream",
     "text": [
      "Appending to metaL.py\n"
     ]
    }
   ],
   "source": [
    "%%writefile -a metaL.py\n",
    "\n",
    "# class Frame:\n",
    "\n",
    "    # method returns simplified tree dump for py.tests\n",
    "    def test(self):\n",
    "        return self.dump(test=True)"
   ]
  },
  {
   "cell_type": "markdown",
   "metadata": {},
   "source": [
    "This method provides simplified dump to compare it with constant string in tests."
   ]
  },
  {
   "cell_type": "code",
   "execution_count": 38,
   "metadata": {},
   "outputs": [],
   "source": [
    "from metaL import *"
   ]
  },
  {
   "cell_type": "code",
   "execution_count": 39,
   "metadata": {},
   "outputs": [
    {
     "name": "stdout",
     "output_type": "stream",
     "text": [
      "\n",
      "<frame:Hello> @7f32d0da1be0\n",
      "\tslot = <frame:slot> @7f32d1605160\n",
      "\t<frame:World> @7f32d0da1c18\n"
     ]
    }
   ],
   "source": [
    "# demo / tests for core Frame\n",
    "\n",
    "print( Frame('Hello') // Frame('World') << Frame('slot') )"
   ]
  },
  {
   "cell_type": "markdown",
   "metadata": {},
   "source": [
    "It is not good to use the sample code as above to show how some software library works. The widely adopted method, which is required to write any production software is testing. Tests also show every feature of a library, how to use it, how not to use it, what preparations must be done, and what input formats are needed."
   ]
  },
  {
   "cell_type": "code",
   "execution_count": 45,
   "metadata": {},
   "outputs": [
    {
     "name": "stdout",
     "output_type": "stream",
     "text": [
      "Overwriting test_metaL.py\n"
     ]
    }
   ],
   "source": [
    "%%writefile test_metaL.py\n",
    "\n",
    "import pytest\n",
    "\n",
    "from metaL import *\n",
    "\n",
    "def test_hello():\n",
    "    assert (\n",
    "        Frame('Hello') // Frame('World') << Frame('slot') ).test() == \\\n",
    "        '\\n<frame:Hello>\\n\\tslot = <frame:slot>\\n\\t<frame:World>'\n"
   ]
  },
  {
   "cell_type": "code",
   "execution_count": 46,
   "metadata": {},
   "outputs": [
    {
     "name": "stdout",
     "output_type": "stream",
     "text": [
      "\u001b[1m============================= test session starts ==============================\u001b[0m\n",
      "platform linux -- Python 3.5.3, pytest-5.2.1, py-1.8.0, pluggy-0.13.0 -- /home/dpon/bloc/bin/python3\n",
      "cachedir: .pytest_cache\n",
      "rootdir: /home/dpon/bloc\n",
      "collected 1 item                                                               \u001b[0m\n",
      "\n",
      "test_metaL.py::test_hello \u001b[32mPASSED\u001b[0m\u001b[36m                                         [100%]\u001b[0m\n",
      "\n",
      "\u001b[32m\u001b[1m============================== 1 passed in 0.10s ===============================\u001b[0m\n"
     ]
    }
   ],
   "source": [
    "!py.test -v test_metaL.py"
   ]
  },
  {
   "cell_type": "markdown",
   "metadata": {},
   "source": [
    "## Why Python? What about the technology stack"
   ]
  },
  {
   "cell_type": "markdown",
   "metadata": {},
   "source": [
    "### Python"
   ]
  },
  {
   "cell_type": "markdown",
   "metadata": {},
   "source": [
    "Python is **great for prototyping** software systems:\n",
    "\n",
    "* easy to learn and use programming language, \n",
    "* available on many systems including embedded (https://micropython.org/), \n",
    "* has a huge amount of ready to use libraries (batteries included).\n",
    "* does not need complex installations (`python3 -m venv .` is not complex)\n",
    "* very light in run from scratch (no JVM heat up)"
   ]
  },
  {
   "cell_type": "markdown",
   "metadata": {},
   "source": [
    "### Nim"
   ]
  },
  {
   "cell_type": "markdown",
   "metadata": {},
   "source": [
    "* https://nim-lang.org/\n",
    "* https://forum.nim-lang.org/"
   ]
  },
  {
   "cell_type": "markdown",
   "metadata": {},
   "source": [
    "Nim got a first 1.0 release less then month ago, so it is not good for enterpreise programming.\n",
    "* https://forum.nim-lang.org/t/5347\n",
    "\n",
    "But I'm going to use it especially for this role:\n",
    "* there is no any heavy runtime (JVM/CLR, huge gigabytes of standard libraries)\n",
    "* extra portable (Win/Mac/Linux, Android NDK, MIPS/ARM embedded)\n",
    "* very fast compiling\n",
    "* tight integration with C/C++ -- it uses C compiler as a backend, and **tranlate**s .nim for .c\n",
    "  * there are no any problems to fastly write C interfacing code to use any C(++) libraries"
   ]
  },
  {
   "cell_type": "markdown",
   "metadata": {},
   "source": [
    "It looks for me as a technology very interesting for the small business market, where there are no resources to rent or invest in hardware and expensive software for huge processing with Java hell etc. I don't speak about the full replacement of Java (yet?), but the ability to work both standalone and in symbiosis with existing systems.\n",
    "\n",
    "What features of Nim look target-yummy:\n",
    "\n",
    "* **portability**: software already able to work on any meaningful hardware platforms\n",
    "* compactness and **extra low resource requirements**: there is no any xVM and giant runtime required even to run the HelloWorld, you can run a simple accounting system which will eat a few megabytes of RAM only\n",
    "* **metaprogramming**: there is a huge amount of repeating code and design patterns in business software, meta is able to simplify and automate some repeating snippets\n",
    "\n",
    "PS: Maybe someone can advise me on some good manuals and tutorials on enterprise development patterns and business software architecture?"
   ]
  },
  {
   "cell_type": "markdown",
   "metadata": {},
   "source": [
    "#### What is the future of the Nim programming language now?"
   ]
  },
  {
   "cell_type": "markdown",
   "metadata": {},
   "source": [
    "https://www.quora.com/What-is-the-future-of-the-Nim-programming-language-now/answer/Dmitry-Ponyatov\n",
    "\n",
    "Nim looks very attractive for Python programmers who want to push their software system prototypes into production. Python not so good for use as a platform for high-load applications, and does not have any good use on mobile devices (Android etc) as it is too slow, too resource-hungry, and has a lot of problems with system-level integration.\n",
    "\n",
    "While Nim has semantics close to Python, it is portable for a lot of platforms, has no notable resource consumptions for runtime, and has tight and easy integration with any C(++) frameworks, libraries, and system API.\n",
    "\n",
    "**Nim is not mature now, but** bundled with a Python as a production-stage platform **it has a very good perspective to kickass even the Java in part of enterprise applications** (small business solutions where *consumers have no enough money to own high-price JRE infrastructure*)."
   ]
  },
  {
   "cell_type": "markdown",
   "metadata": {},
   "source": [
    "### Java / C# / Delphi / C++ legacy code rake and integration"
   ]
  },
  {
   "cell_type": "markdown",
   "metadata": {},
   "source": [
    "Suddenly, there is no way to avoid mainstream languages and their framework/library stacks. There is a huge amount of working code deployed anywhere and runs dozens of years in production (so we got the new IT profession -- coderaker (c). There are areas where we can't use any other stack then already installed: finance, banking, security, medical systems and embedded (ANSI C only, especially MISRA-certified critical applications, and conservator-ill persuasions)."
   ]
  },
  {
   "cell_type": "markdown",
   "metadata": {},
   "source": [
    "You must know and use all of them, especially if you want to earn money or want to professionally dive into legacy software reborning. Any system you use, as we speak about *concept programming*, must be language-agnostic. As **you write CP system port yourself** making it the way **you need**, it works the same *until we stay at the imperative programming paradigm*. Oops, note that *CP is declarative programming in a big part* -- you define your programming (and hardware design) knowledge database, which holds concepts defined in a declarative way."
   ]
  },
  {
   "cell_type": "markdown",
   "metadata": {},
   "source": [
    "### Concept programming is a layer of cross-translation"
   ]
  },
  {
   "cell_type": "markdown",
   "metadata": {},
   "source": [
    "When you go into contract development, your CP system must provide cross-language and cross-system translation of a legacy system logic."
   ]
  },
  {
   "cell_type": "code",
   "execution_count": 42,
   "metadata": {},
   "outputs": [
    {
     "data": {
      "image/svg+xml": [
       "<?xml version=\"1.0\" encoding=\"UTF-8\" standalone=\"no\"?>\n",
       "<!DOCTYPE svg PUBLIC \"-//W3C//DTD SVG 1.1//EN\"\n",
       " \"http://www.w3.org/Graphics/SVG/1.1/DTD/svg11.dtd\">\n",
       "<!-- Generated by graphviz version 2.38.0 (20140413.2041)\n",
       " -->\n",
       "<!-- Title: %3 Pages: 1 -->\n",
       "<svg width=\"720pt\" height=\"125pt\"\n",
       " viewBox=\"0.00 0.00 720.00 125.46\" xmlns=\"http://www.w3.org/2000/svg\" xmlns:xlink=\"http://www.w3.org/1999/xlink\">\n",
       "<g id=\"graph0\" class=\"graph\" transform=\"scale(0.746814 0.746814) rotate(0) translate(4 164)\">\n",
       "<title>%3</title>\n",
       "<polygon fill=\"white\" stroke=\"none\" points=\"-4,4 -4,-164 960.095,-164 960.095,4 -4,4\"/>\n",
       "<g id=\"clust1\" class=\"cluster\"><title>cluster_0</title>\n",
       "<polygon fill=\"none\" stroke=\"black\" points=\"8,-8 8,-114 160.488,-114 160.488,-8 8,-8\"/>\n",
       "</g>\n",
       "<!-- l -->\n",
       "<g id=\"node1\" class=\"node\"><title>l</title>\n",
       "<ellipse fill=\"none\" stroke=\"black\" cx=\"84.2439\" cy=\"-88\" rx=\"33.5952\" ry=\"18\"/>\n",
       "<text text-anchor=\"middle\" x=\"84.2439\" y=\"-84.3\" font-family=\"Times,serif\" font-size=\"14.00\">legacy</text>\n",
       "</g>\n",
       "<!-- f -->\n",
       "<g id=\"node3\" class=\"node\"><title>f</title>\n",
       "<ellipse fill=\"none\" stroke=\"black\" cx=\"330.006\" cy=\"-127\" rx=\"61.5366\" ry=\"26.7407\"/>\n",
       "<text text-anchor=\"middle\" x=\"330.006\" y=\"-130.8\" font-family=\"Times,serif\" font-size=\"14.00\">source code</text>\n",
       "<text text-anchor=\"middle\" x=\"330.006\" y=\"-115.8\" font-family=\"Times,serif\" font-size=\"14.00\">frame model</text>\n",
       "</g>\n",
       "<!-- l&#45;&gt;f -->\n",
       "<g id=\"edge1\" class=\"edge\"><title>l&#45;&gt;f</title>\n",
       "<path fill=\"none\" stroke=\"black\" d=\"M117.112,-93.0986C153.662,-98.9463 214.613,-108.698 261.785,-116.245\"/>\n",
       "<polygon fill=\"black\" stroke=\"black\" points=\"261.504,-119.745 271.932,-117.869 262.61,-112.833 261.504,-119.745\"/>\n",
       "<text text-anchor=\"middle\" x=\"210.488\" y=\"-148.8\" font-family=\"Times,serif\" font-size=\"14.00\">C# Java *SQL</text>\n",
       "<text text-anchor=\"middle\" x=\"210.488\" y=\"-133.8\" font-family=\"Times,serif\" font-size=\"14.00\">Delphi 1C</text>\n",
       "<text text-anchor=\"middle\" x=\"210.488\" y=\"-118.8\" font-family=\"Times,serif\" font-size=\"14.00\">C++/Makefile</text>\n",
       "</g>\n",
       "<!-- x -->\n",
       "<g id=\"node2\" class=\"node\"><title>x</title>\n",
       "<ellipse fill=\"none\" stroke=\"black\" cx=\"84.2439\" cy=\"-34\" rx=\"68.4888\" ry=\"18\"/>\n",
       "<text text-anchor=\"middle\" x=\"84.2439\" y=\"-30.3\" font-family=\"Times,serif\" font-size=\"14.00\">next gen system</text>\n",
       "</g>\n",
       "<!-- t -->\n",
       "<g id=\"node4\" class=\"node\"><title>t</title>\n",
       "<ellipse fill=\"none\" stroke=\"black\" cx=\"695.649\" cy=\"-127\" rx=\"72.25\" ry=\"26.7407\"/>\n",
       "<text text-anchor=\"middle\" x=\"695.649\" y=\"-130.8\" font-family=\"Times,serif\" font-size=\"14.00\">analysis and</text>\n",
       "<text text-anchor=\"middle\" x=\"695.649\" y=\"-115.8\" font-family=\"Times,serif\" font-size=\"14.00\">transformations</text>\n",
       "</g>\n",
       "<!-- f&#45;&gt;t -->\n",
       "<g id=\"edge2\" class=\"edge\"><title>f&#45;&gt;t</title>\n",
       "<path fill=\"none\" stroke=\"black\" d=\"M391.872,-127C452.547,-127 546.112,-127 613.168,-127\"/>\n",
       "<polygon fill=\"black\" stroke=\"black\" points=\"613.277,-130.5 623.277,-127 613.277,-123.5 613.277,-130.5\"/>\n",
       "<text text-anchor=\"middle\" x=\"507.524\" y=\"-145.8\" font-family=\"Times,serif\" font-size=\"14.00\">frame graph</text>\n",
       "<text text-anchor=\"middle\" x=\"507.524\" y=\"-130.8\" font-family=\"Times,serif\" font-size=\"14.00\">knowledge database</text>\n",
       "</g>\n",
       "<!-- s -->\n",
       "<g id=\"node5\" class=\"node\"><title>s</title>\n",
       "<ellipse fill=\"none\" stroke=\"black\" cx=\"880.435\" cy=\"-92\" rx=\"75.8212\" ry=\"48.1667\"/>\n",
       "<text text-anchor=\"middle\" x=\"880.435\" y=\"-110.8\" font-family=\"Times,serif\" font-size=\"14.00\">submodel</text>\n",
       "<text text-anchor=\"middle\" x=\"880.435\" y=\"-95.8\" font-family=\"Times,serif\" font-size=\"14.00\"> in synthesizable</text>\n",
       "<text text-anchor=\"middle\" x=\"880.435\" y=\"-80.8\" font-family=\"Times,serif\" font-size=\"14.00\"> executable data</text>\n",
       "<text text-anchor=\"middle\" x=\"880.435\" y=\"-65.8\" font-family=\"Times,serif\" font-size=\"14.00\"> subset</text>\n",
       "</g>\n",
       "<!-- t&#45;&gt;s -->\n",
       "<g id=\"edge3\" class=\"edge\"><title>t&#45;&gt;s</title>\n",
       "<path fill=\"none\" stroke=\"black\" d=\"M760.066,-114.857C772.189,-112.536 785.038,-110.075 797.642,-107.662\"/>\n",
       "<polygon fill=\"black\" stroke=\"black\" points=\"798.514,-111.058 807.678,-105.74 797.198,-104.183 798.514,-111.058\"/>\n",
       "</g>\n",
       "<!-- s&#45;&gt;l -->\n",
       "<g id=\"edge4\" class=\"edge\"><title>s&#45;&gt;l</title>\n",
       "<path fill=\"none\" stroke=\"black\" d=\"M804.657,-91.2832C792.335,-91.1786 779.697,-91.0796 767.774,-91 526.097,-89.3867 236.278,-88.4398 128.432,-88.1215\"/>\n",
       "<polygon fill=\"black\" stroke=\"black\" points=\"128.282,-84.6212 118.272,-88.0918 128.262,-91.6211 128.282,-84.6212\"/>\n",
       "<text text-anchor=\"middle\" x=\"507.524\" y=\"-94.8\" font-family=\"Times,serif\" font-size=\"14.00\">source code and autogenerated tests</text>\n",
       "</g>\n",
       "</g>\n",
       "</svg>\n"
      ],
      "text/plain": [
       "<graphviz.dot.Digraph at 0x7f32d0db4a20>"
      ]
     },
     "execution_count": 42,
     "metadata": {},
     "output_type": "execute_result"
    }
   ],
   "source": [
    "#from graphviz import Digraph\n",
    "dot = Digraph() ; dot.attr(rankdir='LR',size='10,5')\n",
    "with dot.subgraph(name='cluster_0') as dotc:\n",
    "    dotc.node('l','legacy')\n",
    "    dotc.node('x','next gen system')\n",
    "dot.node('f','source code\\nframe model')\n",
    "dot.edge('l','f',label='C# Java *SQL\\nDelphi 1C\\nC++/Makefile')\n",
    "dot.node('t','analysis and\\ntransformations')\n",
    "dot.edge('f','t','frame graph\\nknowledge database')\n",
    "dot.node('s','submodel\\n in synthesizable\\n executable data\\n subset')\n",
    "dot.edge('t','s')\n",
    "dot.edge('s','l','source code and autogenerated tests')\n",
    "#dot.edge('s','x')\n",
    "dot"
   ]
  }
 ],
 "metadata": {
  "kernelspec": {
   "display_name": "Python 3",
   "language": "python",
   "name": "python3"
  },
  "language_info": {
   "codemirror_mode": {
    "name": "ipython",
    "version": 3
   },
   "file_extension": ".py",
   "mimetype": "text/x-python",
   "name": "python",
   "nbconvert_exporter": "python",
   "pygments_lexer": "ipython3",
   "version": "3.5.3"
  }
 },
 "nbformat": 4,
 "nbformat_minor": 2
}
